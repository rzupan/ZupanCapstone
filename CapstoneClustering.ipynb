{
 "cells": [
  {
   "cell_type": "code",
   "execution_count": 1,
   "metadata": {},
   "outputs": [],
   "source": [
    "import time\n",
    "import dill\n",
    "import pandas as pd\n",
    "import numpy as np\n",
    "import math\n",
    "from matplotlib import pylab as plt\n",
    "from sklearn.cluster import KMeans\n",
    "from ipywidgets import interact"
   ]
  },
  {
   "cell_type": "code",
   "execution_count": 2,
   "metadata": {},
   "outputs": [],
   "source": [
    "import dill\n",
    "outL = dill.load(open('outlierCrash.pkd','rb'))"
   ]
  },
  {
   "cell_type": "code",
   "execution_count": 3,
   "metadata": {},
   "outputs": [
    {
     "name": "stdout",
     "output_type": "stream",
     "text": [
      "0\n",
      "0.07774686813354492\n"
     ]
    },
    {
     "name": "stderr",
     "output_type": "stream",
     "text": [
      "<ipython-input-3-cec4cce8d91e>:37: ConvergenceWarning: Number of distinct clusters (3) found smaller than n_clusters (5). Possibly due to duplicate points in X.\n",
      "  km2.fit(X2)\n"
     ]
    },
    {
     "name": "stdout",
     "output_type": "stream",
     "text": [
      "100\n",
      "5.158949136734009\n"
     ]
    },
    {
     "name": "stderr",
     "output_type": "stream",
     "text": [
      "<ipython-input-3-cec4cce8d91e>:37: ConvergenceWarning: Number of distinct clusters (4) found smaller than n_clusters (5). Possibly due to duplicate points in X.\n",
      "  km2.fit(X2)\n",
      "<ipython-input-3-cec4cce8d91e>:37: ConvergenceWarning: Number of distinct clusters (4) found smaller than n_clusters (5). Possibly due to duplicate points in X.\n",
      "  km2.fit(X2)\n",
      "<ipython-input-3-cec4cce8d91e>:37: ConvergenceWarning: Number of distinct clusters (3) found smaller than n_clusters (5). Possibly due to duplicate points in X.\n",
      "  km2.fit(X2)\n",
      "<ipython-input-3-cec4cce8d91e>:37: ConvergenceWarning: Number of distinct clusters (3) found smaller than n_clusters (5). Possibly due to duplicate points in X.\n",
      "  km2.fit(X2)\n",
      "<ipython-input-3-cec4cce8d91e>:37: ConvergenceWarning: Number of distinct clusters (4) found smaller than n_clusters (5). Possibly due to duplicate points in X.\n",
      "  km2.fit(X2)\n",
      "<ipython-input-3-cec4cce8d91e>:37: ConvergenceWarning: Number of distinct clusters (4) found smaller than n_clusters (5). Possibly due to duplicate points in X.\n",
      "  km2.fit(X2)\n"
     ]
    },
    {
     "name": "stdout",
     "output_type": "stream",
     "text": [
      "200\n",
      "10.460664987564087\n"
     ]
    },
    {
     "name": "stderr",
     "output_type": "stream",
     "text": [
      "<ipython-input-3-cec4cce8d91e>:37: ConvergenceWarning: Number of distinct clusters (4) found smaller than n_clusters (5). Possibly due to duplicate points in X.\n",
      "  km2.fit(X2)\n",
      "<ipython-input-3-cec4cce8d91e>:37: ConvergenceWarning: Number of distinct clusters (4) found smaller than n_clusters (5). Possibly due to duplicate points in X.\n",
      "  km2.fit(X2)\n",
      "<ipython-input-3-cec4cce8d91e>:37: ConvergenceWarning: Number of distinct clusters (4) found smaller than n_clusters (5). Possibly due to duplicate points in X.\n",
      "  km2.fit(X2)\n",
      "<ipython-input-3-cec4cce8d91e>:37: ConvergenceWarning: Number of distinct clusters (3) found smaller than n_clusters (5). Possibly due to duplicate points in X.\n",
      "  km2.fit(X2)\n",
      "<ipython-input-3-cec4cce8d91e>:37: ConvergenceWarning: Number of distinct clusters (4) found smaller than n_clusters (5). Possibly due to duplicate points in X.\n",
      "  km2.fit(X2)\n",
      "<ipython-input-3-cec4cce8d91e>:37: ConvergenceWarning: Number of distinct clusters (4) found smaller than n_clusters (5). Possibly due to duplicate points in X.\n",
      "  km2.fit(X2)\n"
     ]
    },
    {
     "name": "stdout",
     "output_type": "stream",
     "text": [
      "300\n",
      "15.510308980941772\n"
     ]
    },
    {
     "name": "stderr",
     "output_type": "stream",
     "text": [
      "<ipython-input-3-cec4cce8d91e>:37: ConvergenceWarning: Number of distinct clusters (3) found smaller than n_clusters (5). Possibly due to duplicate points in X.\n",
      "  km2.fit(X2)\n",
      "<ipython-input-3-cec4cce8d91e>:37: ConvergenceWarning: Number of distinct clusters (4) found smaller than n_clusters (5). Possibly due to duplicate points in X.\n",
      "  km2.fit(X2)\n",
      "<ipython-input-3-cec4cce8d91e>:37: ConvergenceWarning: Number of distinct clusters (4) found smaller than n_clusters (5). Possibly due to duplicate points in X.\n",
      "  km2.fit(X2)\n",
      "<ipython-input-3-cec4cce8d91e>:37: ConvergenceWarning: Number of distinct clusters (4) found smaller than n_clusters (5). Possibly due to duplicate points in X.\n",
      "  km2.fit(X2)\n"
     ]
    },
    {
     "name": "stdout",
     "output_type": "stream",
     "text": [
      "400\n",
      "20.506593227386475\n"
     ]
    },
    {
     "name": "stderr",
     "output_type": "stream",
     "text": [
      "<ipython-input-3-cec4cce8d91e>:37: ConvergenceWarning: Number of distinct clusters (3) found smaller than n_clusters (5). Possibly due to duplicate points in X.\n",
      "  km2.fit(X2)\n",
      "<ipython-input-3-cec4cce8d91e>:37: ConvergenceWarning: Number of distinct clusters (3) found smaller than n_clusters (5). Possibly due to duplicate points in X.\n",
      "  km2.fit(X2)\n",
      "<ipython-input-3-cec4cce8d91e>:37: ConvergenceWarning: Number of distinct clusters (4) found smaller than n_clusters (5). Possibly due to duplicate points in X.\n",
      "  km2.fit(X2)\n",
      "<ipython-input-3-cec4cce8d91e>:37: ConvergenceWarning: Number of distinct clusters (4) found smaller than n_clusters (5). Possibly due to duplicate points in X.\n",
      "  km2.fit(X2)\n",
      "<ipython-input-3-cec4cce8d91e>:37: ConvergenceWarning: Number of distinct clusters (3) found smaller than n_clusters (5). Possibly due to duplicate points in X.\n",
      "  km2.fit(X2)\n",
      "<ipython-input-3-cec4cce8d91e>:37: ConvergenceWarning: Number of distinct clusters (4) found smaller than n_clusters (5). Possibly due to duplicate points in X.\n",
      "  km2.fit(X2)\n"
     ]
    },
    {
     "name": "stdout",
     "output_type": "stream",
     "text": [
      "500\n",
      "25.728598833084106\n"
     ]
    },
    {
     "name": "stderr",
     "output_type": "stream",
     "text": [
      "<ipython-input-3-cec4cce8d91e>:37: ConvergenceWarning: Number of distinct clusters (4) found smaller than n_clusters (5). Possibly due to duplicate points in X.\n",
      "  km2.fit(X2)\n",
      "<ipython-input-3-cec4cce8d91e>:37: ConvergenceWarning: Number of distinct clusters (4) found smaller than n_clusters (5). Possibly due to duplicate points in X.\n",
      "  km2.fit(X2)\n",
      "<ipython-input-3-cec4cce8d91e>:37: ConvergenceWarning: Number of distinct clusters (4) found smaller than n_clusters (5). Possibly due to duplicate points in X.\n",
      "  km2.fit(X2)\n",
      "<ipython-input-3-cec4cce8d91e>:37: ConvergenceWarning: Number of distinct clusters (2) found smaller than n_clusters (5). Possibly due to duplicate points in X.\n",
      "  km2.fit(X2)\n",
      "<ipython-input-3-cec4cce8d91e>:37: ConvergenceWarning: Number of distinct clusters (4) found smaller than n_clusters (5). Possibly due to duplicate points in X.\n",
      "  km2.fit(X2)\n",
      "<ipython-input-3-cec4cce8d91e>:37: ConvergenceWarning: Number of distinct clusters (4) found smaller than n_clusters (5). Possibly due to duplicate points in X.\n",
      "  km2.fit(X2)\n"
     ]
    },
    {
     "name": "stdout",
     "output_type": "stream",
     "text": [
      "600\n",
      "30.670389652252197\n"
     ]
    },
    {
     "name": "stderr",
     "output_type": "stream",
     "text": [
      "<ipython-input-3-cec4cce8d91e>:37: ConvergenceWarning: Number of distinct clusters (4) found smaller than n_clusters (5). Possibly due to duplicate points in X.\n",
      "  km2.fit(X2)\n",
      "<ipython-input-3-cec4cce8d91e>:37: ConvergenceWarning: Number of distinct clusters (4) found smaller than n_clusters (5). Possibly due to duplicate points in X.\n",
      "  km2.fit(X2)\n",
      "<ipython-input-3-cec4cce8d91e>:37: ConvergenceWarning: Number of distinct clusters (3) found smaller than n_clusters (5). Possibly due to duplicate points in X.\n",
      "  km2.fit(X2)\n",
      "<ipython-input-3-cec4cce8d91e>:37: ConvergenceWarning: Number of distinct clusters (3) found smaller than n_clusters (5). Possibly due to duplicate points in X.\n",
      "  km2.fit(X2)\n",
      "<ipython-input-3-cec4cce8d91e>:37: ConvergenceWarning: Number of distinct clusters (3) found smaller than n_clusters (5). Possibly due to duplicate points in X.\n",
      "  km2.fit(X2)\n",
      "<ipython-input-3-cec4cce8d91e>:37: ConvergenceWarning: Number of distinct clusters (2) found smaller than n_clusters (5). Possibly due to duplicate points in X.\n",
      "  km2.fit(X2)\n",
      "<ipython-input-3-cec4cce8d91e>:37: ConvergenceWarning: Number of distinct clusters (3) found smaller than n_clusters (5). Possibly due to duplicate points in X.\n",
      "  km2.fit(X2)\n"
     ]
    },
    {
     "name": "stdout",
     "output_type": "stream",
     "text": [
      "700\n",
      "35.57470202445984\n"
     ]
    },
    {
     "name": "stderr",
     "output_type": "stream",
     "text": [
      "<ipython-input-3-cec4cce8d91e>:37: ConvergenceWarning: Number of distinct clusters (4) found smaller than n_clusters (5). Possibly due to duplicate points in X.\n",
      "  km2.fit(X2)\n",
      "<ipython-input-3-cec4cce8d91e>:37: ConvergenceWarning: Number of distinct clusters (4) found smaller than n_clusters (5). Possibly due to duplicate points in X.\n",
      "  km2.fit(X2)\n",
      "<ipython-input-3-cec4cce8d91e>:37: ConvergenceWarning: Number of distinct clusters (4) found smaller than n_clusters (5). Possibly due to duplicate points in X.\n",
      "  km2.fit(X2)\n"
     ]
    },
    {
     "name": "stdout",
     "output_type": "stream",
     "text": [
      "800\n",
      "40.3451292514801\n"
     ]
    },
    {
     "name": "stderr",
     "output_type": "stream",
     "text": [
      "<ipython-input-3-cec4cce8d91e>:37: ConvergenceWarning: Number of distinct clusters (3) found smaller than n_clusters (5). Possibly due to duplicate points in X.\n",
      "  km2.fit(X2)\n",
      "<ipython-input-3-cec4cce8d91e>:37: ConvergenceWarning: Number of distinct clusters (3) found smaller than n_clusters (5). Possibly due to duplicate points in X.\n",
      "  km2.fit(X2)\n",
      "<ipython-input-3-cec4cce8d91e>:37: ConvergenceWarning: Number of distinct clusters (3) found smaller than n_clusters (5). Possibly due to duplicate points in X.\n",
      "  km2.fit(X2)\n",
      "<ipython-input-3-cec4cce8d91e>:37: ConvergenceWarning: Number of distinct clusters (4) found smaller than n_clusters (5). Possibly due to duplicate points in X.\n",
      "  km2.fit(X2)\n",
      "<ipython-input-3-cec4cce8d91e>:37: ConvergenceWarning: Number of distinct clusters (4) found smaller than n_clusters (5). Possibly due to duplicate points in X.\n",
      "  km2.fit(X2)\n",
      "<ipython-input-3-cec4cce8d91e>:37: ConvergenceWarning: Number of distinct clusters (2) found smaller than n_clusters (5). Possibly due to duplicate points in X.\n",
      "  km2.fit(X2)\n",
      "<ipython-input-3-cec4cce8d91e>:37: ConvergenceWarning: Number of distinct clusters (3) found smaller than n_clusters (5). Possibly due to duplicate points in X.\n",
      "  km2.fit(X2)\n",
      "<ipython-input-3-cec4cce8d91e>:37: ConvergenceWarning: Number of distinct clusters (4) found smaller than n_clusters (5). Possibly due to duplicate points in X.\n",
      "  km2.fit(X2)\n",
      "<ipython-input-3-cec4cce8d91e>:37: ConvergenceWarning: Number of distinct clusters (3) found smaller than n_clusters (5). Possibly due to duplicate points in X.\n",
      "  km2.fit(X2)\n"
     ]
    },
    {
     "name": "stdout",
     "output_type": "stream",
     "text": [
      "900\n",
      "44.90337538719177\n"
     ]
    },
    {
     "name": "stderr",
     "output_type": "stream",
     "text": [
      "<ipython-input-3-cec4cce8d91e>:37: ConvergenceWarning: Number of distinct clusters (4) found smaller than n_clusters (5). Possibly due to duplicate points in X.\n",
      "  km2.fit(X2)\n",
      "<ipython-input-3-cec4cce8d91e>:37: ConvergenceWarning: Number of distinct clusters (4) found smaller than n_clusters (5). Possibly due to duplicate points in X.\n",
      "  km2.fit(X2)\n",
      "<ipython-input-3-cec4cce8d91e>:37: ConvergenceWarning: Number of distinct clusters (4) found smaller than n_clusters (5). Possibly due to duplicate points in X.\n",
      "  km2.fit(X2)\n",
      "<ipython-input-3-cec4cce8d91e>:37: ConvergenceWarning: Number of distinct clusters (2) found smaller than n_clusters (5). Possibly due to duplicate points in X.\n",
      "  km2.fit(X2)\n",
      "<ipython-input-3-cec4cce8d91e>:37: ConvergenceWarning: Number of distinct clusters (3) found smaller than n_clusters (5). Possibly due to duplicate points in X.\n",
      "  km2.fit(X2)\n",
      "<ipython-input-3-cec4cce8d91e>:37: ConvergenceWarning: Number of distinct clusters (4) found smaller than n_clusters (5). Possibly due to duplicate points in X.\n",
      "  km2.fit(X2)\n",
      "<ipython-input-3-cec4cce8d91e>:37: ConvergenceWarning: Number of distinct clusters (4) found smaller than n_clusters (5). Possibly due to duplicate points in X.\n",
      "  km2.fit(X2)\n",
      "<ipython-input-3-cec4cce8d91e>:37: ConvergenceWarning: Number of distinct clusters (4) found smaller than n_clusters (5). Possibly due to duplicate points in X.\n",
      "  km2.fit(X2)\n",
      "<ipython-input-3-cec4cce8d91e>:37: ConvergenceWarning: Number of distinct clusters (4) found smaller than n_clusters (5). Possibly due to duplicate points in X.\n",
      "  km2.fit(X2)\n",
      "<ipython-input-3-cec4cce8d91e>:37: ConvergenceWarning: Number of distinct clusters (4) found smaller than n_clusters (5). Possibly due to duplicate points in X.\n",
      "  km2.fit(X2)\n",
      "<ipython-input-3-cec4cce8d91e>:37: ConvergenceWarning: Number of distinct clusters (4) found smaller than n_clusters (5). Possibly due to duplicate points in X.\n",
      "  km2.fit(X2)\n"
     ]
    },
    {
     "name": "stdout",
     "output_type": "stream",
     "text": [
      "1000\n",
      "49.45903420448303\n"
     ]
    },
    {
     "name": "stderr",
     "output_type": "stream",
     "text": [
      "<ipython-input-3-cec4cce8d91e>:37: ConvergenceWarning: Number of distinct clusters (4) found smaller than n_clusters (5). Possibly due to duplicate points in X.\n",
      "  km2.fit(X2)\n",
      "<ipython-input-3-cec4cce8d91e>:37: ConvergenceWarning: Number of distinct clusters (4) found smaller than n_clusters (5). Possibly due to duplicate points in X.\n",
      "  km2.fit(X2)\n",
      "<ipython-input-3-cec4cce8d91e>:37: ConvergenceWarning: Number of distinct clusters (2) found smaller than n_clusters (5). Possibly due to duplicate points in X.\n",
      "  km2.fit(X2)\n"
     ]
    },
    {
     "name": "stdout",
     "output_type": "stream",
     "text": [
      "1100\n",
      "54.03986477851868\n"
     ]
    },
    {
     "name": "stderr",
     "output_type": "stream",
     "text": [
      "<ipython-input-3-cec4cce8d91e>:37: ConvergenceWarning: Number of distinct clusters (3) found smaller than n_clusters (5). Possibly due to duplicate points in X.\n",
      "  km2.fit(X2)\n",
      "<ipython-input-3-cec4cce8d91e>:37: ConvergenceWarning: Number of distinct clusters (4) found smaller than n_clusters (5). Possibly due to duplicate points in X.\n",
      "  km2.fit(X2)\n",
      "<ipython-input-3-cec4cce8d91e>:37: ConvergenceWarning: Number of distinct clusters (4) found smaller than n_clusters (5). Possibly due to duplicate points in X.\n",
      "  km2.fit(X2)\n",
      "<ipython-input-3-cec4cce8d91e>:37: ConvergenceWarning: Number of distinct clusters (4) found smaller than n_clusters (5). Possibly due to duplicate points in X.\n",
      "  km2.fit(X2)\n",
      "<ipython-input-3-cec4cce8d91e>:37: ConvergenceWarning: Number of distinct clusters (4) found smaller than n_clusters (5). Possibly due to duplicate points in X.\n",
      "  km2.fit(X2)\n",
      "<ipython-input-3-cec4cce8d91e>:37: ConvergenceWarning: Number of distinct clusters (4) found smaller than n_clusters (5). Possibly due to duplicate points in X.\n",
      "  km2.fit(X2)\n",
      "<ipython-input-3-cec4cce8d91e>:37: ConvergenceWarning: Number of distinct clusters (3) found smaller than n_clusters (5). Possibly due to duplicate points in X.\n",
      "  km2.fit(X2)\n",
      "<ipython-input-3-cec4cce8d91e>:37: ConvergenceWarning: Number of distinct clusters (3) found smaller than n_clusters (5). Possibly due to duplicate points in X.\n",
      "  km2.fit(X2)\n"
     ]
    },
    {
     "name": "stdout",
     "output_type": "stream",
     "text": [
      "1200\n",
      "58.54991030693054\n"
     ]
    },
    {
     "name": "stderr",
     "output_type": "stream",
     "text": [
      "<ipython-input-3-cec4cce8d91e>:37: ConvergenceWarning: Number of distinct clusters (4) found smaller than n_clusters (5). Possibly due to duplicate points in X.\n",
      "  km2.fit(X2)\n",
      "<ipython-input-3-cec4cce8d91e>:37: ConvergenceWarning: Number of distinct clusters (3) found smaller than n_clusters (5). Possibly due to duplicate points in X.\n",
      "  km2.fit(X2)\n",
      "<ipython-input-3-cec4cce8d91e>:37: ConvergenceWarning: Number of distinct clusters (3) found smaller than n_clusters (5). Possibly due to duplicate points in X.\n",
      "  km2.fit(X2)\n",
      "<ipython-input-3-cec4cce8d91e>:37: ConvergenceWarning: Number of distinct clusters (3) found smaller than n_clusters (5). Possibly due to duplicate points in X.\n",
      "  km2.fit(X2)\n",
      "<ipython-input-3-cec4cce8d91e>:37: ConvergenceWarning: Number of distinct clusters (3) found smaller than n_clusters (5). Possibly due to duplicate points in X.\n",
      "  km2.fit(X2)\n",
      "<ipython-input-3-cec4cce8d91e>:37: ConvergenceWarning: Number of distinct clusters (4) found smaller than n_clusters (5). Possibly due to duplicate points in X.\n",
      "  km2.fit(X2)\n",
      "<ipython-input-3-cec4cce8d91e>:37: ConvergenceWarning: Number of distinct clusters (2) found smaller than n_clusters (5). Possibly due to duplicate points in X.\n",
      "  km2.fit(X2)\n",
      "<ipython-input-3-cec4cce8d91e>:37: ConvergenceWarning: Number of distinct clusters (4) found smaller than n_clusters (5). Possibly due to duplicate points in X.\n",
      "  km2.fit(X2)\n"
     ]
    },
    {
     "name": "stdout",
     "output_type": "stream",
     "text": [
      "1300\n",
      "63.064276695251465\n"
     ]
    },
    {
     "name": "stderr",
     "output_type": "stream",
     "text": [
      "<ipython-input-3-cec4cce8d91e>:37: ConvergenceWarning: Number of distinct clusters (4) found smaller than n_clusters (5). Possibly due to duplicate points in X.\n",
      "  km2.fit(X2)\n",
      "<ipython-input-3-cec4cce8d91e>:37: ConvergenceWarning: Number of distinct clusters (3) found smaller than n_clusters (5). Possibly due to duplicate points in X.\n",
      "  km2.fit(X2)\n",
      "<ipython-input-3-cec4cce8d91e>:37: ConvergenceWarning: Number of distinct clusters (4) found smaller than n_clusters (5). Possibly due to duplicate points in X.\n",
      "  km2.fit(X2)\n",
      "<ipython-input-3-cec4cce8d91e>:37: ConvergenceWarning: Number of distinct clusters (4) found smaller than n_clusters (5). Possibly due to duplicate points in X.\n",
      "  km2.fit(X2)\n",
      "<ipython-input-3-cec4cce8d91e>:37: ConvergenceWarning: Number of distinct clusters (3) found smaller than n_clusters (5). Possibly due to duplicate points in X.\n",
      "  km2.fit(X2)\n",
      "<ipython-input-3-cec4cce8d91e>:37: ConvergenceWarning: Number of distinct clusters (4) found smaller than n_clusters (5). Possibly due to duplicate points in X.\n",
      "  km2.fit(X2)\n",
      "<ipython-input-3-cec4cce8d91e>:37: ConvergenceWarning: Number of distinct clusters (4) found smaller than n_clusters (5). Possibly due to duplicate points in X.\n",
      "  km2.fit(X2)\n",
      "<ipython-input-3-cec4cce8d91e>:37: ConvergenceWarning: Number of distinct clusters (3) found smaller than n_clusters (5). Possibly due to duplicate points in X.\n",
      "  km2.fit(X2)\n",
      "<ipython-input-3-cec4cce8d91e>:37: ConvergenceWarning: Number of distinct clusters (3) found smaller than n_clusters (5). Possibly due to duplicate points in X.\n",
      "  km2.fit(X2)\n",
      "<ipython-input-3-cec4cce8d91e>:37: ConvergenceWarning: Number of distinct clusters (2) found smaller than n_clusters (5). Possibly due to duplicate points in X.\n",
      "  km2.fit(X2)\n",
      "<ipython-input-3-cec4cce8d91e>:37: ConvergenceWarning: Number of distinct clusters (4) found smaller than n_clusters (5). Possibly due to duplicate points in X.\n",
      "  km2.fit(X2)\n"
     ]
    },
    {
     "name": "stdout",
     "output_type": "stream",
     "text": [
      "1400\n",
      "67.48147869110107\n"
     ]
    },
    {
     "name": "stderr",
     "output_type": "stream",
     "text": [
      "<ipython-input-3-cec4cce8d91e>:37: ConvergenceWarning: Number of distinct clusters (4) found smaller than n_clusters (5). Possibly due to duplicate points in X.\n",
      "  km2.fit(X2)\n",
      "<ipython-input-3-cec4cce8d91e>:37: ConvergenceWarning: Number of distinct clusters (4) found smaller than n_clusters (5). Possibly due to duplicate points in X.\n",
      "  km2.fit(X2)\n",
      "<ipython-input-3-cec4cce8d91e>:37: ConvergenceWarning: Number of distinct clusters (1) found smaller than n_clusters (5). Possibly due to duplicate points in X.\n",
      "  km2.fit(X2)\n",
      "<ipython-input-3-cec4cce8d91e>:37: ConvergenceWarning: Number of distinct clusters (1) found smaller than n_clusters (5). Possibly due to duplicate points in X.\n",
      "  km2.fit(X2)\n"
     ]
    },
    {
     "name": "stdout",
     "output_type": "stream",
     "text": [
      "1500\n",
      "74.80225610733032\n"
     ]
    },
    {
     "name": "stderr",
     "output_type": "stream",
     "text": [
      "<ipython-input-3-cec4cce8d91e>:37: ConvergenceWarning: Number of distinct clusters (1) found smaller than n_clusters (5). Possibly due to duplicate points in X.\n",
      "  km2.fit(X2)\n",
      "<ipython-input-3-cec4cce8d91e>:37: ConvergenceWarning: Number of distinct clusters (4) found smaller than n_clusters (5). Possibly due to duplicate points in X.\n",
      "  km2.fit(X2)\n"
     ]
    },
    {
     "name": "stdout",
     "output_type": "stream",
     "text": [
      "1600\n",
      "82.32932233810425\n"
     ]
    },
    {
     "name": "stderr",
     "output_type": "stream",
     "text": [
      "<ipython-input-3-cec4cce8d91e>:37: ConvergenceWarning: Number of distinct clusters (1) found smaller than n_clusters (5). Possibly due to duplicate points in X.\n",
      "  km2.fit(X2)\n",
      "<ipython-input-3-cec4cce8d91e>:37: ConvergenceWarning: Number of distinct clusters (4) found smaller than n_clusters (5). Possibly due to duplicate points in X.\n",
      "  km2.fit(X2)\n"
     ]
    },
    {
     "name": "stdout",
     "output_type": "stream",
     "text": [
      "1700\n",
      "90.00934195518494\n"
     ]
    },
    {
     "name": "stderr",
     "output_type": "stream",
     "text": [
      "<ipython-input-3-cec4cce8d91e>:37: ConvergenceWarning: Number of distinct clusters (1) found smaller than n_clusters (5). Possibly due to duplicate points in X.\n",
      "  km2.fit(X2)\n",
      "<ipython-input-3-cec4cce8d91e>:37: ConvergenceWarning: Number of distinct clusters (1) found smaller than n_clusters (5). Possibly due to duplicate points in X.\n",
      "  km2.fit(X2)\n",
      "<ipython-input-3-cec4cce8d91e>:37: ConvergenceWarning: Number of distinct clusters (1) found smaller than n_clusters (5). Possibly due to duplicate points in X.\n",
      "  km2.fit(X2)\n"
     ]
    },
    {
     "name": "stdout",
     "output_type": "stream",
     "text": [
      "1800\n",
      "97.26954412460327\n",
      "1900\n",
      "103.69646978378296\n"
     ]
    },
    {
     "name": "stderr",
     "output_type": "stream",
     "text": [
      "<ipython-input-3-cec4cce8d91e>:37: ConvergenceWarning: Number of distinct clusters (1) found smaller than n_clusters (5). Possibly due to duplicate points in X.\n",
      "  km2.fit(X2)\n",
      "<ipython-input-3-cec4cce8d91e>:37: ConvergenceWarning: Number of distinct clusters (4) found smaller than n_clusters (5). Possibly due to duplicate points in X.\n",
      "  km2.fit(X2)\n",
      "<ipython-input-3-cec4cce8d91e>:37: ConvergenceWarning: Number of distinct clusters (1) found smaller than n_clusters (5). Possibly due to duplicate points in X.\n",
      "  km2.fit(X2)\n",
      "<ipython-input-3-cec4cce8d91e>:37: ConvergenceWarning: Number of distinct clusters (4) found smaller than n_clusters (5). Possibly due to duplicate points in X.\n",
      "  km2.fit(X2)\n",
      "<ipython-input-3-cec4cce8d91e>:37: ConvergenceWarning: Number of distinct clusters (1) found smaller than n_clusters (5). Possibly due to duplicate points in X.\n",
      "  km2.fit(X2)\n"
     ]
    },
    {
     "name": "stdout",
     "output_type": "stream",
     "text": [
      "2000\n",
      "110.41400051116943\n"
     ]
    },
    {
     "name": "stderr",
     "output_type": "stream",
     "text": [
      "<ipython-input-3-cec4cce8d91e>:37: ConvergenceWarning: Number of distinct clusters (1) found smaller than n_clusters (5). Possibly due to duplicate points in X.\n",
      "  km2.fit(X2)\n",
      "<ipython-input-3-cec4cce8d91e>:37: ConvergenceWarning: Number of distinct clusters (1) found smaller than n_clusters (5). Possibly due to duplicate points in X.\n",
      "  km2.fit(X2)\n",
      "<ipython-input-3-cec4cce8d91e>:37: ConvergenceWarning: Number of distinct clusters (4) found smaller than n_clusters (5). Possibly due to duplicate points in X.\n",
      "  km2.fit(X2)\n",
      "<ipython-input-3-cec4cce8d91e>:37: ConvergenceWarning: Number of distinct clusters (2) found smaller than n_clusters (5). Possibly due to duplicate points in X.\n",
      "  km2.fit(X2)\n"
     ]
    },
    {
     "name": "stdout",
     "output_type": "stream",
     "text": [
      "2100\n",
      "116.17804527282715\n"
     ]
    },
    {
     "name": "stderr",
     "output_type": "stream",
     "text": [
      "<ipython-input-3-cec4cce8d91e>:37: ConvergenceWarning: Number of distinct clusters (1) found smaller than n_clusters (5). Possibly due to duplicate points in X.\n",
      "  km2.fit(X2)\n",
      "<ipython-input-3-cec4cce8d91e>:37: ConvergenceWarning: Number of distinct clusters (1) found smaller than n_clusters (5). Possibly due to duplicate points in X.\n",
      "  km2.fit(X2)\n",
      "<ipython-input-3-cec4cce8d91e>:37: ConvergenceWarning: Number of distinct clusters (4) found smaller than n_clusters (5). Possibly due to duplicate points in X.\n",
      "  km2.fit(X2)\n",
      "<ipython-input-3-cec4cce8d91e>:37: ConvergenceWarning: Number of distinct clusters (1) found smaller than n_clusters (5). Possibly due to duplicate points in X.\n",
      "  km2.fit(X2)\n"
     ]
    },
    {
     "name": "stdout",
     "output_type": "stream",
     "text": [
      "2200\n",
      "121.98114609718323\n"
     ]
    },
    {
     "name": "stderr",
     "output_type": "stream",
     "text": [
      "<ipython-input-3-cec4cce8d91e>:37: ConvergenceWarning: Number of distinct clusters (4) found smaller than n_clusters (5). Possibly due to duplicate points in X.\n",
      "  km2.fit(X2)\n",
      "<ipython-input-3-cec4cce8d91e>:37: ConvergenceWarning: Number of distinct clusters (3) found smaller than n_clusters (5). Possibly due to duplicate points in X.\n",
      "  km2.fit(X2)\n",
      "<ipython-input-3-cec4cce8d91e>:37: ConvergenceWarning: Number of distinct clusters (1) found smaller than n_clusters (5). Possibly due to duplicate points in X.\n",
      "  km2.fit(X2)\n",
      "<ipython-input-3-cec4cce8d91e>:37: ConvergenceWarning: Number of distinct clusters (3) found smaller than n_clusters (5). Possibly due to duplicate points in X.\n",
      "  km2.fit(X2)\n",
      "<ipython-input-3-cec4cce8d91e>:37: ConvergenceWarning: Number of distinct clusters (4) found smaller than n_clusters (5). Possibly due to duplicate points in X.\n",
      "  km2.fit(X2)\n"
     ]
    },
    {
     "name": "stdout",
     "output_type": "stream",
     "text": [
      "2300\n",
      "127.31443977355957\n"
     ]
    },
    {
     "name": "stderr",
     "output_type": "stream",
     "text": [
      "<ipython-input-3-cec4cce8d91e>:37: ConvergenceWarning: Number of distinct clusters (4) found smaller than n_clusters (5). Possibly due to duplicate points in X.\n",
      "  km2.fit(X2)\n",
      "<ipython-input-3-cec4cce8d91e>:37: ConvergenceWarning: Number of distinct clusters (1) found smaller than n_clusters (5). Possibly due to duplicate points in X.\n",
      "  km2.fit(X2)\n",
      "<ipython-input-3-cec4cce8d91e>:37: ConvergenceWarning: Number of distinct clusters (1) found smaller than n_clusters (5). Possibly due to duplicate points in X.\n",
      "  km2.fit(X2)\n",
      "<ipython-input-3-cec4cce8d91e>:37: ConvergenceWarning: Number of distinct clusters (4) found smaller than n_clusters (5). Possibly due to duplicate points in X.\n",
      "  km2.fit(X2)\n",
      "<ipython-input-3-cec4cce8d91e>:37: ConvergenceWarning: Number of distinct clusters (4) found smaller than n_clusters (5). Possibly due to duplicate points in X.\n",
      "  km2.fit(X2)\n",
      "<ipython-input-3-cec4cce8d91e>:37: ConvergenceWarning: Number of distinct clusters (1) found smaller than n_clusters (5). Possibly due to duplicate points in X.\n",
      "  km2.fit(X2)\n",
      "<ipython-input-3-cec4cce8d91e>:37: ConvergenceWarning: Number of distinct clusters (2) found smaller than n_clusters (5). Possibly due to duplicate points in X.\n",
      "  km2.fit(X2)\n"
     ]
    },
    {
     "name": "stdout",
     "output_type": "stream",
     "text": [
      "2400\n",
      "132.63318872451782\n"
     ]
    },
    {
     "name": "stderr",
     "output_type": "stream",
     "text": [
      "<ipython-input-3-cec4cce8d91e>:37: ConvergenceWarning: Number of distinct clusters (4) found smaller than n_clusters (5). Possibly due to duplicate points in X.\n",
      "  km2.fit(X2)\n",
      "<ipython-input-3-cec4cce8d91e>:37: ConvergenceWarning: Number of distinct clusters (1) found smaller than n_clusters (5). Possibly due to duplicate points in X.\n",
      "  km2.fit(X2)\n",
      "<ipython-input-3-cec4cce8d91e>:37: ConvergenceWarning: Number of distinct clusters (1) found smaller than n_clusters (5). Possibly due to duplicate points in X.\n",
      "  km2.fit(X2)\n",
      "<ipython-input-3-cec4cce8d91e>:37: ConvergenceWarning: Number of distinct clusters (3) found smaller than n_clusters (5). Possibly due to duplicate points in X.\n",
      "  km2.fit(X2)\n",
      "<ipython-input-3-cec4cce8d91e>:37: ConvergenceWarning: Number of distinct clusters (4) found smaller than n_clusters (5). Possibly due to duplicate points in X.\n",
      "  km2.fit(X2)\n"
     ]
    },
    {
     "name": "stdout",
     "output_type": "stream",
     "text": [
      "2500\n",
      "137.78959250450134\n"
     ]
    },
    {
     "name": "stderr",
     "output_type": "stream",
     "text": [
      "<ipython-input-3-cec4cce8d91e>:37: ConvergenceWarning: Number of distinct clusters (3) found smaller than n_clusters (5). Possibly due to duplicate points in X.\n",
      "  km2.fit(X2)\n",
      "<ipython-input-3-cec4cce8d91e>:37: ConvergenceWarning: Number of distinct clusters (2) found smaller than n_clusters (5). Possibly due to duplicate points in X.\n",
      "  km2.fit(X2)\n",
      "<ipython-input-3-cec4cce8d91e>:37: ConvergenceWarning: Number of distinct clusters (1) found smaller than n_clusters (5). Possibly due to duplicate points in X.\n",
      "  km2.fit(X2)\n",
      "<ipython-input-3-cec4cce8d91e>:37: ConvergenceWarning: Number of distinct clusters (4) found smaller than n_clusters (5). Possibly due to duplicate points in X.\n",
      "  km2.fit(X2)\n",
      "<ipython-input-3-cec4cce8d91e>:37: ConvergenceWarning: Number of distinct clusters (4) found smaller than n_clusters (5). Possibly due to duplicate points in X.\n",
      "  km2.fit(X2)\n",
      "<ipython-input-3-cec4cce8d91e>:37: ConvergenceWarning: Number of distinct clusters (1) found smaller than n_clusters (5). Possibly due to duplicate points in X.\n",
      "  km2.fit(X2)\n",
      "<ipython-input-3-cec4cce8d91e>:37: ConvergenceWarning: Number of distinct clusters (1) found smaller than n_clusters (5). Possibly due to duplicate points in X.\n",
      "  km2.fit(X2)\n"
     ]
    },
    {
     "name": "stdout",
     "output_type": "stream",
     "text": [
      "2600\n",
      "143.11760258674622\n"
     ]
    },
    {
     "name": "stderr",
     "output_type": "stream",
     "text": [
      "<ipython-input-3-cec4cce8d91e>:37: ConvergenceWarning: Number of distinct clusters (3) found smaller than n_clusters (5). Possibly due to duplicate points in X.\n",
      "  km2.fit(X2)\n",
      "<ipython-input-3-cec4cce8d91e>:37: ConvergenceWarning: Number of distinct clusters (2) found smaller than n_clusters (5). Possibly due to duplicate points in X.\n",
      "  km2.fit(X2)\n",
      "<ipython-input-3-cec4cce8d91e>:37: ConvergenceWarning: Number of distinct clusters (4) found smaller than n_clusters (5). Possibly due to duplicate points in X.\n",
      "  km2.fit(X2)\n",
      "<ipython-input-3-cec4cce8d91e>:37: ConvergenceWarning: Number of distinct clusters (4) found smaller than n_clusters (5). Possibly due to duplicate points in X.\n",
      "  km2.fit(X2)\n",
      "<ipython-input-3-cec4cce8d91e>:37: ConvergenceWarning: Number of distinct clusters (4) found smaller than n_clusters (5). Possibly due to duplicate points in X.\n",
      "  km2.fit(X2)\n"
     ]
    },
    {
     "name": "stdout",
     "output_type": "stream",
     "text": [
      "2700\n",
      "147.89996767044067\n"
     ]
    },
    {
     "name": "stderr",
     "output_type": "stream",
     "text": [
      "<ipython-input-3-cec4cce8d91e>:37: ConvergenceWarning: Number of distinct clusters (1) found smaller than n_clusters (5). Possibly due to duplicate points in X.\n",
      "  km2.fit(X2)\n",
      "<ipython-input-3-cec4cce8d91e>:37: ConvergenceWarning: Number of distinct clusters (1) found smaller than n_clusters (5). Possibly due to duplicate points in X.\n",
      "  km2.fit(X2)\n",
      "<ipython-input-3-cec4cce8d91e>:37: ConvergenceWarning: Number of distinct clusters (3) found smaller than n_clusters (5). Possibly due to duplicate points in X.\n",
      "  km2.fit(X2)\n"
     ]
    },
    {
     "name": "stdout",
     "output_type": "stream",
     "text": [
      "2800\n",
      "152.6200737953186\n"
     ]
    },
    {
     "name": "stderr",
     "output_type": "stream",
     "text": [
      "<ipython-input-3-cec4cce8d91e>:37: ConvergenceWarning: Number of distinct clusters (1) found smaller than n_clusters (5). Possibly due to duplicate points in X.\n",
      "  km2.fit(X2)\n",
      "<ipython-input-3-cec4cce8d91e>:37: ConvergenceWarning: Number of distinct clusters (1) found smaller than n_clusters (5). Possibly due to duplicate points in X.\n",
      "  km2.fit(X2)\n",
      "<ipython-input-3-cec4cce8d91e>:37: ConvergenceWarning: Number of distinct clusters (4) found smaller than n_clusters (5). Possibly due to duplicate points in X.\n",
      "  km2.fit(X2)\n",
      "<ipython-input-3-cec4cce8d91e>:37: ConvergenceWarning: Number of distinct clusters (1) found smaller than n_clusters (5). Possibly due to duplicate points in X.\n",
      "  km2.fit(X2)\n",
      "<ipython-input-3-cec4cce8d91e>:37: ConvergenceWarning: Number of distinct clusters (4) found smaller than n_clusters (5). Possibly due to duplicate points in X.\n",
      "  km2.fit(X2)\n",
      "<ipython-input-3-cec4cce8d91e>:37: ConvergenceWarning: Number of distinct clusters (4) found smaller than n_clusters (5). Possibly due to duplicate points in X.\n",
      "  km2.fit(X2)\n",
      "<ipython-input-3-cec4cce8d91e>:37: ConvergenceWarning: Number of distinct clusters (3) found smaller than n_clusters (5). Possibly due to duplicate points in X.\n",
      "  km2.fit(X2)\n",
      "<ipython-input-3-cec4cce8d91e>:37: ConvergenceWarning: Number of distinct clusters (3) found smaller than n_clusters (5). Possibly due to duplicate points in X.\n",
      "  km2.fit(X2)\n",
      "<ipython-input-3-cec4cce8d91e>:37: ConvergenceWarning: Number of distinct clusters (4) found smaller than n_clusters (5). Possibly due to duplicate points in X.\n",
      "  km2.fit(X2)\n",
      "<ipython-input-3-cec4cce8d91e>:37: ConvergenceWarning: Number of distinct clusters (4) found smaller than n_clusters (5). Possibly due to duplicate points in X.\n",
      "  km2.fit(X2)\n"
     ]
    },
    {
     "name": "stdout",
     "output_type": "stream",
     "text": [
      "2900\n",
      "157.4171085357666\n"
     ]
    },
    {
     "name": "stderr",
     "output_type": "stream",
     "text": [
      "<ipython-input-3-cec4cce8d91e>:37: ConvergenceWarning: Number of distinct clusters (3) found smaller than n_clusters (5). Possibly due to duplicate points in X.\n",
      "  km2.fit(X2)\n",
      "<ipython-input-3-cec4cce8d91e>:37: ConvergenceWarning: Number of distinct clusters (4) found smaller than n_clusters (5). Possibly due to duplicate points in X.\n",
      "  km2.fit(X2)\n",
      "<ipython-input-3-cec4cce8d91e>:37: ConvergenceWarning: Number of distinct clusters (4) found smaller than n_clusters (5). Possibly due to duplicate points in X.\n",
      "  km2.fit(X2)\n",
      "<ipython-input-3-cec4cce8d91e>:37: ConvergenceWarning: Number of distinct clusters (4) found smaller than n_clusters (5). Possibly due to duplicate points in X.\n",
      "  km2.fit(X2)\n",
      "<ipython-input-3-cec4cce8d91e>:37: ConvergenceWarning: Number of distinct clusters (3) found smaller than n_clusters (5). Possibly due to duplicate points in X.\n",
      "  km2.fit(X2)\n"
     ]
    },
    {
     "name": "stdout",
     "output_type": "stream",
     "text": [
      "3000\n",
      "161.95690417289734\n"
     ]
    },
    {
     "name": "stderr",
     "output_type": "stream",
     "text": [
      "<ipython-input-3-cec4cce8d91e>:37: ConvergenceWarning: Number of distinct clusters (4) found smaller than n_clusters (5). Possibly due to duplicate points in X.\n",
      "  km2.fit(X2)\n",
      "<ipython-input-3-cec4cce8d91e>:37: ConvergenceWarning: Number of distinct clusters (3) found smaller than n_clusters (5). Possibly due to duplicate points in X.\n",
      "  km2.fit(X2)\n"
     ]
    },
    {
     "name": "stdout",
     "output_type": "stream",
     "text": [
      "3100\n",
      "166.74490547180176\n"
     ]
    },
    {
     "name": "stderr",
     "output_type": "stream",
     "text": [
      "<ipython-input-3-cec4cce8d91e>:37: ConvergenceWarning: Number of distinct clusters (4) found smaller than n_clusters (5). Possibly due to duplicate points in X.\n",
      "  km2.fit(X2)\n",
      "<ipython-input-3-cec4cce8d91e>:37: ConvergenceWarning: Number of distinct clusters (4) found smaller than n_clusters (5). Possibly due to duplicate points in X.\n",
      "  km2.fit(X2)\n",
      "<ipython-input-3-cec4cce8d91e>:37: ConvergenceWarning: Number of distinct clusters (3) found smaller than n_clusters (5). Possibly due to duplicate points in X.\n",
      "  km2.fit(X2)\n",
      "<ipython-input-3-cec4cce8d91e>:37: ConvergenceWarning: Number of distinct clusters (4) found smaller than n_clusters (5). Possibly due to duplicate points in X.\n",
      "  km2.fit(X2)\n"
     ]
    },
    {
     "name": "stdout",
     "output_type": "stream",
     "text": [
      "3200\n",
      "171.24818778038025\n"
     ]
    },
    {
     "name": "stderr",
     "output_type": "stream",
     "text": [
      "<ipython-input-3-cec4cce8d91e>:37: ConvergenceWarning: Number of distinct clusters (4) found smaller than n_clusters (5). Possibly due to duplicate points in X.\n",
      "  km2.fit(X2)\n",
      "<ipython-input-3-cec4cce8d91e>:37: ConvergenceWarning: Number of distinct clusters (4) found smaller than n_clusters (5). Possibly due to duplicate points in X.\n",
      "  km2.fit(X2)\n",
      "<ipython-input-3-cec4cce8d91e>:37: ConvergenceWarning: Number of distinct clusters (4) found smaller than n_clusters (5). Possibly due to duplicate points in X.\n",
      "  km2.fit(X2)\n",
      "<ipython-input-3-cec4cce8d91e>:37: ConvergenceWarning: Number of distinct clusters (3) found smaller than n_clusters (5). Possibly due to duplicate points in X.\n",
      "  km2.fit(X2)\n",
      "<ipython-input-3-cec4cce8d91e>:37: ConvergenceWarning: Number of distinct clusters (4) found smaller than n_clusters (5). Possibly due to duplicate points in X.\n",
      "  km2.fit(X2)\n",
      "<ipython-input-3-cec4cce8d91e>:37: ConvergenceWarning: Number of distinct clusters (3) found smaller than n_clusters (5). Possibly due to duplicate points in X.\n",
      "  km2.fit(X2)\n",
      "<ipython-input-3-cec4cce8d91e>:37: ConvergenceWarning: Number of distinct clusters (2) found smaller than n_clusters (5). Possibly due to duplicate points in X.\n",
      "  km2.fit(X2)\n",
      "<ipython-input-3-cec4cce8d91e>:37: ConvergenceWarning: Number of distinct clusters (1) found smaller than n_clusters (5). Possibly due to duplicate points in X.\n",
      "  km2.fit(X2)\n",
      "<ipython-input-3-cec4cce8d91e>:37: ConvergenceWarning: Number of distinct clusters (4) found smaller than n_clusters (5). Possibly due to duplicate points in X.\n",
      "  km2.fit(X2)\n"
     ]
    },
    {
     "name": "stdout",
     "output_type": "stream",
     "text": [
      "3300\n",
      "175.85294580459595\n"
     ]
    },
    {
     "name": "stderr",
     "output_type": "stream",
     "text": [
      "<ipython-input-3-cec4cce8d91e>:37: ConvergenceWarning: Number of distinct clusters (1) found smaller than n_clusters (5). Possibly due to duplicate points in X.\n",
      "  km2.fit(X2)\n",
      "<ipython-input-3-cec4cce8d91e>:37: ConvergenceWarning: Number of distinct clusters (4) found smaller than n_clusters (5). Possibly due to duplicate points in X.\n",
      "  km2.fit(X2)\n",
      "<ipython-input-3-cec4cce8d91e>:37: ConvergenceWarning: Number of distinct clusters (4) found smaller than n_clusters (5). Possibly due to duplicate points in X.\n",
      "  km2.fit(X2)\n",
      "<ipython-input-3-cec4cce8d91e>:37: ConvergenceWarning: Number of distinct clusters (4) found smaller than n_clusters (5). Possibly due to duplicate points in X.\n",
      "  km2.fit(X2)\n",
      "<ipython-input-3-cec4cce8d91e>:37: ConvergenceWarning: Number of distinct clusters (4) found smaller than n_clusters (5). Possibly due to duplicate points in X.\n",
      "  km2.fit(X2)\n",
      "<ipython-input-3-cec4cce8d91e>:37: ConvergenceWarning: Number of distinct clusters (2) found smaller than n_clusters (5). Possibly due to duplicate points in X.\n",
      "  km2.fit(X2)\n",
      "<ipython-input-3-cec4cce8d91e>:37: ConvergenceWarning: Number of distinct clusters (4) found smaller than n_clusters (5). Possibly due to duplicate points in X.\n",
      "  km2.fit(X2)\n"
     ]
    },
    {
     "name": "stdout",
     "output_type": "stream",
     "text": [
      "3400\n",
      "180.5858018398285\n"
     ]
    },
    {
     "name": "stderr",
     "output_type": "stream",
     "text": [
      "<ipython-input-3-cec4cce8d91e>:37: ConvergenceWarning: Number of distinct clusters (4) found smaller than n_clusters (5). Possibly due to duplicate points in X.\n",
      "  km2.fit(X2)\n",
      "<ipython-input-3-cec4cce8d91e>:37: ConvergenceWarning: Number of distinct clusters (3) found smaller than n_clusters (5). Possibly due to duplicate points in X.\n",
      "  km2.fit(X2)\n",
      "<ipython-input-3-cec4cce8d91e>:37: ConvergenceWarning: Number of distinct clusters (4) found smaller than n_clusters (5). Possibly due to duplicate points in X.\n",
      "  km2.fit(X2)\n",
      "<ipython-input-3-cec4cce8d91e>:37: ConvergenceWarning: Number of distinct clusters (3) found smaller than n_clusters (5). Possibly due to duplicate points in X.\n",
      "  km2.fit(X2)\n",
      "<ipython-input-3-cec4cce8d91e>:37: ConvergenceWarning: Number of distinct clusters (4) found smaller than n_clusters (5). Possibly due to duplicate points in X.\n",
      "  km2.fit(X2)\n",
      "<ipython-input-3-cec4cce8d91e>:37: ConvergenceWarning: Number of distinct clusters (2) found smaller than n_clusters (5). Possibly due to duplicate points in X.\n",
      "  km2.fit(X2)\n"
     ]
    },
    {
     "name": "stdout",
     "output_type": "stream",
     "text": [
      "3500\n",
      "186.4265956878662\n"
     ]
    },
    {
     "name": "stderr",
     "output_type": "stream",
     "text": [
      "<ipython-input-3-cec4cce8d91e>:37: ConvergenceWarning: Number of distinct clusters (3) found smaller than n_clusters (5). Possibly due to duplicate points in X.\n",
      "  km2.fit(X2)\n",
      "<ipython-input-3-cec4cce8d91e>:37: ConvergenceWarning: Number of distinct clusters (3) found smaller than n_clusters (5). Possibly due to duplicate points in X.\n",
      "  km2.fit(X2)\n",
      "<ipython-input-3-cec4cce8d91e>:37: ConvergenceWarning: Number of distinct clusters (4) found smaller than n_clusters (5). Possibly due to duplicate points in X.\n",
      "  km2.fit(X2)\n"
     ]
    },
    {
     "name": "stdout",
     "output_type": "stream",
     "text": [
      "3600\n",
      "192.7160017490387\n"
     ]
    },
    {
     "name": "stderr",
     "output_type": "stream",
     "text": [
      "<ipython-input-3-cec4cce8d91e>:37: ConvergenceWarning: Number of distinct clusters (4) found smaller than n_clusters (5). Possibly due to duplicate points in X.\n",
      "  km2.fit(X2)\n",
      "<ipython-input-3-cec4cce8d91e>:37: ConvergenceWarning: Number of distinct clusters (3) found smaller than n_clusters (5). Possibly due to duplicate points in X.\n",
      "  km2.fit(X2)\n",
      "<ipython-input-3-cec4cce8d91e>:37: ConvergenceWarning: Number of distinct clusters (3) found smaller than n_clusters (5). Possibly due to duplicate points in X.\n",
      "  km2.fit(X2)\n",
      "<ipython-input-3-cec4cce8d91e>:37: ConvergenceWarning: Number of distinct clusters (4) found smaller than n_clusters (5). Possibly due to duplicate points in X.\n",
      "  km2.fit(X2)\n",
      "<ipython-input-3-cec4cce8d91e>:37: ConvergenceWarning: Number of distinct clusters (3) found smaller than n_clusters (5). Possibly due to duplicate points in X.\n",
      "  km2.fit(X2)\n"
     ]
    },
    {
     "name": "stdout",
     "output_type": "stream",
     "text": [
      "3700\n",
      "198.63804531097412\n"
     ]
    },
    {
     "name": "stderr",
     "output_type": "stream",
     "text": [
      "<ipython-input-3-cec4cce8d91e>:37: ConvergenceWarning: Number of distinct clusters (3) found smaller than n_clusters (5). Possibly due to duplicate points in X.\n",
      "  km2.fit(X2)\n",
      "<ipython-input-3-cec4cce8d91e>:37: ConvergenceWarning: Number of distinct clusters (4) found smaller than n_clusters (5). Possibly due to duplicate points in X.\n",
      "  km2.fit(X2)\n",
      "<ipython-input-3-cec4cce8d91e>:37: ConvergenceWarning: Number of distinct clusters (3) found smaller than n_clusters (5). Possibly due to duplicate points in X.\n",
      "  km2.fit(X2)\n",
      "<ipython-input-3-cec4cce8d91e>:37: ConvergenceWarning: Number of distinct clusters (4) found smaller than n_clusters (5). Possibly due to duplicate points in X.\n",
      "  km2.fit(X2)\n",
      "<ipython-input-3-cec4cce8d91e>:37: ConvergenceWarning: Number of distinct clusters (4) found smaller than n_clusters (5). Possibly due to duplicate points in X.\n",
      "  km2.fit(X2)\n",
      "<ipython-input-3-cec4cce8d91e>:37: ConvergenceWarning: Number of distinct clusters (4) found smaller than n_clusters (5). Possibly due to duplicate points in X.\n",
      "  km2.fit(X2)\n",
      "<ipython-input-3-cec4cce8d91e>:37: ConvergenceWarning: Number of distinct clusters (4) found smaller than n_clusters (5). Possibly due to duplicate points in X.\n",
      "  km2.fit(X2)\n",
      "<ipython-input-3-cec4cce8d91e>:37: ConvergenceWarning: Number of distinct clusters (3) found smaller than n_clusters (5). Possibly due to duplicate points in X.\n",
      "  km2.fit(X2)\n",
      "<ipython-input-3-cec4cce8d91e>:37: ConvergenceWarning: Number of distinct clusters (4) found smaller than n_clusters (5). Possibly due to duplicate points in X.\n",
      "  km2.fit(X2)\n",
      "<ipython-input-3-cec4cce8d91e>:37: ConvergenceWarning: Number of distinct clusters (3) found smaller than n_clusters (5). Possibly due to duplicate points in X.\n",
      "  km2.fit(X2)\n",
      "<ipython-input-3-cec4cce8d91e>:37: ConvergenceWarning: Number of distinct clusters (2) found smaller than n_clusters (5). Possibly due to duplicate points in X.\n",
      "  km2.fit(X2)\n",
      "<ipython-input-3-cec4cce8d91e>:37: ConvergenceWarning: Number of distinct clusters (2) found smaller than n_clusters (5). Possibly due to duplicate points in X.\n",
      "  km2.fit(X2)\n",
      "<ipython-input-3-cec4cce8d91e>:37: ConvergenceWarning: Number of distinct clusters (3) found smaller than n_clusters (5). Possibly due to duplicate points in X.\n",
      "  km2.fit(X2)\n",
      "<ipython-input-3-cec4cce8d91e>:37: ConvergenceWarning: Number of distinct clusters (2) found smaller than n_clusters (5). Possibly due to duplicate points in X.\n",
      "  km2.fit(X2)\n"
     ]
    },
    {
     "name": "stdout",
     "output_type": "stream",
     "text": [
      "3800\n",
      "203.8072144985199\n"
     ]
    },
    {
     "name": "stderr",
     "output_type": "stream",
     "text": [
      "<ipython-input-3-cec4cce8d91e>:37: ConvergenceWarning: Number of distinct clusters (3) found smaller than n_clusters (5). Possibly due to duplicate points in X.\n",
      "  km2.fit(X2)\n",
      "<ipython-input-3-cec4cce8d91e>:37: ConvergenceWarning: Number of distinct clusters (2) found smaller than n_clusters (5). Possibly due to duplicate points in X.\n",
      "  km2.fit(X2)\n",
      "<ipython-input-3-cec4cce8d91e>:37: ConvergenceWarning: Number of distinct clusters (2) found smaller than n_clusters (5). Possibly due to duplicate points in X.\n",
      "  km2.fit(X2)\n",
      "<ipython-input-3-cec4cce8d91e>:37: ConvergenceWarning: Number of distinct clusters (3) found smaller than n_clusters (5). Possibly due to duplicate points in X.\n",
      "  km2.fit(X2)\n",
      "<ipython-input-3-cec4cce8d91e>:37: ConvergenceWarning: Number of distinct clusters (3) found smaller than n_clusters (5). Possibly due to duplicate points in X.\n",
      "  km2.fit(X2)\n",
      "<ipython-input-3-cec4cce8d91e>:37: ConvergenceWarning: Number of distinct clusters (4) found smaller than n_clusters (5). Possibly due to duplicate points in X.\n",
      "  km2.fit(X2)\n",
      "<ipython-input-3-cec4cce8d91e>:37: ConvergenceWarning: Number of distinct clusters (4) found smaller than n_clusters (5). Possibly due to duplicate points in X.\n",
      "  km2.fit(X2)\n",
      "<ipython-input-3-cec4cce8d91e>:37: ConvergenceWarning: Number of distinct clusters (4) found smaller than n_clusters (5). Possibly due to duplicate points in X.\n",
      "  km2.fit(X2)\n",
      "<ipython-input-3-cec4cce8d91e>:37: ConvergenceWarning: Number of distinct clusters (4) found smaller than n_clusters (5). Possibly due to duplicate points in X.\n",
      "  km2.fit(X2)\n",
      "<ipython-input-3-cec4cce8d91e>:37: ConvergenceWarning: Number of distinct clusters (3) found smaller than n_clusters (5). Possibly due to duplicate points in X.\n",
      "  km2.fit(X2)\n",
      "<ipython-input-3-cec4cce8d91e>:37: ConvergenceWarning: Number of distinct clusters (4) found smaller than n_clusters (5). Possibly due to duplicate points in X.\n",
      "  km2.fit(X2)\n",
      "<ipython-input-3-cec4cce8d91e>:37: ConvergenceWarning: Number of distinct clusters (3) found smaller than n_clusters (5). Possibly due to duplicate points in X.\n",
      "  km2.fit(X2)\n",
      "<ipython-input-3-cec4cce8d91e>:37: ConvergenceWarning: Number of distinct clusters (4) found smaller than n_clusters (5). Possibly due to duplicate points in X.\n",
      "  km2.fit(X2)\n",
      "<ipython-input-3-cec4cce8d91e>:37: ConvergenceWarning: Number of distinct clusters (3) found smaller than n_clusters (5). Possibly due to duplicate points in X.\n",
      "  km2.fit(X2)\n",
      "<ipython-input-3-cec4cce8d91e>:37: ConvergenceWarning: Number of distinct clusters (3) found smaller than n_clusters (5). Possibly due to duplicate points in X.\n",
      "  km2.fit(X2)\n"
     ]
    },
    {
     "name": "stdout",
     "output_type": "stream",
     "text": [
      "3900\n",
      "208.38644862174988\n"
     ]
    },
    {
     "name": "stderr",
     "output_type": "stream",
     "text": [
      "<ipython-input-3-cec4cce8d91e>:37: ConvergenceWarning: Number of distinct clusters (4) found smaller than n_clusters (5). Possibly due to duplicate points in X.\n",
      "  km2.fit(X2)\n",
      "<ipython-input-3-cec4cce8d91e>:37: ConvergenceWarning: Number of distinct clusters (4) found smaller than n_clusters (5). Possibly due to duplicate points in X.\n",
      "  km2.fit(X2)\n",
      "<ipython-input-3-cec4cce8d91e>:37: ConvergenceWarning: Number of distinct clusters (4) found smaller than n_clusters (5). Possibly due to duplicate points in X.\n",
      "  km2.fit(X2)\n",
      "<ipython-input-3-cec4cce8d91e>:37: ConvergenceWarning: Number of distinct clusters (4) found smaller than n_clusters (5). Possibly due to duplicate points in X.\n",
      "  km2.fit(X2)\n",
      "<ipython-input-3-cec4cce8d91e>:37: ConvergenceWarning: Number of distinct clusters (2) found smaller than n_clusters (5). Possibly due to duplicate points in X.\n",
      "  km2.fit(X2)\n",
      "<ipython-input-3-cec4cce8d91e>:37: ConvergenceWarning: Number of distinct clusters (1) found smaller than n_clusters (5). Possibly due to duplicate points in X.\n",
      "  km2.fit(X2)\n",
      "<ipython-input-3-cec4cce8d91e>:37: ConvergenceWarning: Number of distinct clusters (4) found smaller than n_clusters (5). Possibly due to duplicate points in X.\n",
      "  km2.fit(X2)\n",
      "<ipython-input-3-cec4cce8d91e>:37: ConvergenceWarning: Number of distinct clusters (3) found smaller than n_clusters (5). Possibly due to duplicate points in X.\n",
      "  km2.fit(X2)\n",
      "<ipython-input-3-cec4cce8d91e>:37: ConvergenceWarning: Number of distinct clusters (4) found smaller than n_clusters (5). Possibly due to duplicate points in X.\n",
      "  km2.fit(X2)\n",
      "<ipython-input-3-cec4cce8d91e>:37: ConvergenceWarning: Number of distinct clusters (2) found smaller than n_clusters (5). Possibly due to duplicate points in X.\n",
      "  km2.fit(X2)\n",
      "<ipython-input-3-cec4cce8d91e>:37: ConvergenceWarning: Number of distinct clusters (4) found smaller than n_clusters (5). Possibly due to duplicate points in X.\n",
      "  km2.fit(X2)\n",
      "<ipython-input-3-cec4cce8d91e>:37: ConvergenceWarning: Number of distinct clusters (2) found smaller than n_clusters (5). Possibly due to duplicate points in X.\n",
      "  km2.fit(X2)\n",
      "<ipython-input-3-cec4cce8d91e>:37: ConvergenceWarning: Number of distinct clusters (3) found smaller than n_clusters (5). Possibly due to duplicate points in X.\n",
      "  km2.fit(X2)\n",
      "<ipython-input-3-cec4cce8d91e>:37: ConvergenceWarning: Number of distinct clusters (4) found smaller than n_clusters (5). Possibly due to duplicate points in X.\n",
      "  km2.fit(X2)\n",
      "<ipython-input-3-cec4cce8d91e>:37: ConvergenceWarning: Number of distinct clusters (2) found smaller than n_clusters (5). Possibly due to duplicate points in X.\n",
      "  km2.fit(X2)\n",
      "<ipython-input-3-cec4cce8d91e>:37: ConvergenceWarning: Number of distinct clusters (3) found smaller than n_clusters (5). Possibly due to duplicate points in X.\n",
      "  km2.fit(X2)\n",
      "<ipython-input-3-cec4cce8d91e>:37: ConvergenceWarning: Number of distinct clusters (3) found smaller than n_clusters (5). Possibly due to duplicate points in X.\n",
      "  km2.fit(X2)\n"
     ]
    },
    {
     "name": "stdout",
     "output_type": "stream",
     "text": [
      "4000\n",
      "213.34312891960144\n",
      "4100\n",
      "219.8710277080536\n"
     ]
    },
    {
     "name": "stderr",
     "output_type": "stream",
     "text": [
      "<ipython-input-3-cec4cce8d91e>:37: ConvergenceWarning: Number of distinct clusters (4) found smaller than n_clusters (5). Possibly due to duplicate points in X.\n",
      "  km2.fit(X2)\n",
      "<ipython-input-3-cec4cce8d91e>:37: ConvergenceWarning: Number of distinct clusters (4) found smaller than n_clusters (5). Possibly due to duplicate points in X.\n",
      "  km2.fit(X2)\n"
     ]
    },
    {
     "name": "stdout",
     "output_type": "stream",
     "text": [
      "4200\n",
      "225.2124412059784\n"
     ]
    },
    {
     "name": "stderr",
     "output_type": "stream",
     "text": [
      "<ipython-input-3-cec4cce8d91e>:37: ConvergenceWarning: Number of distinct clusters (1) found smaller than n_clusters (5). Possibly due to duplicate points in X.\n",
      "  km2.fit(X2)\n",
      "<ipython-input-3-cec4cce8d91e>:37: ConvergenceWarning: Number of distinct clusters (3) found smaller than n_clusters (5). Possibly due to duplicate points in X.\n",
      "  km2.fit(X2)\n",
      "<ipython-input-3-cec4cce8d91e>:37: ConvergenceWarning: Number of distinct clusters (4) found smaller than n_clusters (5). Possibly due to duplicate points in X.\n",
      "  km2.fit(X2)\n",
      "<ipython-input-3-cec4cce8d91e>:37: ConvergenceWarning: Number of distinct clusters (4) found smaller than n_clusters (5). Possibly due to duplicate points in X.\n",
      "  km2.fit(X2)\n"
     ]
    },
    {
     "name": "stdout",
     "output_type": "stream",
     "text": [
      "4300\n",
      "230.10122752189636\n",
      "4400\n",
      "234.878249168396\n"
     ]
    },
    {
     "name": "stderr",
     "output_type": "stream",
     "text": [
      "<ipython-input-3-cec4cce8d91e>:37: ConvergenceWarning: Number of distinct clusters (3) found smaller than n_clusters (5). Possibly due to duplicate points in X.\n",
      "  km2.fit(X2)\n",
      "<ipython-input-3-cec4cce8d91e>:37: ConvergenceWarning: Number of distinct clusters (2) found smaller than n_clusters (5). Possibly due to duplicate points in X.\n",
      "  km2.fit(X2)\n"
     ]
    },
    {
     "name": "stdout",
     "output_type": "stream",
     "text": [
      "4500\n",
      "239.69975233078003\n",
      "4600\n",
      "244.3125457763672\n",
      "4700\n",
      "249.66541361808777\n"
     ]
    },
    {
     "name": "stderr",
     "output_type": "stream",
     "text": [
      "<ipython-input-3-cec4cce8d91e>:37: ConvergenceWarning: Number of distinct clusters (4) found smaller than n_clusters (5). Possibly due to duplicate points in X.\n",
      "  km2.fit(X2)\n"
     ]
    },
    {
     "name": "stdout",
     "output_type": "stream",
     "text": [
      "4800\n",
      "255.026184797287\n",
      "4900\n",
      "260.06217861175537\n"
     ]
    },
    {
     "name": "stderr",
     "output_type": "stream",
     "text": [
      "<ipython-input-3-cec4cce8d91e>:37: ConvergenceWarning: Number of distinct clusters (4) found smaller than n_clusters (5). Possibly due to duplicate points in X.\n",
      "  km2.fit(X2)\n"
     ]
    },
    {
     "name": "stdout",
     "output_type": "stream",
     "text": [
      "5000\n",
      "265.2335708141327\n",
      "5100\n",
      "271.11007833480835\n",
      "5200\n",
      "276.67883706092834\n"
     ]
    },
    {
     "name": "stderr",
     "output_type": "stream",
     "text": [
      "<ipython-input-3-cec4cce8d91e>:37: ConvergenceWarning: Number of distinct clusters (4) found smaller than n_clusters (5). Possibly due to duplicate points in X.\n",
      "  km2.fit(X2)\n"
     ]
    },
    {
     "name": "stdout",
     "output_type": "stream",
     "text": [
      "5300\n",
      "281.6570973396301\n"
     ]
    },
    {
     "name": "stderr",
     "output_type": "stream",
     "text": [
      "<ipython-input-3-cec4cce8d91e>:37: ConvergenceWarning: Number of distinct clusters (4) found smaller than n_clusters (5). Possibly due to duplicate points in X.\n",
      "  km2.fit(X2)\n"
     ]
    },
    {
     "name": "stdout",
     "output_type": "stream",
     "text": [
      "5400\n",
      "286.27194237709045\n"
     ]
    },
    {
     "name": "stderr",
     "output_type": "stream",
     "text": [
      "<ipython-input-3-cec4cce8d91e>:37: ConvergenceWarning: Number of distinct clusters (4) found smaller than n_clusters (5). Possibly due to duplicate points in X.\n",
      "  km2.fit(X2)\n",
      "<ipython-input-3-cec4cce8d91e>:37: ConvergenceWarning: Number of distinct clusters (2) found smaller than n_clusters (5). Possibly due to duplicate points in X.\n",
      "  km2.fit(X2)\n"
     ]
    },
    {
     "name": "stdout",
     "output_type": "stream",
     "text": [
      "5500\n",
      "290.9087698459625\n"
     ]
    },
    {
     "name": "stderr",
     "output_type": "stream",
     "text": [
      "<ipython-input-3-cec4cce8d91e>:37: ConvergenceWarning: Number of distinct clusters (4) found smaller than n_clusters (5). Possibly due to duplicate points in X.\n",
      "  km2.fit(X2)\n",
      "<ipython-input-3-cec4cce8d91e>:37: ConvergenceWarning: Number of distinct clusters (4) found smaller than n_clusters (5). Possibly due to duplicate points in X.\n",
      "  km2.fit(X2)\n",
      "<ipython-input-3-cec4cce8d91e>:37: ConvergenceWarning: Number of distinct clusters (3) found smaller than n_clusters (5). Possibly due to duplicate points in X.\n",
      "  km2.fit(X2)\n",
      "<ipython-input-3-cec4cce8d91e>:37: ConvergenceWarning: Number of distinct clusters (3) found smaller than n_clusters (5). Possibly due to duplicate points in X.\n",
      "  km2.fit(X2)\n"
     ]
    },
    {
     "name": "stdout",
     "output_type": "stream",
     "text": [
      "5600\n",
      "295.3485815525055\n"
     ]
    },
    {
     "name": "stderr",
     "output_type": "stream",
     "text": [
      "<ipython-input-3-cec4cce8d91e>:37: ConvergenceWarning: Number of distinct clusters (4) found smaller than n_clusters (5). Possibly due to duplicate points in X.\n",
      "  km2.fit(X2)\n",
      "<ipython-input-3-cec4cce8d91e>:37: ConvergenceWarning: Number of distinct clusters (4) found smaller than n_clusters (5). Possibly due to duplicate points in X.\n",
      "  km2.fit(X2)\n",
      "<ipython-input-3-cec4cce8d91e>:37: ConvergenceWarning: Number of distinct clusters (2) found smaller than n_clusters (5). Possibly due to duplicate points in X.\n",
      "  km2.fit(X2)\n",
      "<ipython-input-3-cec4cce8d91e>:37: ConvergenceWarning: Number of distinct clusters (3) found smaller than n_clusters (5). Possibly due to duplicate points in X.\n",
      "  km2.fit(X2)\n",
      "<ipython-input-3-cec4cce8d91e>:37: ConvergenceWarning: Number of distinct clusters (2) found smaller than n_clusters (5). Possibly due to duplicate points in X.\n",
      "  km2.fit(X2)\n"
     ]
    },
    {
     "name": "stdout",
     "output_type": "stream",
     "text": [
      "5700\n",
      "300.48811888694763\n"
     ]
    },
    {
     "name": "stderr",
     "output_type": "stream",
     "text": [
      "<ipython-input-3-cec4cce8d91e>:37: ConvergenceWarning: Number of distinct clusters (4) found smaller than n_clusters (5). Possibly due to duplicate points in X.\n",
      "  km2.fit(X2)\n",
      "<ipython-input-3-cec4cce8d91e>:37: ConvergenceWarning: Number of distinct clusters (3) found smaller than n_clusters (5). Possibly due to duplicate points in X.\n",
      "  km2.fit(X2)\n",
      "<ipython-input-3-cec4cce8d91e>:37: ConvergenceWarning: Number of distinct clusters (3) found smaller than n_clusters (5). Possibly due to duplicate points in X.\n",
      "  km2.fit(X2)\n",
      "<ipython-input-3-cec4cce8d91e>:37: ConvergenceWarning: Number of distinct clusters (2) found smaller than n_clusters (5). Possibly due to duplicate points in X.\n",
      "  km2.fit(X2)\n",
      "<ipython-input-3-cec4cce8d91e>:37: ConvergenceWarning: Number of distinct clusters (4) found smaller than n_clusters (5). Possibly due to duplicate points in X.\n",
      "  km2.fit(X2)\n",
      "<ipython-input-3-cec4cce8d91e>:37: ConvergenceWarning: Number of distinct clusters (2) found smaller than n_clusters (5). Possibly due to duplicate points in X.\n",
      "  km2.fit(X2)\n"
     ]
    },
    {
     "name": "stdout",
     "output_type": "stream",
     "text": [
      "5800\n",
      "305.41018652915955\n"
     ]
    },
    {
     "name": "stderr",
     "output_type": "stream",
     "text": [
      "<ipython-input-3-cec4cce8d91e>:37: ConvergenceWarning: Number of distinct clusters (4) found smaller than n_clusters (5). Possibly due to duplicate points in X.\n",
      "  km2.fit(X2)\n",
      "<ipython-input-3-cec4cce8d91e>:37: ConvergenceWarning: Number of distinct clusters (2) found smaller than n_clusters (5). Possibly due to duplicate points in X.\n",
      "  km2.fit(X2)\n",
      "<ipython-input-3-cec4cce8d91e>:37: ConvergenceWarning: Number of distinct clusters (3) found smaller than n_clusters (5). Possibly due to duplicate points in X.\n",
      "  km2.fit(X2)\n",
      "<ipython-input-3-cec4cce8d91e>:37: ConvergenceWarning: Number of distinct clusters (3) found smaller than n_clusters (5). Possibly due to duplicate points in X.\n",
      "  km2.fit(X2)\n",
      "<ipython-input-3-cec4cce8d91e>:37: ConvergenceWarning: Number of distinct clusters (2) found smaller than n_clusters (5). Possibly due to duplicate points in X.\n",
      "  km2.fit(X2)\n",
      "<ipython-input-3-cec4cce8d91e>:37: ConvergenceWarning: Number of distinct clusters (3) found smaller than n_clusters (5). Possibly due to duplicate points in X.\n",
      "  km2.fit(X2)\n",
      "<ipython-input-3-cec4cce8d91e>:37: ConvergenceWarning: Number of distinct clusters (1) found smaller than n_clusters (5). Possibly due to duplicate points in X.\n",
      "  km2.fit(X2)\n",
      "<ipython-input-3-cec4cce8d91e>:37: ConvergenceWarning: Number of distinct clusters (3) found smaller than n_clusters (5). Possibly due to duplicate points in X.\n",
      "  km2.fit(X2)\n",
      "<ipython-input-3-cec4cce8d91e>:37: ConvergenceWarning: Number of distinct clusters (4) found smaller than n_clusters (5). Possibly due to duplicate points in X.\n",
      "  km2.fit(X2)\n"
     ]
    },
    {
     "name": "stdout",
     "output_type": "stream",
     "text": [
      "5900\n",
      "310.1508481502533\n"
     ]
    },
    {
     "name": "stderr",
     "output_type": "stream",
     "text": [
      "<ipython-input-3-cec4cce8d91e>:37: ConvergenceWarning: Number of distinct clusters (3) found smaller than n_clusters (5). Possibly due to duplicate points in X.\n",
      "  km2.fit(X2)\n",
      "<ipython-input-3-cec4cce8d91e>:37: ConvergenceWarning: Number of distinct clusters (2) found smaller than n_clusters (5). Possibly due to duplicate points in X.\n",
      "  km2.fit(X2)\n",
      "<ipython-input-3-cec4cce8d91e>:37: ConvergenceWarning: Number of distinct clusters (3) found smaller than n_clusters (5). Possibly due to duplicate points in X.\n",
      "  km2.fit(X2)\n",
      "<ipython-input-3-cec4cce8d91e>:37: ConvergenceWarning: Number of distinct clusters (4) found smaller than n_clusters (5). Possibly due to duplicate points in X.\n",
      "  km2.fit(X2)\n",
      "<ipython-input-3-cec4cce8d91e>:37: ConvergenceWarning: Number of distinct clusters (3) found smaller than n_clusters (5). Possibly due to duplicate points in X.\n",
      "  km2.fit(X2)\n",
      "<ipython-input-3-cec4cce8d91e>:37: ConvergenceWarning: Number of distinct clusters (4) found smaller than n_clusters (5). Possibly due to duplicate points in X.\n",
      "  km2.fit(X2)\n",
      "<ipython-input-3-cec4cce8d91e>:37: ConvergenceWarning: Number of distinct clusters (4) found smaller than n_clusters (5). Possibly due to duplicate points in X.\n",
      "  km2.fit(X2)\n",
      "<ipython-input-3-cec4cce8d91e>:37: ConvergenceWarning: Number of distinct clusters (2) found smaller than n_clusters (5). Possibly due to duplicate points in X.\n",
      "  km2.fit(X2)\n",
      "<ipython-input-3-cec4cce8d91e>:37: ConvergenceWarning: Number of distinct clusters (4) found smaller than n_clusters (5). Possibly due to duplicate points in X.\n",
      "  km2.fit(X2)\n"
     ]
    },
    {
     "name": "stdout",
     "output_type": "stream",
     "text": [
      "6000\n",
      "314.66825580596924\n"
     ]
    },
    {
     "name": "stderr",
     "output_type": "stream",
     "text": [
      "<ipython-input-3-cec4cce8d91e>:37: ConvergenceWarning: Number of distinct clusters (3) found smaller than n_clusters (5). Possibly due to duplicate points in X.\n",
      "  km2.fit(X2)\n",
      "<ipython-input-3-cec4cce8d91e>:37: ConvergenceWarning: Number of distinct clusters (3) found smaller than n_clusters (5). Possibly due to duplicate points in X.\n",
      "  km2.fit(X2)\n",
      "<ipython-input-3-cec4cce8d91e>:37: ConvergenceWarning: Number of distinct clusters (2) found smaller than n_clusters (5). Possibly due to duplicate points in X.\n",
      "  km2.fit(X2)\n",
      "<ipython-input-3-cec4cce8d91e>:37: ConvergenceWarning: Number of distinct clusters (4) found smaller than n_clusters (5). Possibly due to duplicate points in X.\n",
      "  km2.fit(X2)\n",
      "<ipython-input-3-cec4cce8d91e>:37: ConvergenceWarning: Number of distinct clusters (4) found smaller than n_clusters (5). Possibly due to duplicate points in X.\n",
      "  km2.fit(X2)\n",
      "<ipython-input-3-cec4cce8d91e>:37: ConvergenceWarning: Number of distinct clusters (3) found smaller than n_clusters (5). Possibly due to duplicate points in X.\n",
      "  km2.fit(X2)\n"
     ]
    },
    {
     "name": "stdout",
     "output_type": "stream",
     "text": [
      "6100\n",
      "319.6104154586792\n"
     ]
    },
    {
     "name": "stderr",
     "output_type": "stream",
     "text": [
      "<ipython-input-3-cec4cce8d91e>:37: ConvergenceWarning: Number of distinct clusters (4) found smaller than n_clusters (5). Possibly due to duplicate points in X.\n",
      "  km2.fit(X2)\n",
      "<ipython-input-3-cec4cce8d91e>:37: ConvergenceWarning: Number of distinct clusters (3) found smaller than n_clusters (5). Possibly due to duplicate points in X.\n",
      "  km2.fit(X2)\n",
      "<ipython-input-3-cec4cce8d91e>:37: ConvergenceWarning: Number of distinct clusters (4) found smaller than n_clusters (5). Possibly due to duplicate points in X.\n",
      "  km2.fit(X2)\n"
     ]
    },
    {
     "name": "stdout",
     "output_type": "stream",
     "text": [
      "6200\n",
      "325.0935945510864\n",
      "6300\n",
      "330.5253677368164\n"
     ]
    },
    {
     "name": "stderr",
     "output_type": "stream",
     "text": [
      "<ipython-input-3-cec4cce8d91e>:37: ConvergenceWarning: Number of distinct clusters (4) found smaller than n_clusters (5). Possibly due to duplicate points in X.\n",
      "  km2.fit(X2)\n",
      "<ipython-input-3-cec4cce8d91e>:37: ConvergenceWarning: Number of distinct clusters (3) found smaller than n_clusters (5). Possibly due to duplicate points in X.\n",
      "  km2.fit(X2)\n",
      "<ipython-input-3-cec4cce8d91e>:37: ConvergenceWarning: Number of distinct clusters (4) found smaller than n_clusters (5). Possibly due to duplicate points in X.\n",
      "  km2.fit(X2)\n",
      "<ipython-input-3-cec4cce8d91e>:37: ConvergenceWarning: Number of distinct clusters (4) found smaller than n_clusters (5). Possibly due to duplicate points in X.\n",
      "  km2.fit(X2)\n",
      "<ipython-input-3-cec4cce8d91e>:37: ConvergenceWarning: Number of distinct clusters (4) found smaller than n_clusters (5). Possibly due to duplicate points in X.\n",
      "  km2.fit(X2)\n"
     ]
    },
    {
     "name": "stdout",
     "output_type": "stream",
     "text": [
      "6400\n",
      "335.5423860549927\n"
     ]
    },
    {
     "name": "stderr",
     "output_type": "stream",
     "text": [
      "<ipython-input-3-cec4cce8d91e>:37: ConvergenceWarning: Number of distinct clusters (4) found smaller than n_clusters (5). Possibly due to duplicate points in X.\n",
      "  km2.fit(X2)\n"
     ]
    },
    {
     "name": "stdout",
     "output_type": "stream",
     "text": [
      "6500\n",
      "340.30843925476074\n"
     ]
    },
    {
     "name": "stderr",
     "output_type": "stream",
     "text": [
      "<ipython-input-3-cec4cce8d91e>:37: ConvergenceWarning: Number of distinct clusters (4) found smaller than n_clusters (5). Possibly due to duplicate points in X.\n",
      "  km2.fit(X2)\n",
      "<ipython-input-3-cec4cce8d91e>:37: ConvergenceWarning: Number of distinct clusters (4) found smaller than n_clusters (5). Possibly due to duplicate points in X.\n",
      "  km2.fit(X2)\n"
     ]
    },
    {
     "name": "stdout",
     "output_type": "stream",
     "text": [
      "6600\n",
      "344.97753739356995\n"
     ]
    },
    {
     "name": "stderr",
     "output_type": "stream",
     "text": [
      "<ipython-input-3-cec4cce8d91e>:37: ConvergenceWarning: Number of distinct clusters (4) found smaller than n_clusters (5). Possibly due to duplicate points in X.\n",
      "  km2.fit(X2)\n",
      "<ipython-input-3-cec4cce8d91e>:37: ConvergenceWarning: Number of distinct clusters (4) found smaller than n_clusters (5). Possibly due to duplicate points in X.\n",
      "  km2.fit(X2)\n",
      "<ipython-input-3-cec4cce8d91e>:37: ConvergenceWarning: Number of distinct clusters (4) found smaller than n_clusters (5). Possibly due to duplicate points in X.\n",
      "  km2.fit(X2)\n",
      "<ipython-input-3-cec4cce8d91e>:37: ConvergenceWarning: Number of distinct clusters (3) found smaller than n_clusters (5). Possibly due to duplicate points in X.\n",
      "  km2.fit(X2)\n",
      "<ipython-input-3-cec4cce8d91e>:37: ConvergenceWarning: Number of distinct clusters (3) found smaller than n_clusters (5). Possibly due to duplicate points in X.\n",
      "  km2.fit(X2)\n",
      "<ipython-input-3-cec4cce8d91e>:37: ConvergenceWarning: Number of distinct clusters (4) found smaller than n_clusters (5). Possibly due to duplicate points in X.\n",
      "  km2.fit(X2)\n",
      "<ipython-input-3-cec4cce8d91e>:37: ConvergenceWarning: Number of distinct clusters (4) found smaller than n_clusters (5). Possibly due to duplicate points in X.\n",
      "  km2.fit(X2)\n",
      "<ipython-input-3-cec4cce8d91e>:37: ConvergenceWarning: Number of distinct clusters (4) found smaller than n_clusters (5). Possibly due to duplicate points in X.\n",
      "  km2.fit(X2)\n"
     ]
    },
    {
     "name": "stdout",
     "output_type": "stream",
     "text": [
      "6700\n",
      "349.6094470024109\n"
     ]
    },
    {
     "name": "stderr",
     "output_type": "stream",
     "text": [
      "<ipython-input-3-cec4cce8d91e>:37: ConvergenceWarning: Number of distinct clusters (4) found smaller than n_clusters (5). Possibly due to duplicate points in X.\n",
      "  km2.fit(X2)\n",
      "<ipython-input-3-cec4cce8d91e>:37: ConvergenceWarning: Number of distinct clusters (3) found smaller than n_clusters (5). Possibly due to duplicate points in X.\n",
      "  km2.fit(X2)\n",
      "<ipython-input-3-cec4cce8d91e>:37: ConvergenceWarning: Number of distinct clusters (4) found smaller than n_clusters (5). Possibly due to duplicate points in X.\n",
      "  km2.fit(X2)\n",
      "<ipython-input-3-cec4cce8d91e>:37: ConvergenceWarning: Number of distinct clusters (4) found smaller than n_clusters (5). Possibly due to duplicate points in X.\n",
      "  km2.fit(X2)\n",
      "<ipython-input-3-cec4cce8d91e>:37: ConvergenceWarning: Number of distinct clusters (4) found smaller than n_clusters (5). Possibly due to duplicate points in X.\n",
      "  km2.fit(X2)\n",
      "<ipython-input-3-cec4cce8d91e>:37: ConvergenceWarning: Number of distinct clusters (4) found smaller than n_clusters (5). Possibly due to duplicate points in X.\n",
      "  km2.fit(X2)\n"
     ]
    },
    {
     "name": "stdout",
     "output_type": "stream",
     "text": [
      "6800\n",
      "354.0353319644928\n"
     ]
    },
    {
     "name": "stderr",
     "output_type": "stream",
     "text": [
      "<ipython-input-3-cec4cce8d91e>:37: ConvergenceWarning: Number of distinct clusters (4) found smaller than n_clusters (5). Possibly due to duplicate points in X.\n",
      "  km2.fit(X2)\n",
      "<ipython-input-3-cec4cce8d91e>:37: ConvergenceWarning: Number of distinct clusters (4) found smaller than n_clusters (5). Possibly due to duplicate points in X.\n",
      "  km2.fit(X2)\n",
      "<ipython-input-3-cec4cce8d91e>:37: ConvergenceWarning: Number of distinct clusters (3) found smaller than n_clusters (5). Possibly due to duplicate points in X.\n",
      "  km2.fit(X2)\n",
      "<ipython-input-3-cec4cce8d91e>:37: ConvergenceWarning: Number of distinct clusters (4) found smaller than n_clusters (5). Possibly due to duplicate points in X.\n",
      "  km2.fit(X2)\n",
      "<ipython-input-3-cec4cce8d91e>:37: ConvergenceWarning: Number of distinct clusters (4) found smaller than n_clusters (5). Possibly due to duplicate points in X.\n",
      "  km2.fit(X2)\n",
      "<ipython-input-3-cec4cce8d91e>:37: ConvergenceWarning: Number of distinct clusters (4) found smaller than n_clusters (5). Possibly due to duplicate points in X.\n",
      "  km2.fit(X2)\n",
      "<ipython-input-3-cec4cce8d91e>:37: ConvergenceWarning: Number of distinct clusters (3) found smaller than n_clusters (5). Possibly due to duplicate points in X.\n",
      "  km2.fit(X2)\n"
     ]
    },
    {
     "name": "stdout",
     "output_type": "stream",
     "text": [
      "6900\n",
      "358.8123164176941\n"
     ]
    },
    {
     "name": "stderr",
     "output_type": "stream",
     "text": [
      "<ipython-input-3-cec4cce8d91e>:37: ConvergenceWarning: Number of distinct clusters (3) found smaller than n_clusters (5). Possibly due to duplicate points in X.\n",
      "  km2.fit(X2)\n",
      "<ipython-input-3-cec4cce8d91e>:37: ConvergenceWarning: Number of distinct clusters (4) found smaller than n_clusters (5). Possibly due to duplicate points in X.\n",
      "  km2.fit(X2)\n"
     ]
    },
    {
     "name": "stdout",
     "output_type": "stream",
     "text": [
      "7000\n",
      "363.7112958431244\n"
     ]
    },
    {
     "name": "stderr",
     "output_type": "stream",
     "text": [
      "<ipython-input-3-cec4cce8d91e>:37: ConvergenceWarning: Number of distinct clusters (4) found smaller than n_clusters (5). Possibly due to duplicate points in X.\n",
      "  km2.fit(X2)\n",
      "<ipython-input-3-cec4cce8d91e>:37: ConvergenceWarning: Number of distinct clusters (4) found smaller than n_clusters (5). Possibly due to duplicate points in X.\n",
      "  km2.fit(X2)\n",
      "<ipython-input-3-cec4cce8d91e>:37: ConvergenceWarning: Number of distinct clusters (4) found smaller than n_clusters (5). Possibly due to duplicate points in X.\n",
      "  km2.fit(X2)\n",
      "<ipython-input-3-cec4cce8d91e>:37: ConvergenceWarning: Number of distinct clusters (3) found smaller than n_clusters (5). Possibly due to duplicate points in X.\n",
      "  km2.fit(X2)\n",
      "<ipython-input-3-cec4cce8d91e>:37: ConvergenceWarning: Number of distinct clusters (3) found smaller than n_clusters (5). Possibly due to duplicate points in X.\n",
      "  km2.fit(X2)\n",
      "<ipython-input-3-cec4cce8d91e>:37: ConvergenceWarning: Number of distinct clusters (4) found smaller than n_clusters (5). Possibly due to duplicate points in X.\n",
      "  km2.fit(X2)\n",
      "<ipython-input-3-cec4cce8d91e>:37: ConvergenceWarning: Number of distinct clusters (3) found smaller than n_clusters (5). Possibly due to duplicate points in X.\n",
      "  km2.fit(X2)\n",
      "<ipython-input-3-cec4cce8d91e>:37: ConvergenceWarning: Number of distinct clusters (4) found smaller than n_clusters (5). Possibly due to duplicate points in X.\n",
      "  km2.fit(X2)\n",
      "<ipython-input-3-cec4cce8d91e>:37: ConvergenceWarning: Number of distinct clusters (4) found smaller than n_clusters (5). Possibly due to duplicate points in X.\n",
      "  km2.fit(X2)\n"
     ]
    },
    {
     "name": "stdout",
     "output_type": "stream",
     "text": [
      "7100\n",
      "368.6683955192566\n"
     ]
    },
    {
     "name": "stderr",
     "output_type": "stream",
     "text": [
      "<ipython-input-3-cec4cce8d91e>:37: ConvergenceWarning: Number of distinct clusters (2) found smaller than n_clusters (5). Possibly due to duplicate points in X.\n",
      "  km2.fit(X2)\n",
      "<ipython-input-3-cec4cce8d91e>:37: ConvergenceWarning: Number of distinct clusters (2) found smaller than n_clusters (5). Possibly due to duplicate points in X.\n",
      "  km2.fit(X2)\n",
      "<ipython-input-3-cec4cce8d91e>:37: ConvergenceWarning: Number of distinct clusters (4) found smaller than n_clusters (5). Possibly due to duplicate points in X.\n",
      "  km2.fit(X2)\n"
     ]
    },
    {
     "name": "stdout",
     "output_type": "stream",
     "text": [
      "7200\n",
      "373.7221157550812\n"
     ]
    },
    {
     "name": "stderr",
     "output_type": "stream",
     "text": [
      "<ipython-input-3-cec4cce8d91e>:37: ConvergenceWarning: Number of distinct clusters (4) found smaller than n_clusters (5). Possibly due to duplicate points in X.\n",
      "  km2.fit(X2)\n"
     ]
    },
    {
     "name": "stdout",
     "output_type": "stream",
     "text": [
      "7300\n",
      "378.873957157135\n"
     ]
    },
    {
     "name": "stderr",
     "output_type": "stream",
     "text": [
      "<ipython-input-3-cec4cce8d91e>:37: ConvergenceWarning: Number of distinct clusters (3) found smaller than n_clusters (5). Possibly due to duplicate points in X.\n",
      "  km2.fit(X2)\n",
      "<ipython-input-3-cec4cce8d91e>:37: ConvergenceWarning: Number of distinct clusters (4) found smaller than n_clusters (5). Possibly due to duplicate points in X.\n",
      "  km2.fit(X2)\n",
      "<ipython-input-3-cec4cce8d91e>:37: ConvergenceWarning: Number of distinct clusters (4) found smaller than n_clusters (5). Possibly due to duplicate points in X.\n",
      "  km2.fit(X2)\n",
      "<ipython-input-3-cec4cce8d91e>:37: ConvergenceWarning: Number of distinct clusters (1) found smaller than n_clusters (5). Possibly due to duplicate points in X.\n",
      "  km2.fit(X2)\n",
      "<ipython-input-3-cec4cce8d91e>:37: ConvergenceWarning: Number of distinct clusters (3) found smaller than n_clusters (5). Possibly due to duplicate points in X.\n",
      "  km2.fit(X2)\n",
      "<ipython-input-3-cec4cce8d91e>:37: ConvergenceWarning: Number of distinct clusters (3) found smaller than n_clusters (5). Possibly due to duplicate points in X.\n",
      "  km2.fit(X2)\n",
      "<ipython-input-3-cec4cce8d91e>:37: ConvergenceWarning: Number of distinct clusters (2) found smaller than n_clusters (5). Possibly due to duplicate points in X.\n",
      "  km2.fit(X2)\n",
      "<ipython-input-3-cec4cce8d91e>:37: ConvergenceWarning: Number of distinct clusters (4) found smaller than n_clusters (5). Possibly due to duplicate points in X.\n",
      "  km2.fit(X2)\n",
      "<ipython-input-3-cec4cce8d91e>:37: ConvergenceWarning: Number of distinct clusters (4) found smaller than n_clusters (5). Possibly due to duplicate points in X.\n",
      "  km2.fit(X2)\n"
     ]
    },
    {
     "name": "stdout",
     "output_type": "stream",
     "text": [
      "7400\n",
      "384.0490345954895\n"
     ]
    },
    {
     "name": "stderr",
     "output_type": "stream",
     "text": [
      "<ipython-input-3-cec4cce8d91e>:37: ConvergenceWarning: Number of distinct clusters (3) found smaller than n_clusters (5). Possibly due to duplicate points in X.\n",
      "  km2.fit(X2)\n",
      "<ipython-input-3-cec4cce8d91e>:37: ConvergenceWarning: Number of distinct clusters (3) found smaller than n_clusters (5). Possibly due to duplicate points in X.\n",
      "  km2.fit(X2)\n",
      "<ipython-input-3-cec4cce8d91e>:37: ConvergenceWarning: Number of distinct clusters (3) found smaller than n_clusters (5). Possibly due to duplicate points in X.\n",
      "  km2.fit(X2)\n",
      "<ipython-input-3-cec4cce8d91e>:37: ConvergenceWarning: Number of distinct clusters (3) found smaller than n_clusters (5). Possibly due to duplicate points in X.\n",
      "  km2.fit(X2)\n",
      "<ipython-input-3-cec4cce8d91e>:37: ConvergenceWarning: Number of distinct clusters (2) found smaller than n_clusters (5). Possibly due to duplicate points in X.\n",
      "  km2.fit(X2)\n",
      "<ipython-input-3-cec4cce8d91e>:37: ConvergenceWarning: Number of distinct clusters (2) found smaller than n_clusters (5). Possibly due to duplicate points in X.\n",
      "  km2.fit(X2)\n",
      "<ipython-input-3-cec4cce8d91e>:37: ConvergenceWarning: Number of distinct clusters (4) found smaller than n_clusters (5). Possibly due to duplicate points in X.\n",
      "  km2.fit(X2)\n",
      "<ipython-input-3-cec4cce8d91e>:37: ConvergenceWarning: Number of distinct clusters (3) found smaller than n_clusters (5). Possibly due to duplicate points in X.\n",
      "  km2.fit(X2)\n",
      "<ipython-input-3-cec4cce8d91e>:37: ConvergenceWarning: Number of distinct clusters (2) found smaller than n_clusters (5). Possibly due to duplicate points in X.\n",
      "  km2.fit(X2)\n",
      "<ipython-input-3-cec4cce8d91e>:37: ConvergenceWarning: Number of distinct clusters (2) found smaller than n_clusters (5). Possibly due to duplicate points in X.\n",
      "  km2.fit(X2)\n",
      "<ipython-input-3-cec4cce8d91e>:37: ConvergenceWarning: Number of distinct clusters (3) found smaller than n_clusters (5). Possibly due to duplicate points in X.\n",
      "  km2.fit(X2)\n",
      "<ipython-input-3-cec4cce8d91e>:37: ConvergenceWarning: Number of distinct clusters (3) found smaller than n_clusters (5). Possibly due to duplicate points in X.\n",
      "  km2.fit(X2)\n"
     ]
    },
    {
     "name": "stdout",
     "output_type": "stream",
     "text": [
      "7500\n",
      "389.0720911026001\n"
     ]
    },
    {
     "name": "stderr",
     "output_type": "stream",
     "text": [
      "<ipython-input-3-cec4cce8d91e>:37: ConvergenceWarning: Number of distinct clusters (3) found smaller than n_clusters (5). Possibly due to duplicate points in X.\n",
      "  km2.fit(X2)\n",
      "<ipython-input-3-cec4cce8d91e>:37: ConvergenceWarning: Number of distinct clusters (1) found smaller than n_clusters (5). Possibly due to duplicate points in X.\n",
      "  km2.fit(X2)\n",
      "<ipython-input-3-cec4cce8d91e>:37: ConvergenceWarning: Number of distinct clusters (4) found smaller than n_clusters (5). Possibly due to duplicate points in X.\n",
      "  km2.fit(X2)\n",
      "<ipython-input-3-cec4cce8d91e>:37: ConvergenceWarning: Number of distinct clusters (3) found smaller than n_clusters (5). Possibly due to duplicate points in X.\n",
      "  km2.fit(X2)\n",
      "<ipython-input-3-cec4cce8d91e>:37: ConvergenceWarning: Number of distinct clusters (4) found smaller than n_clusters (5). Possibly due to duplicate points in X.\n",
      "  km2.fit(X2)\n",
      "<ipython-input-3-cec4cce8d91e>:37: ConvergenceWarning: Number of distinct clusters (3) found smaller than n_clusters (5). Possibly due to duplicate points in X.\n",
      "  km2.fit(X2)\n",
      "<ipython-input-3-cec4cce8d91e>:37: ConvergenceWarning: Number of distinct clusters (3) found smaller than n_clusters (5). Possibly due to duplicate points in X.\n",
      "  km2.fit(X2)\n",
      "<ipython-input-3-cec4cce8d91e>:37: ConvergenceWarning: Number of distinct clusters (4) found smaller than n_clusters (5). Possibly due to duplicate points in X.\n",
      "  km2.fit(X2)\n",
      "<ipython-input-3-cec4cce8d91e>:37: ConvergenceWarning: Number of distinct clusters (2) found smaller than n_clusters (5). Possibly due to duplicate points in X.\n",
      "  km2.fit(X2)\n",
      "<ipython-input-3-cec4cce8d91e>:37: ConvergenceWarning: Number of distinct clusters (2) found smaller than n_clusters (5). Possibly due to duplicate points in X.\n",
      "  km2.fit(X2)\n",
      "<ipython-input-3-cec4cce8d91e>:37: ConvergenceWarning: Number of distinct clusters (3) found smaller than n_clusters (5). Possibly due to duplicate points in X.\n",
      "  km2.fit(X2)\n"
     ]
    },
    {
     "name": "stdout",
     "output_type": "stream",
     "text": [
      "7600\n",
      "394.2835650444031\n"
     ]
    },
    {
     "name": "stderr",
     "output_type": "stream",
     "text": [
      "<ipython-input-3-cec4cce8d91e>:37: ConvergenceWarning: Number of distinct clusters (4) found smaller than n_clusters (5). Possibly due to duplicate points in X.\n",
      "  km2.fit(X2)\n",
      "<ipython-input-3-cec4cce8d91e>:37: ConvergenceWarning: Number of distinct clusters (3) found smaller than n_clusters (5). Possibly due to duplicate points in X.\n",
      "  km2.fit(X2)\n",
      "<ipython-input-3-cec4cce8d91e>:37: ConvergenceWarning: Number of distinct clusters (4) found smaller than n_clusters (5). Possibly due to duplicate points in X.\n",
      "  km2.fit(X2)\n",
      "<ipython-input-3-cec4cce8d91e>:37: ConvergenceWarning: Number of distinct clusters (2) found smaller than n_clusters (5). Possibly due to duplicate points in X.\n",
      "  km2.fit(X2)\n",
      "<ipython-input-3-cec4cce8d91e>:37: ConvergenceWarning: Number of distinct clusters (4) found smaller than n_clusters (5). Possibly due to duplicate points in X.\n",
      "  km2.fit(X2)\n",
      "<ipython-input-3-cec4cce8d91e>:37: ConvergenceWarning: Number of distinct clusters (2) found smaller than n_clusters (5). Possibly due to duplicate points in X.\n",
      "  km2.fit(X2)\n",
      "<ipython-input-3-cec4cce8d91e>:37: ConvergenceWarning: Number of distinct clusters (3) found smaller than n_clusters (5). Possibly due to duplicate points in X.\n",
      "  km2.fit(X2)\n"
     ]
    },
    {
     "name": "stdout",
     "output_type": "stream",
     "text": [
      "7700\n",
      "399.1223375797272\n"
     ]
    },
    {
     "name": "stderr",
     "output_type": "stream",
     "text": [
      "<ipython-input-3-cec4cce8d91e>:37: ConvergenceWarning: Number of distinct clusters (3) found smaller than n_clusters (5). Possibly due to duplicate points in X.\n",
      "  km2.fit(X2)\n",
      "<ipython-input-3-cec4cce8d91e>:37: ConvergenceWarning: Number of distinct clusters (4) found smaller than n_clusters (5). Possibly due to duplicate points in X.\n",
      "  km2.fit(X2)\n",
      "<ipython-input-3-cec4cce8d91e>:37: ConvergenceWarning: Number of distinct clusters (2) found smaller than n_clusters (5). Possibly due to duplicate points in X.\n",
      "  km2.fit(X2)\n",
      "<ipython-input-3-cec4cce8d91e>:37: ConvergenceWarning: Number of distinct clusters (4) found smaller than n_clusters (5). Possibly due to duplicate points in X.\n",
      "  km2.fit(X2)\n",
      "<ipython-input-3-cec4cce8d91e>:37: ConvergenceWarning: Number of distinct clusters (3) found smaller than n_clusters (5). Possibly due to duplicate points in X.\n",
      "  km2.fit(X2)\n",
      "<ipython-input-3-cec4cce8d91e>:37: ConvergenceWarning: Number of distinct clusters (3) found smaller than n_clusters (5). Possibly due to duplicate points in X.\n",
      "  km2.fit(X2)\n",
      "<ipython-input-3-cec4cce8d91e>:37: ConvergenceWarning: Number of distinct clusters (3) found smaller than n_clusters (5). Possibly due to duplicate points in X.\n",
      "  km2.fit(X2)\n",
      "<ipython-input-3-cec4cce8d91e>:37: ConvergenceWarning: Number of distinct clusters (1) found smaller than n_clusters (5). Possibly due to duplicate points in X.\n",
      "  km2.fit(X2)\n",
      "<ipython-input-3-cec4cce8d91e>:37: ConvergenceWarning: Number of distinct clusters (2) found smaller than n_clusters (5). Possibly due to duplicate points in X.\n",
      "  km2.fit(X2)\n",
      "<ipython-input-3-cec4cce8d91e>:37: ConvergenceWarning: Number of distinct clusters (2) found smaller than n_clusters (5). Possibly due to duplicate points in X.\n",
      "  km2.fit(X2)\n",
      "<ipython-input-3-cec4cce8d91e>:37: ConvergenceWarning: Number of distinct clusters (1) found smaller than n_clusters (5). Possibly due to duplicate points in X.\n",
      "  km2.fit(X2)\n",
      "<ipython-input-3-cec4cce8d91e>:37: ConvergenceWarning: Number of distinct clusters (4) found smaller than n_clusters (5). Possibly due to duplicate points in X.\n",
      "  km2.fit(X2)\n",
      "<ipython-input-3-cec4cce8d91e>:37: ConvergenceWarning: Number of distinct clusters (2) found smaller than n_clusters (5). Possibly due to duplicate points in X.\n",
      "  km2.fit(X2)\n",
      "<ipython-input-3-cec4cce8d91e>:37: ConvergenceWarning: Number of distinct clusters (1) found smaller than n_clusters (5). Possibly due to duplicate points in X.\n",
      "  km2.fit(X2)\n"
     ]
    },
    {
     "name": "stdout",
     "output_type": "stream",
     "text": [
      "7800\n",
      "404.1360070705414\n"
     ]
    },
    {
     "name": "stderr",
     "output_type": "stream",
     "text": [
      "<ipython-input-3-cec4cce8d91e>:37: ConvergenceWarning: Number of distinct clusters (4) found smaller than n_clusters (5). Possibly due to duplicate points in X.\n",
      "  km2.fit(X2)\n"
     ]
    },
    {
     "name": "stdout",
     "output_type": "stream",
     "text": [
      "7900\n",
      "408.7344374656677\n"
     ]
    },
    {
     "name": "stderr",
     "output_type": "stream",
     "text": [
      "<ipython-input-3-cec4cce8d91e>:37: ConvergenceWarning: Number of distinct clusters (3) found smaller than n_clusters (5). Possibly due to duplicate points in X.\n",
      "  km2.fit(X2)\n",
      "<ipython-input-3-cec4cce8d91e>:37: ConvergenceWarning: Number of distinct clusters (2) found smaller than n_clusters (5). Possibly due to duplicate points in X.\n",
      "  km2.fit(X2)\n",
      "<ipython-input-3-cec4cce8d91e>:37: ConvergenceWarning: Number of distinct clusters (2) found smaller than n_clusters (5). Possibly due to duplicate points in X.\n",
      "  km2.fit(X2)\n",
      "<ipython-input-3-cec4cce8d91e>:37: ConvergenceWarning: Number of distinct clusters (2) found smaller than n_clusters (5). Possibly due to duplicate points in X.\n",
      "  km2.fit(X2)\n",
      "<ipython-input-3-cec4cce8d91e>:37: ConvergenceWarning: Number of distinct clusters (2) found smaller than n_clusters (5). Possibly due to duplicate points in X.\n",
      "  km2.fit(X2)\n",
      "<ipython-input-3-cec4cce8d91e>:37: ConvergenceWarning: Number of distinct clusters (2) found smaller than n_clusters (5). Possibly due to duplicate points in X.\n",
      "  km2.fit(X2)\n",
      "<ipython-input-3-cec4cce8d91e>:37: ConvergenceWarning: Number of distinct clusters (4) found smaller than n_clusters (5). Possibly due to duplicate points in X.\n",
      "  km2.fit(X2)\n",
      "<ipython-input-3-cec4cce8d91e>:37: ConvergenceWarning: Number of distinct clusters (2) found smaller than n_clusters (5). Possibly due to duplicate points in X.\n",
      "  km2.fit(X2)\n",
      "<ipython-input-3-cec4cce8d91e>:37: ConvergenceWarning: Number of distinct clusters (4) found smaller than n_clusters (5). Possibly due to duplicate points in X.\n",
      "  km2.fit(X2)\n",
      "<ipython-input-3-cec4cce8d91e>:37: ConvergenceWarning: Number of distinct clusters (4) found smaller than n_clusters (5). Possibly due to duplicate points in X.\n",
      "  km2.fit(X2)\n",
      "<ipython-input-3-cec4cce8d91e>:37: ConvergenceWarning: Number of distinct clusters (2) found smaller than n_clusters (5). Possibly due to duplicate points in X.\n",
      "  km2.fit(X2)\n",
      "<ipython-input-3-cec4cce8d91e>:37: ConvergenceWarning: Number of distinct clusters (3) found smaller than n_clusters (5). Possibly due to duplicate points in X.\n",
      "  km2.fit(X2)\n",
      "<ipython-input-3-cec4cce8d91e>:37: ConvergenceWarning: Number of distinct clusters (2) found smaller than n_clusters (5). Possibly due to duplicate points in X.\n",
      "  km2.fit(X2)\n",
      "<ipython-input-3-cec4cce8d91e>:37: ConvergenceWarning: Number of distinct clusters (4) found smaller than n_clusters (5). Possibly due to duplicate points in X.\n",
      "  km2.fit(X2)\n"
     ]
    },
    {
     "name": "stdout",
     "output_type": "stream",
     "text": [
      "8000\n",
      "413.5618987083435\n"
     ]
    },
    {
     "name": "stderr",
     "output_type": "stream",
     "text": [
      "<ipython-input-3-cec4cce8d91e>:37: ConvergenceWarning: Number of distinct clusters (2) found smaller than n_clusters (5). Possibly due to duplicate points in X.\n",
      "  km2.fit(X2)\n",
      "<ipython-input-3-cec4cce8d91e>:37: ConvergenceWarning: Number of distinct clusters (3) found smaller than n_clusters (5). Possibly due to duplicate points in X.\n",
      "  km2.fit(X2)\n",
      "<ipython-input-3-cec4cce8d91e>:37: ConvergenceWarning: Number of distinct clusters (2) found smaller than n_clusters (5). Possibly due to duplicate points in X.\n",
      "  km2.fit(X2)\n",
      "<ipython-input-3-cec4cce8d91e>:37: ConvergenceWarning: Number of distinct clusters (2) found smaller than n_clusters (5). Possibly due to duplicate points in X.\n",
      "  km2.fit(X2)\n",
      "<ipython-input-3-cec4cce8d91e>:37: ConvergenceWarning: Number of distinct clusters (2) found smaller than n_clusters (5). Possibly due to duplicate points in X.\n",
      "  km2.fit(X2)\n",
      "<ipython-input-3-cec4cce8d91e>:37: ConvergenceWarning: Number of distinct clusters (4) found smaller than n_clusters (5). Possibly due to duplicate points in X.\n",
      "  km2.fit(X2)\n",
      "<ipython-input-3-cec4cce8d91e>:37: ConvergenceWarning: Number of distinct clusters (3) found smaller than n_clusters (5). Possibly due to duplicate points in X.\n",
      "  km2.fit(X2)\n",
      "<ipython-input-3-cec4cce8d91e>:37: ConvergenceWarning: Number of distinct clusters (4) found smaller than n_clusters (5). Possibly due to duplicate points in X.\n",
      "  km2.fit(X2)\n"
     ]
    },
    {
     "name": "stdout",
     "output_type": "stream",
     "text": [
      "8100\n",
      "418.51992201805115\n"
     ]
    },
    {
     "name": "stderr",
     "output_type": "stream",
     "text": [
      "<ipython-input-3-cec4cce8d91e>:37: ConvergenceWarning: Number of distinct clusters (4) found smaller than n_clusters (5). Possibly due to duplicate points in X.\n",
      "  km2.fit(X2)\n",
      "<ipython-input-3-cec4cce8d91e>:37: ConvergenceWarning: Number of distinct clusters (1) found smaller than n_clusters (5). Possibly due to duplicate points in X.\n",
      "  km2.fit(X2)\n",
      "<ipython-input-3-cec4cce8d91e>:37: ConvergenceWarning: Number of distinct clusters (1) found smaller than n_clusters (5). Possibly due to duplicate points in X.\n",
      "  km2.fit(X2)\n",
      "<ipython-input-3-cec4cce8d91e>:37: ConvergenceWarning: Number of distinct clusters (4) found smaller than n_clusters (5). Possibly due to duplicate points in X.\n",
      "  km2.fit(X2)\n",
      "<ipython-input-3-cec4cce8d91e>:37: ConvergenceWarning: Number of distinct clusters (4) found smaller than n_clusters (5). Possibly due to duplicate points in X.\n",
      "  km2.fit(X2)\n",
      "<ipython-input-3-cec4cce8d91e>:37: ConvergenceWarning: Number of distinct clusters (4) found smaller than n_clusters (5). Possibly due to duplicate points in X.\n",
      "  km2.fit(X2)\n",
      "<ipython-input-3-cec4cce8d91e>:37: ConvergenceWarning: Number of distinct clusters (1) found smaller than n_clusters (5). Possibly due to duplicate points in X.\n",
      "  km2.fit(X2)\n"
     ]
    },
    {
     "name": "stdout",
     "output_type": "stream",
     "text": [
      "8200\n",
      "423.790962934494\n"
     ]
    },
    {
     "name": "stderr",
     "output_type": "stream",
     "text": [
      "<ipython-input-3-cec4cce8d91e>:37: ConvergenceWarning: Number of distinct clusters (1) found smaller than n_clusters (5). Possibly due to duplicate points in X.\n",
      "  km2.fit(X2)\n",
      "<ipython-input-3-cec4cce8d91e>:37: ConvergenceWarning: Number of distinct clusters (4) found smaller than n_clusters (5). Possibly due to duplicate points in X.\n",
      "  km2.fit(X2)\n",
      "<ipython-input-3-cec4cce8d91e>:37: ConvergenceWarning: Number of distinct clusters (2) found smaller than n_clusters (5). Possibly due to duplicate points in X.\n",
      "  km2.fit(X2)\n",
      "<ipython-input-3-cec4cce8d91e>:37: ConvergenceWarning: Number of distinct clusters (2) found smaller than n_clusters (5). Possibly due to duplicate points in X.\n",
      "  km2.fit(X2)\n",
      "<ipython-input-3-cec4cce8d91e>:37: ConvergenceWarning: Number of distinct clusters (2) found smaller than n_clusters (5). Possibly due to duplicate points in X.\n",
      "  km2.fit(X2)\n",
      "<ipython-input-3-cec4cce8d91e>:37: ConvergenceWarning: Number of distinct clusters (2) found smaller than n_clusters (5). Possibly due to duplicate points in X.\n",
      "  km2.fit(X2)\n"
     ]
    },
    {
     "name": "stdout",
     "output_type": "stream",
     "text": [
      "8300\n",
      "428.4187090396881\n"
     ]
    },
    {
     "name": "stderr",
     "output_type": "stream",
     "text": [
      "<ipython-input-3-cec4cce8d91e>:37: ConvergenceWarning: Number of distinct clusters (4) found smaller than n_clusters (5). Possibly due to duplicate points in X.\n",
      "  km2.fit(X2)\n",
      "<ipython-input-3-cec4cce8d91e>:37: ConvergenceWarning: Number of distinct clusters (4) found smaller than n_clusters (5). Possibly due to duplicate points in X.\n",
      "  km2.fit(X2)\n",
      "<ipython-input-3-cec4cce8d91e>:37: ConvergenceWarning: Number of distinct clusters (3) found smaller than n_clusters (5). Possibly due to duplicate points in X.\n",
      "  km2.fit(X2)\n",
      "<ipython-input-3-cec4cce8d91e>:37: ConvergenceWarning: Number of distinct clusters (2) found smaller than n_clusters (5). Possibly due to duplicate points in X.\n",
      "  km2.fit(X2)\n",
      "<ipython-input-3-cec4cce8d91e>:37: ConvergenceWarning: Number of distinct clusters (3) found smaller than n_clusters (5). Possibly due to duplicate points in X.\n",
      "  km2.fit(X2)\n",
      "<ipython-input-3-cec4cce8d91e>:37: ConvergenceWarning: Number of distinct clusters (4) found smaller than n_clusters (5). Possibly due to duplicate points in X.\n",
      "  km2.fit(X2)\n",
      "<ipython-input-3-cec4cce8d91e>:37: ConvergenceWarning: Number of distinct clusters (4) found smaller than n_clusters (5). Possibly due to duplicate points in X.\n",
      "  km2.fit(X2)\n",
      "<ipython-input-3-cec4cce8d91e>:37: ConvergenceWarning: Number of distinct clusters (4) found smaller than n_clusters (5). Possibly due to duplicate points in X.\n",
      "  km2.fit(X2)\n",
      "<ipython-input-3-cec4cce8d91e>:37: ConvergenceWarning: Number of distinct clusters (1) found smaller than n_clusters (5). Possibly due to duplicate points in X.\n",
      "  km2.fit(X2)\n",
      "<ipython-input-3-cec4cce8d91e>:37: ConvergenceWarning: Number of distinct clusters (4) found smaller than n_clusters (5). Possibly due to duplicate points in X.\n",
      "  km2.fit(X2)\n",
      "<ipython-input-3-cec4cce8d91e>:37: ConvergenceWarning: Number of distinct clusters (2) found smaller than n_clusters (5). Possibly due to duplicate points in X.\n",
      "  km2.fit(X2)\n",
      "<ipython-input-3-cec4cce8d91e>:37: ConvergenceWarning: Number of distinct clusters (3) found smaller than n_clusters (5). Possibly due to duplicate points in X.\n",
      "  km2.fit(X2)\n"
     ]
    },
    {
     "name": "stdout",
     "output_type": "stream",
     "text": [
      "8400\n",
      "433.0163481235504\n"
     ]
    },
    {
     "name": "stderr",
     "output_type": "stream",
     "text": [
      "<ipython-input-3-cec4cce8d91e>:37: ConvergenceWarning: Number of distinct clusters (3) found smaller than n_clusters (5). Possibly due to duplicate points in X.\n",
      "  km2.fit(X2)\n",
      "<ipython-input-3-cec4cce8d91e>:37: ConvergenceWarning: Number of distinct clusters (4) found smaller than n_clusters (5). Possibly due to duplicate points in X.\n",
      "  km2.fit(X2)\n",
      "<ipython-input-3-cec4cce8d91e>:37: ConvergenceWarning: Number of distinct clusters (3) found smaller than n_clusters (5). Possibly due to duplicate points in X.\n",
      "  km2.fit(X2)\n",
      "<ipython-input-3-cec4cce8d91e>:37: ConvergenceWarning: Number of distinct clusters (4) found smaller than n_clusters (5). Possibly due to duplicate points in X.\n",
      "  km2.fit(X2)\n",
      "<ipython-input-3-cec4cce8d91e>:37: ConvergenceWarning: Number of distinct clusters (3) found smaller than n_clusters (5). Possibly due to duplicate points in X.\n",
      "  km2.fit(X2)\n",
      "<ipython-input-3-cec4cce8d91e>:37: ConvergenceWarning: Number of distinct clusters (4) found smaller than n_clusters (5). Possibly due to duplicate points in X.\n",
      "  km2.fit(X2)\n",
      "<ipython-input-3-cec4cce8d91e>:37: ConvergenceWarning: Number of distinct clusters (2) found smaller than n_clusters (5). Possibly due to duplicate points in X.\n",
      "  km2.fit(X2)\n",
      "<ipython-input-3-cec4cce8d91e>:37: ConvergenceWarning: Number of distinct clusters (4) found smaller than n_clusters (5). Possibly due to duplicate points in X.\n",
      "  km2.fit(X2)\n",
      "<ipython-input-3-cec4cce8d91e>:37: ConvergenceWarning: Number of distinct clusters (1) found smaller than n_clusters (5). Possibly due to duplicate points in X.\n",
      "  km2.fit(X2)\n",
      "<ipython-input-3-cec4cce8d91e>:37: ConvergenceWarning: Number of distinct clusters (1) found smaller than n_clusters (5). Possibly due to duplicate points in X.\n",
      "  km2.fit(X2)\n",
      "<ipython-input-3-cec4cce8d91e>:37: ConvergenceWarning: Number of distinct clusters (1) found smaller than n_clusters (5). Possibly due to duplicate points in X.\n",
      "  km2.fit(X2)\n",
      "<ipython-input-3-cec4cce8d91e>:37: ConvergenceWarning: Number of distinct clusters (4) found smaller than n_clusters (5). Possibly due to duplicate points in X.\n",
      "  km2.fit(X2)\n"
     ]
    },
    {
     "name": "stdout",
     "output_type": "stream",
     "text": [
      "8500\n",
      "437.904226064682\n"
     ]
    },
    {
     "name": "stderr",
     "output_type": "stream",
     "text": [
      "<ipython-input-3-cec4cce8d91e>:37: ConvergenceWarning: Number of distinct clusters (3) found smaller than n_clusters (5). Possibly due to duplicate points in X.\n",
      "  km2.fit(X2)\n",
      "<ipython-input-3-cec4cce8d91e>:37: ConvergenceWarning: Number of distinct clusters (1) found smaller than n_clusters (5). Possibly due to duplicate points in X.\n",
      "  km2.fit(X2)\n",
      "<ipython-input-3-cec4cce8d91e>:37: ConvergenceWarning: Number of distinct clusters (4) found smaller than n_clusters (5). Possibly due to duplicate points in X.\n",
      "  km2.fit(X2)\n",
      "<ipython-input-3-cec4cce8d91e>:37: ConvergenceWarning: Number of distinct clusters (3) found smaller than n_clusters (5). Possibly due to duplicate points in X.\n",
      "  km2.fit(X2)\n",
      "<ipython-input-3-cec4cce8d91e>:37: ConvergenceWarning: Number of distinct clusters (2) found smaller than n_clusters (5). Possibly due to duplicate points in X.\n",
      "  km2.fit(X2)\n",
      "<ipython-input-3-cec4cce8d91e>:37: ConvergenceWarning: Number of distinct clusters (4) found smaller than n_clusters (5). Possibly due to duplicate points in X.\n",
      "  km2.fit(X2)\n",
      "<ipython-input-3-cec4cce8d91e>:37: ConvergenceWarning: Number of distinct clusters (4) found smaller than n_clusters (5). Possibly due to duplicate points in X.\n",
      "  km2.fit(X2)\n",
      "<ipython-input-3-cec4cce8d91e>:37: ConvergenceWarning: Number of distinct clusters (3) found smaller than n_clusters (5). Possibly due to duplicate points in X.\n",
      "  km2.fit(X2)\n"
     ]
    },
    {
     "name": "stdout",
     "output_type": "stream",
     "text": [
      "8600\n",
      "442.8263006210327\n"
     ]
    },
    {
     "name": "stderr",
     "output_type": "stream",
     "text": [
      "<ipython-input-3-cec4cce8d91e>:37: ConvergenceWarning: Number of distinct clusters (3) found smaller than n_clusters (5). Possibly due to duplicate points in X.\n",
      "  km2.fit(X2)\n",
      "<ipython-input-3-cec4cce8d91e>:37: ConvergenceWarning: Number of distinct clusters (3) found smaller than n_clusters (5). Possibly due to duplicate points in X.\n",
      "  km2.fit(X2)\n",
      "<ipython-input-3-cec4cce8d91e>:37: ConvergenceWarning: Number of distinct clusters (3) found smaller than n_clusters (5). Possibly due to duplicate points in X.\n",
      "  km2.fit(X2)\n",
      "<ipython-input-3-cec4cce8d91e>:37: ConvergenceWarning: Number of distinct clusters (2) found smaller than n_clusters (5). Possibly due to duplicate points in X.\n",
      "  km2.fit(X2)\n",
      "<ipython-input-3-cec4cce8d91e>:37: ConvergenceWarning: Number of distinct clusters (4) found smaller than n_clusters (5). Possibly due to duplicate points in X.\n",
      "  km2.fit(X2)\n",
      "<ipython-input-3-cec4cce8d91e>:37: ConvergenceWarning: Number of distinct clusters (3) found smaller than n_clusters (5). Possibly due to duplicate points in X.\n",
      "  km2.fit(X2)\n",
      "<ipython-input-3-cec4cce8d91e>:37: ConvergenceWarning: Number of distinct clusters (3) found smaller than n_clusters (5). Possibly due to duplicate points in X.\n",
      "  km2.fit(X2)\n",
      "<ipython-input-3-cec4cce8d91e>:37: ConvergenceWarning: Number of distinct clusters (3) found smaller than n_clusters (5). Possibly due to duplicate points in X.\n",
      "  km2.fit(X2)\n"
     ]
    },
    {
     "name": "stdout",
     "output_type": "stream",
     "text": [
      "8700\n",
      "447.34001779556274\n"
     ]
    },
    {
     "name": "stderr",
     "output_type": "stream",
     "text": [
      "<ipython-input-3-cec4cce8d91e>:37: ConvergenceWarning: Number of distinct clusters (1) found smaller than n_clusters (5). Possibly due to duplicate points in X.\n",
      "  km2.fit(X2)\n",
      "<ipython-input-3-cec4cce8d91e>:37: ConvergenceWarning: Number of distinct clusters (4) found smaller than n_clusters (5). Possibly due to duplicate points in X.\n",
      "  km2.fit(X2)\n",
      "<ipython-input-3-cec4cce8d91e>:37: ConvergenceWarning: Number of distinct clusters (3) found smaller than n_clusters (5). Possibly due to duplicate points in X.\n",
      "  km2.fit(X2)\n",
      "<ipython-input-3-cec4cce8d91e>:37: ConvergenceWarning: Number of distinct clusters (4) found smaller than n_clusters (5). Possibly due to duplicate points in X.\n",
      "  km2.fit(X2)\n",
      "<ipython-input-3-cec4cce8d91e>:37: ConvergenceWarning: Number of distinct clusters (2) found smaller than n_clusters (5). Possibly due to duplicate points in X.\n",
      "  km2.fit(X2)\n",
      "<ipython-input-3-cec4cce8d91e>:37: ConvergenceWarning: Number of distinct clusters (3) found smaller than n_clusters (5). Possibly due to duplicate points in X.\n",
      "  km2.fit(X2)\n",
      "<ipython-input-3-cec4cce8d91e>:37: ConvergenceWarning: Number of distinct clusters (3) found smaller than n_clusters (5). Possibly due to duplicate points in X.\n",
      "  km2.fit(X2)\n",
      "<ipython-input-3-cec4cce8d91e>:37: ConvergenceWarning: Number of distinct clusters (3) found smaller than n_clusters (5). Possibly due to duplicate points in X.\n",
      "  km2.fit(X2)\n",
      "<ipython-input-3-cec4cce8d91e>:37: ConvergenceWarning: Number of distinct clusters (3) found smaller than n_clusters (5). Possibly due to duplicate points in X.\n",
      "  km2.fit(X2)\n",
      "<ipython-input-3-cec4cce8d91e>:37: ConvergenceWarning: Number of distinct clusters (1) found smaller than n_clusters (5). Possibly due to duplicate points in X.\n",
      "  km2.fit(X2)\n",
      "<ipython-input-3-cec4cce8d91e>:37: ConvergenceWarning: Number of distinct clusters (4) found smaller than n_clusters (5). Possibly due to duplicate points in X.\n",
      "  km2.fit(X2)\n"
     ]
    },
    {
     "name": "stdout",
     "output_type": "stream",
     "text": [
      "8800\n",
      "451.91814851760864\n"
     ]
    },
    {
     "name": "stderr",
     "output_type": "stream",
     "text": [
      "<ipython-input-3-cec4cce8d91e>:37: ConvergenceWarning: Number of distinct clusters (4) found smaller than n_clusters (5). Possibly due to duplicate points in X.\n",
      "  km2.fit(X2)\n",
      "<ipython-input-3-cec4cce8d91e>:37: ConvergenceWarning: Number of distinct clusters (2) found smaller than n_clusters (5). Possibly due to duplicate points in X.\n",
      "  km2.fit(X2)\n",
      "<ipython-input-3-cec4cce8d91e>:37: ConvergenceWarning: Number of distinct clusters (2) found smaller than n_clusters (5). Possibly due to duplicate points in X.\n",
      "  km2.fit(X2)\n",
      "<ipython-input-3-cec4cce8d91e>:37: ConvergenceWarning: Number of distinct clusters (3) found smaller than n_clusters (5). Possibly due to duplicate points in X.\n",
      "  km2.fit(X2)\n",
      "<ipython-input-3-cec4cce8d91e>:37: ConvergenceWarning: Number of distinct clusters (1) found smaller than n_clusters (5). Possibly due to duplicate points in X.\n",
      "  km2.fit(X2)\n",
      "<ipython-input-3-cec4cce8d91e>:37: ConvergenceWarning: Number of distinct clusters (4) found smaller than n_clusters (5). Possibly due to duplicate points in X.\n",
      "  km2.fit(X2)\n",
      "<ipython-input-3-cec4cce8d91e>:37: ConvergenceWarning: Number of distinct clusters (4) found smaller than n_clusters (5). Possibly due to duplicate points in X.\n",
      "  km2.fit(X2)\n",
      "<ipython-input-3-cec4cce8d91e>:37: ConvergenceWarning: Number of distinct clusters (2) found smaller than n_clusters (5). Possibly due to duplicate points in X.\n",
      "  km2.fit(X2)\n",
      "<ipython-input-3-cec4cce8d91e>:37: ConvergenceWarning: Number of distinct clusters (4) found smaller than n_clusters (5). Possibly due to duplicate points in X.\n",
      "  km2.fit(X2)\n",
      "<ipython-input-3-cec4cce8d91e>:37: ConvergenceWarning: Number of distinct clusters (3) found smaller than n_clusters (5). Possibly due to duplicate points in X.\n",
      "  km2.fit(X2)\n"
     ]
    },
    {
     "name": "stdout",
     "output_type": "stream",
     "text": [
      "8900\n",
      "456.51461362838745\n"
     ]
    },
    {
     "name": "stderr",
     "output_type": "stream",
     "text": [
      "<ipython-input-3-cec4cce8d91e>:37: ConvergenceWarning: Number of distinct clusters (3) found smaller than n_clusters (5). Possibly due to duplicate points in X.\n",
      "  km2.fit(X2)\n",
      "<ipython-input-3-cec4cce8d91e>:37: ConvergenceWarning: Number of distinct clusters (1) found smaller than n_clusters (5). Possibly due to duplicate points in X.\n",
      "  km2.fit(X2)\n",
      "<ipython-input-3-cec4cce8d91e>:37: ConvergenceWarning: Number of distinct clusters (3) found smaller than n_clusters (5). Possibly due to duplicate points in X.\n",
      "  km2.fit(X2)\n",
      "<ipython-input-3-cec4cce8d91e>:37: ConvergenceWarning: Number of distinct clusters (3) found smaller than n_clusters (5). Possibly due to duplicate points in X.\n",
      "  km2.fit(X2)\n",
      "<ipython-input-3-cec4cce8d91e>:37: ConvergenceWarning: Number of distinct clusters (1) found smaller than n_clusters (5). Possibly due to duplicate points in X.\n",
      "  km2.fit(X2)\n",
      "<ipython-input-3-cec4cce8d91e>:37: ConvergenceWarning: Number of distinct clusters (2) found smaller than n_clusters (5). Possibly due to duplicate points in X.\n",
      "  km2.fit(X2)\n",
      "<ipython-input-3-cec4cce8d91e>:37: ConvergenceWarning: Number of distinct clusters (1) found smaller than n_clusters (5). Possibly due to duplicate points in X.\n",
      "  km2.fit(X2)\n",
      "<ipython-input-3-cec4cce8d91e>:37: ConvergenceWarning: Number of distinct clusters (3) found smaller than n_clusters (5). Possibly due to duplicate points in X.\n",
      "  km2.fit(X2)\n",
      "<ipython-input-3-cec4cce8d91e>:37: ConvergenceWarning: Number of distinct clusters (2) found smaller than n_clusters (5). Possibly due to duplicate points in X.\n",
      "  km2.fit(X2)\n"
     ]
    },
    {
     "name": "stdout",
     "output_type": "stream",
     "text": [
      "9000\n",
      "461.0227084159851\n"
     ]
    },
    {
     "name": "stderr",
     "output_type": "stream",
     "text": [
      "<ipython-input-3-cec4cce8d91e>:37: ConvergenceWarning: Number of distinct clusters (1) found smaller than n_clusters (5). Possibly due to duplicate points in X.\n",
      "  km2.fit(X2)\n",
      "<ipython-input-3-cec4cce8d91e>:37: ConvergenceWarning: Number of distinct clusters (4) found smaller than n_clusters (5). Possibly due to duplicate points in X.\n",
      "  km2.fit(X2)\n",
      "<ipython-input-3-cec4cce8d91e>:37: ConvergenceWarning: Number of distinct clusters (3) found smaller than n_clusters (5). Possibly due to duplicate points in X.\n",
      "  km2.fit(X2)\n",
      "<ipython-input-3-cec4cce8d91e>:37: ConvergenceWarning: Number of distinct clusters (3) found smaller than n_clusters (5). Possibly due to duplicate points in X.\n",
      "  km2.fit(X2)\n",
      "<ipython-input-3-cec4cce8d91e>:37: ConvergenceWarning: Number of distinct clusters (4) found smaller than n_clusters (5). Possibly due to duplicate points in X.\n",
      "  km2.fit(X2)\n"
     ]
    },
    {
     "name": "stdout",
     "output_type": "stream",
     "text": [
      "9100\n",
      "465.5141978263855\n"
     ]
    },
    {
     "name": "stderr",
     "output_type": "stream",
     "text": [
      "<ipython-input-3-cec4cce8d91e>:37: ConvergenceWarning: Number of distinct clusters (1) found smaller than n_clusters (5). Possibly due to duplicate points in X.\n",
      "  km2.fit(X2)\n",
      "<ipython-input-3-cec4cce8d91e>:37: ConvergenceWarning: Number of distinct clusters (1) found smaller than n_clusters (5). Possibly due to duplicate points in X.\n",
      "  km2.fit(X2)\n",
      "<ipython-input-3-cec4cce8d91e>:37: ConvergenceWarning: Number of distinct clusters (4) found smaller than n_clusters (5). Possibly due to duplicate points in X.\n",
      "  km2.fit(X2)\n",
      "<ipython-input-3-cec4cce8d91e>:37: ConvergenceWarning: Number of distinct clusters (1) found smaller than n_clusters (5). Possibly due to duplicate points in X.\n",
      "  km2.fit(X2)\n",
      "<ipython-input-3-cec4cce8d91e>:37: ConvergenceWarning: Number of distinct clusters (4) found smaller than n_clusters (5). Possibly due to duplicate points in X.\n",
      "  km2.fit(X2)\n",
      "<ipython-input-3-cec4cce8d91e>:37: ConvergenceWarning: Number of distinct clusters (1) found smaller than n_clusters (5). Possibly due to duplicate points in X.\n",
      "  km2.fit(X2)\n",
      "<ipython-input-3-cec4cce8d91e>:37: ConvergenceWarning: Number of distinct clusters (2) found smaller than n_clusters (5). Possibly due to duplicate points in X.\n",
      "  km2.fit(X2)\n",
      "<ipython-input-3-cec4cce8d91e>:37: ConvergenceWarning: Number of distinct clusters (4) found smaller than n_clusters (5). Possibly due to duplicate points in X.\n",
      "  km2.fit(X2)\n",
      "<ipython-input-3-cec4cce8d91e>:37: ConvergenceWarning: Number of distinct clusters (4) found smaller than n_clusters (5). Possibly due to duplicate points in X.\n",
      "  km2.fit(X2)\n"
     ]
    },
    {
     "name": "stdout",
     "output_type": "stream",
     "text": [
      "9200\n",
      "470.1693379878998\n"
     ]
    },
    {
     "name": "stderr",
     "output_type": "stream",
     "text": [
      "<ipython-input-3-cec4cce8d91e>:37: ConvergenceWarning: Number of distinct clusters (4) found smaller than n_clusters (5). Possibly due to duplicate points in X.\n",
      "  km2.fit(X2)\n",
      "<ipython-input-3-cec4cce8d91e>:37: ConvergenceWarning: Number of distinct clusters (1) found smaller than n_clusters (5). Possibly due to duplicate points in X.\n",
      "  km2.fit(X2)\n",
      "<ipython-input-3-cec4cce8d91e>:37: ConvergenceWarning: Number of distinct clusters (3) found smaller than n_clusters (5). Possibly due to duplicate points in X.\n",
      "  km2.fit(X2)\n",
      "<ipython-input-3-cec4cce8d91e>:37: ConvergenceWarning: Number of distinct clusters (4) found smaller than n_clusters (5). Possibly due to duplicate points in X.\n",
      "  km2.fit(X2)\n",
      "<ipython-input-3-cec4cce8d91e>:37: ConvergenceWarning: Number of distinct clusters (2) found smaller than n_clusters (5). Possibly due to duplicate points in X.\n",
      "  km2.fit(X2)\n",
      "<ipython-input-3-cec4cce8d91e>:37: ConvergenceWarning: Number of distinct clusters (4) found smaller than n_clusters (5). Possibly due to duplicate points in X.\n",
      "  km2.fit(X2)\n",
      "<ipython-input-3-cec4cce8d91e>:37: ConvergenceWarning: Number of distinct clusters (4) found smaller than n_clusters (5). Possibly due to duplicate points in X.\n",
      "  km2.fit(X2)\n",
      "<ipython-input-3-cec4cce8d91e>:37: ConvergenceWarning: Number of distinct clusters (3) found smaller than n_clusters (5). Possibly due to duplicate points in X.\n",
      "  km2.fit(X2)\n",
      "<ipython-input-3-cec4cce8d91e>:37: ConvergenceWarning: Number of distinct clusters (3) found smaller than n_clusters (5). Possibly due to duplicate points in X.\n",
      "  km2.fit(X2)\n",
      "<ipython-input-3-cec4cce8d91e>:37: ConvergenceWarning: Number of distinct clusters (2) found smaller than n_clusters (5). Possibly due to duplicate points in X.\n",
      "  km2.fit(X2)\n",
      "<ipython-input-3-cec4cce8d91e>:37: ConvergenceWarning: Number of distinct clusters (3) found smaller than n_clusters (5). Possibly due to duplicate points in X.\n",
      "  km2.fit(X2)\n",
      "<ipython-input-3-cec4cce8d91e>:37: ConvergenceWarning: Number of distinct clusters (2) found smaller than n_clusters (5). Possibly due to duplicate points in X.\n",
      "  km2.fit(X2)\n",
      "<ipython-input-3-cec4cce8d91e>:37: ConvergenceWarning: Number of distinct clusters (3) found smaller than n_clusters (5). Possibly due to duplicate points in X.\n",
      "  km2.fit(X2)\n"
     ]
    },
    {
     "name": "stdout",
     "output_type": "stream",
     "text": [
      "9300\n",
      "474.75278759002686\n"
     ]
    },
    {
     "name": "stderr",
     "output_type": "stream",
     "text": [
      "<ipython-input-3-cec4cce8d91e>:37: ConvergenceWarning: Number of distinct clusters (3) found smaller than n_clusters (5). Possibly due to duplicate points in X.\n",
      "  km2.fit(X2)\n",
      "<ipython-input-3-cec4cce8d91e>:37: ConvergenceWarning: Number of distinct clusters (3) found smaller than n_clusters (5). Possibly due to duplicate points in X.\n",
      "  km2.fit(X2)\n",
      "<ipython-input-3-cec4cce8d91e>:37: ConvergenceWarning: Number of distinct clusters (3) found smaller than n_clusters (5). Possibly due to duplicate points in X.\n",
      "  km2.fit(X2)\n",
      "<ipython-input-3-cec4cce8d91e>:37: ConvergenceWarning: Number of distinct clusters (2) found smaller than n_clusters (5). Possibly due to duplicate points in X.\n",
      "  km2.fit(X2)\n",
      "<ipython-input-3-cec4cce8d91e>:37: ConvergenceWarning: Number of distinct clusters (4) found smaller than n_clusters (5). Possibly due to duplicate points in X.\n",
      "  km2.fit(X2)\n",
      "<ipython-input-3-cec4cce8d91e>:37: ConvergenceWarning: Number of distinct clusters (2) found smaller than n_clusters (5). Possibly due to duplicate points in X.\n",
      "  km2.fit(X2)\n",
      "<ipython-input-3-cec4cce8d91e>:37: ConvergenceWarning: Number of distinct clusters (4) found smaller than n_clusters (5). Possibly due to duplicate points in X.\n",
      "  km2.fit(X2)\n"
     ]
    },
    {
     "name": "stdout",
     "output_type": "stream",
     "text": [
      "9400\n",
      "479.3686442375183\n"
     ]
    },
    {
     "name": "stderr",
     "output_type": "stream",
     "text": [
      "<ipython-input-3-cec4cce8d91e>:37: ConvergenceWarning: Number of distinct clusters (4) found smaller than n_clusters (5). Possibly due to duplicate points in X.\n",
      "  km2.fit(X2)\n",
      "<ipython-input-3-cec4cce8d91e>:37: ConvergenceWarning: Number of distinct clusters (2) found smaller than n_clusters (5). Possibly due to duplicate points in X.\n",
      "  km2.fit(X2)\n",
      "<ipython-input-3-cec4cce8d91e>:37: ConvergenceWarning: Number of distinct clusters (4) found smaller than n_clusters (5). Possibly due to duplicate points in X.\n",
      "  km2.fit(X2)\n",
      "<ipython-input-3-cec4cce8d91e>:37: ConvergenceWarning: Number of distinct clusters (4) found smaller than n_clusters (5). Possibly due to duplicate points in X.\n",
      "  km2.fit(X2)\n",
      "<ipython-input-3-cec4cce8d91e>:37: ConvergenceWarning: Number of distinct clusters (4) found smaller than n_clusters (5). Possibly due to duplicate points in X.\n",
      "  km2.fit(X2)\n",
      "<ipython-input-3-cec4cce8d91e>:37: ConvergenceWarning: Number of distinct clusters (4) found smaller than n_clusters (5). Possibly due to duplicate points in X.\n",
      "  km2.fit(X2)\n",
      "<ipython-input-3-cec4cce8d91e>:37: ConvergenceWarning: Number of distinct clusters (3) found smaller than n_clusters (5). Possibly due to duplicate points in X.\n",
      "  km2.fit(X2)\n",
      "<ipython-input-3-cec4cce8d91e>:37: ConvergenceWarning: Number of distinct clusters (1) found smaller than n_clusters (5). Possibly due to duplicate points in X.\n",
      "  km2.fit(X2)\n"
     ]
    },
    {
     "name": "stdout",
     "output_type": "stream",
     "text": [
      "9500\n",
      "484.0534121990204\n"
     ]
    },
    {
     "name": "stderr",
     "output_type": "stream",
     "text": [
      "<ipython-input-3-cec4cce8d91e>:37: ConvergenceWarning: Number of distinct clusters (3) found smaller than n_clusters (5). Possibly due to duplicate points in X.\n",
      "  km2.fit(X2)\n",
      "<ipython-input-3-cec4cce8d91e>:37: ConvergenceWarning: Number of distinct clusters (3) found smaller than n_clusters (5). Possibly due to duplicate points in X.\n",
      "  km2.fit(X2)\n",
      "<ipython-input-3-cec4cce8d91e>:37: ConvergenceWarning: Number of distinct clusters (2) found smaller than n_clusters (5). Possibly due to duplicate points in X.\n",
      "  km2.fit(X2)\n",
      "<ipython-input-3-cec4cce8d91e>:37: ConvergenceWarning: Number of distinct clusters (4) found smaller than n_clusters (5). Possibly due to duplicate points in X.\n",
      "  km2.fit(X2)\n",
      "<ipython-input-3-cec4cce8d91e>:37: ConvergenceWarning: Number of distinct clusters (3) found smaller than n_clusters (5). Possibly due to duplicate points in X.\n",
      "  km2.fit(X2)\n",
      "<ipython-input-3-cec4cce8d91e>:37: ConvergenceWarning: Number of distinct clusters (2) found smaller than n_clusters (5). Possibly due to duplicate points in X.\n",
      "  km2.fit(X2)\n",
      "<ipython-input-3-cec4cce8d91e>:37: ConvergenceWarning: Number of distinct clusters (2) found smaller than n_clusters (5). Possibly due to duplicate points in X.\n",
      "  km2.fit(X2)\n",
      "<ipython-input-3-cec4cce8d91e>:37: ConvergenceWarning: Number of distinct clusters (4) found smaller than n_clusters (5). Possibly due to duplicate points in X.\n",
      "  km2.fit(X2)\n"
     ]
    },
    {
     "name": "stdout",
     "output_type": "stream",
     "text": [
      "9600\n",
      "488.770546913147\n"
     ]
    },
    {
     "name": "stderr",
     "output_type": "stream",
     "text": [
      "<ipython-input-3-cec4cce8d91e>:37: ConvergenceWarning: Number of distinct clusters (4) found smaller than n_clusters (5). Possibly due to duplicate points in X.\n",
      "  km2.fit(X2)\n",
      "<ipython-input-3-cec4cce8d91e>:37: ConvergenceWarning: Number of distinct clusters (2) found smaller than n_clusters (5). Possibly due to duplicate points in X.\n",
      "  km2.fit(X2)\n",
      "<ipython-input-3-cec4cce8d91e>:37: ConvergenceWarning: Number of distinct clusters (4) found smaller than n_clusters (5). Possibly due to duplicate points in X.\n",
      "  km2.fit(X2)\n",
      "<ipython-input-3-cec4cce8d91e>:37: ConvergenceWarning: Number of distinct clusters (2) found smaller than n_clusters (5). Possibly due to duplicate points in X.\n",
      "  km2.fit(X2)\n",
      "<ipython-input-3-cec4cce8d91e>:37: ConvergenceWarning: Number of distinct clusters (4) found smaller than n_clusters (5). Possibly due to duplicate points in X.\n",
      "  km2.fit(X2)\n",
      "<ipython-input-3-cec4cce8d91e>:37: ConvergenceWarning: Number of distinct clusters (3) found smaller than n_clusters (5). Possibly due to duplicate points in X.\n",
      "  km2.fit(X2)\n",
      "<ipython-input-3-cec4cce8d91e>:37: ConvergenceWarning: Number of distinct clusters (4) found smaller than n_clusters (5). Possibly due to duplicate points in X.\n",
      "  km2.fit(X2)\n",
      "<ipython-input-3-cec4cce8d91e>:37: ConvergenceWarning: Number of distinct clusters (4) found smaller than n_clusters (5). Possibly due to duplicate points in X.\n",
      "  km2.fit(X2)\n"
     ]
    },
    {
     "name": "stdout",
     "output_type": "stream",
     "text": [
      "9700\n",
      "493.3964262008667\n"
     ]
    },
    {
     "name": "stderr",
     "output_type": "stream",
     "text": [
      "<ipython-input-3-cec4cce8d91e>:37: ConvergenceWarning: Number of distinct clusters (2) found smaller than n_clusters (5). Possibly due to duplicate points in X.\n",
      "  km2.fit(X2)\n",
      "<ipython-input-3-cec4cce8d91e>:37: ConvergenceWarning: Number of distinct clusters (3) found smaller than n_clusters (5). Possibly due to duplicate points in X.\n",
      "  km2.fit(X2)\n",
      "<ipython-input-3-cec4cce8d91e>:37: ConvergenceWarning: Number of distinct clusters (3) found smaller than n_clusters (5). Possibly due to duplicate points in X.\n",
      "  km2.fit(X2)\n",
      "<ipython-input-3-cec4cce8d91e>:37: ConvergenceWarning: Number of distinct clusters (4) found smaller than n_clusters (5). Possibly due to duplicate points in X.\n",
      "  km2.fit(X2)\n",
      "<ipython-input-3-cec4cce8d91e>:37: ConvergenceWarning: Number of distinct clusters (4) found smaller than n_clusters (5). Possibly due to duplicate points in X.\n",
      "  km2.fit(X2)\n",
      "<ipython-input-3-cec4cce8d91e>:37: ConvergenceWarning: Number of distinct clusters (4) found smaller than n_clusters (5). Possibly due to duplicate points in X.\n",
      "  km2.fit(X2)\n",
      "<ipython-input-3-cec4cce8d91e>:37: ConvergenceWarning: Number of distinct clusters (2) found smaller than n_clusters (5). Possibly due to duplicate points in X.\n",
      "  km2.fit(X2)\n",
      "<ipython-input-3-cec4cce8d91e>:37: ConvergenceWarning: Number of distinct clusters (4) found smaller than n_clusters (5). Possibly due to duplicate points in X.\n",
      "  km2.fit(X2)\n"
     ]
    },
    {
     "name": "stdout",
     "output_type": "stream",
     "text": [
      "9800\n",
      "498.02698826789856\n"
     ]
    },
    {
     "name": "stderr",
     "output_type": "stream",
     "text": [
      "<ipython-input-3-cec4cce8d91e>:37: ConvergenceWarning: Number of distinct clusters (2) found smaller than n_clusters (5). Possibly due to duplicate points in X.\n",
      "  km2.fit(X2)\n",
      "<ipython-input-3-cec4cce8d91e>:37: ConvergenceWarning: Number of distinct clusters (3) found smaller than n_clusters (5). Possibly due to duplicate points in X.\n",
      "  km2.fit(X2)\n",
      "<ipython-input-3-cec4cce8d91e>:37: ConvergenceWarning: Number of distinct clusters (3) found smaller than n_clusters (5). Possibly due to duplicate points in X.\n",
      "  km2.fit(X2)\n",
      "<ipython-input-3-cec4cce8d91e>:37: ConvergenceWarning: Number of distinct clusters (3) found smaller than n_clusters (5). Possibly due to duplicate points in X.\n",
      "  km2.fit(X2)\n",
      "<ipython-input-3-cec4cce8d91e>:37: ConvergenceWarning: Number of distinct clusters (3) found smaller than n_clusters (5). Possibly due to duplicate points in X.\n",
      "  km2.fit(X2)\n"
     ]
    },
    {
     "name": "stdout",
     "output_type": "stream",
     "text": [
      "9900\n",
      "502.5482485294342\n"
     ]
    },
    {
     "name": "stderr",
     "output_type": "stream",
     "text": [
      "<ipython-input-3-cec4cce8d91e>:37: ConvergenceWarning: Number of distinct clusters (4) found smaller than n_clusters (5). Possibly due to duplicate points in X.\n",
      "  km2.fit(X2)\n",
      "<ipython-input-3-cec4cce8d91e>:37: ConvergenceWarning: Number of distinct clusters (4) found smaller than n_clusters (5). Possibly due to duplicate points in X.\n",
      "  km2.fit(X2)\n",
      "<ipython-input-3-cec4cce8d91e>:37: ConvergenceWarning: Number of distinct clusters (4) found smaller than n_clusters (5). Possibly due to duplicate points in X.\n",
      "  km2.fit(X2)\n",
      "<ipython-input-3-cec4cce8d91e>:37: ConvergenceWarning: Number of distinct clusters (4) found smaller than n_clusters (5). Possibly due to duplicate points in X.\n",
      "  km2.fit(X2)\n",
      "<ipython-input-3-cec4cce8d91e>:37: ConvergenceWarning: Number of distinct clusters (3) found smaller than n_clusters (5). Possibly due to duplicate points in X.\n",
      "  km2.fit(X2)\n",
      "<ipython-input-3-cec4cce8d91e>:37: ConvergenceWarning: Number of distinct clusters (3) found smaller than n_clusters (5). Possibly due to duplicate points in X.\n",
      "  km2.fit(X2)\n",
      "<ipython-input-3-cec4cce8d91e>:37: ConvergenceWarning: Number of distinct clusters (3) found smaller than n_clusters (5). Possibly due to duplicate points in X.\n",
      "  km2.fit(X2)\n",
      "<ipython-input-3-cec4cce8d91e>:37: ConvergenceWarning: Number of distinct clusters (3) found smaller than n_clusters (5). Possibly due to duplicate points in X.\n",
      "  km2.fit(X2)\n",
      "<ipython-input-3-cec4cce8d91e>:37: ConvergenceWarning: Number of distinct clusters (4) found smaller than n_clusters (5). Possibly due to duplicate points in X.\n",
      "  km2.fit(X2)\n"
     ]
    },
    {
     "name": "stdout",
     "output_type": "stream",
     "text": [
      "10000\n",
      "507.25711274147034\n"
     ]
    },
    {
     "name": "stderr",
     "output_type": "stream",
     "text": [
      "<ipython-input-3-cec4cce8d91e>:37: ConvergenceWarning: Number of distinct clusters (4) found smaller than n_clusters (5). Possibly due to duplicate points in X.\n",
      "  km2.fit(X2)\n",
      "<ipython-input-3-cec4cce8d91e>:37: ConvergenceWarning: Number of distinct clusters (4) found smaller than n_clusters (5). Possibly due to duplicate points in X.\n",
      "  km2.fit(X2)\n",
      "<ipython-input-3-cec4cce8d91e>:37: ConvergenceWarning: Number of distinct clusters (4) found smaller than n_clusters (5). Possibly due to duplicate points in X.\n",
      "  km2.fit(X2)\n",
      "<ipython-input-3-cec4cce8d91e>:37: ConvergenceWarning: Number of distinct clusters (4) found smaller than n_clusters (5). Possibly due to duplicate points in X.\n",
      "  km2.fit(X2)\n",
      "<ipython-input-3-cec4cce8d91e>:37: ConvergenceWarning: Number of distinct clusters (2) found smaller than n_clusters (5). Possibly due to duplicate points in X.\n",
      "  km2.fit(X2)\n",
      "<ipython-input-3-cec4cce8d91e>:37: ConvergenceWarning: Number of distinct clusters (4) found smaller than n_clusters (5). Possibly due to duplicate points in X.\n",
      "  km2.fit(X2)\n",
      "<ipython-input-3-cec4cce8d91e>:37: ConvergenceWarning: Number of distinct clusters (4) found smaller than n_clusters (5). Possibly due to duplicate points in X.\n",
      "  km2.fit(X2)\n",
      "<ipython-input-3-cec4cce8d91e>:37: ConvergenceWarning: Number of distinct clusters (3) found smaller than n_clusters (5). Possibly due to duplicate points in X.\n",
      "  km2.fit(X2)\n"
     ]
    },
    {
     "name": "stdout",
     "output_type": "stream",
     "text": [
      "10100\n",
      "511.8610019683838\n"
     ]
    },
    {
     "name": "stderr",
     "output_type": "stream",
     "text": [
      "<ipython-input-3-cec4cce8d91e>:37: ConvergenceWarning: Number of distinct clusters (3) found smaller than n_clusters (5). Possibly due to duplicate points in X.\n",
      "  km2.fit(X2)\n",
      "<ipython-input-3-cec4cce8d91e>:37: ConvergenceWarning: Number of distinct clusters (4) found smaller than n_clusters (5). Possibly due to duplicate points in X.\n",
      "  km2.fit(X2)\n",
      "<ipython-input-3-cec4cce8d91e>:37: ConvergenceWarning: Number of distinct clusters (4) found smaller than n_clusters (5). Possibly due to duplicate points in X.\n",
      "  km2.fit(X2)\n",
      "<ipython-input-3-cec4cce8d91e>:37: ConvergenceWarning: Number of distinct clusters (4) found smaller than n_clusters (5). Possibly due to duplicate points in X.\n",
      "  km2.fit(X2)\n",
      "<ipython-input-3-cec4cce8d91e>:37: ConvergenceWarning: Number of distinct clusters (2) found smaller than n_clusters (5). Possibly due to duplicate points in X.\n",
      "  km2.fit(X2)\n",
      "<ipython-input-3-cec4cce8d91e>:37: ConvergenceWarning: Number of distinct clusters (4) found smaller than n_clusters (5). Possibly due to duplicate points in X.\n",
      "  km2.fit(X2)\n",
      "<ipython-input-3-cec4cce8d91e>:37: ConvergenceWarning: Number of distinct clusters (2) found smaller than n_clusters (5). Possibly due to duplicate points in X.\n",
      "  km2.fit(X2)\n",
      "<ipython-input-3-cec4cce8d91e>:37: ConvergenceWarning: Number of distinct clusters (3) found smaller than n_clusters (5). Possibly due to duplicate points in X.\n",
      "  km2.fit(X2)\n",
      "<ipython-input-3-cec4cce8d91e>:37: ConvergenceWarning: Number of distinct clusters (3) found smaller than n_clusters (5). Possibly due to duplicate points in X.\n",
      "  km2.fit(X2)\n",
      "<ipython-input-3-cec4cce8d91e>:37: ConvergenceWarning: Number of distinct clusters (4) found smaller than n_clusters (5). Possibly due to duplicate points in X.\n",
      "  km2.fit(X2)\n"
     ]
    },
    {
     "name": "stdout",
     "output_type": "stream",
     "text": [
      "10200\n",
      "516.4831562042236\n"
     ]
    },
    {
     "name": "stderr",
     "output_type": "stream",
     "text": [
      "<ipython-input-3-cec4cce8d91e>:37: ConvergenceWarning: Number of distinct clusters (1) found smaller than n_clusters (5). Possibly due to duplicate points in X.\n",
      "  km2.fit(X2)\n",
      "<ipython-input-3-cec4cce8d91e>:37: ConvergenceWarning: Number of distinct clusters (2) found smaller than n_clusters (5). Possibly due to duplicate points in X.\n",
      "  km2.fit(X2)\n",
      "<ipython-input-3-cec4cce8d91e>:37: ConvergenceWarning: Number of distinct clusters (4) found smaller than n_clusters (5). Possibly due to duplicate points in X.\n",
      "  km2.fit(X2)\n",
      "<ipython-input-3-cec4cce8d91e>:37: ConvergenceWarning: Number of distinct clusters (3) found smaller than n_clusters (5). Possibly due to duplicate points in X.\n",
      "  km2.fit(X2)\n",
      "<ipython-input-3-cec4cce8d91e>:37: ConvergenceWarning: Number of distinct clusters (4) found smaller than n_clusters (5). Possibly due to duplicate points in X.\n",
      "  km2.fit(X2)\n",
      "<ipython-input-3-cec4cce8d91e>:37: ConvergenceWarning: Number of distinct clusters (2) found smaller than n_clusters (5). Possibly due to duplicate points in X.\n",
      "  km2.fit(X2)\n",
      "<ipython-input-3-cec4cce8d91e>:37: ConvergenceWarning: Number of distinct clusters (4) found smaller than n_clusters (5). Possibly due to duplicate points in X.\n",
      "  km2.fit(X2)\n",
      "<ipython-input-3-cec4cce8d91e>:37: ConvergenceWarning: Number of distinct clusters (3) found smaller than n_clusters (5). Possibly due to duplicate points in X.\n",
      "  km2.fit(X2)\n"
     ]
    },
    {
     "name": "stdout",
     "output_type": "stream",
     "text": [
      "10300\n",
      "520.971616268158\n"
     ]
    },
    {
     "name": "stderr",
     "output_type": "stream",
     "text": [
      "<ipython-input-3-cec4cce8d91e>:37: ConvergenceWarning: Number of distinct clusters (4) found smaller than n_clusters (5). Possibly due to duplicate points in X.\n",
      "  km2.fit(X2)\n",
      "<ipython-input-3-cec4cce8d91e>:37: ConvergenceWarning: Number of distinct clusters (3) found smaller than n_clusters (5). Possibly due to duplicate points in X.\n",
      "  km2.fit(X2)\n",
      "<ipython-input-3-cec4cce8d91e>:37: ConvergenceWarning: Number of distinct clusters (4) found smaller than n_clusters (5). Possibly due to duplicate points in X.\n",
      "  km2.fit(X2)\n",
      "<ipython-input-3-cec4cce8d91e>:37: ConvergenceWarning: Number of distinct clusters (2) found smaller than n_clusters (5). Possibly due to duplicate points in X.\n",
      "  km2.fit(X2)\n",
      "<ipython-input-3-cec4cce8d91e>:37: ConvergenceWarning: Number of distinct clusters (2) found smaller than n_clusters (5). Possibly due to duplicate points in X.\n",
      "  km2.fit(X2)\n",
      "<ipython-input-3-cec4cce8d91e>:37: ConvergenceWarning: Number of distinct clusters (1) found smaller than n_clusters (5). Possibly due to duplicate points in X.\n",
      "  km2.fit(X2)\n",
      "<ipython-input-3-cec4cce8d91e>:37: ConvergenceWarning: Number of distinct clusters (2) found smaller than n_clusters (5). Possibly due to duplicate points in X.\n",
      "  km2.fit(X2)\n",
      "<ipython-input-3-cec4cce8d91e>:37: ConvergenceWarning: Number of distinct clusters (2) found smaller than n_clusters (5). Possibly due to duplicate points in X.\n",
      "  km2.fit(X2)\n",
      "<ipython-input-3-cec4cce8d91e>:37: ConvergenceWarning: Number of distinct clusters (4) found smaller than n_clusters (5). Possibly due to duplicate points in X.\n",
      "  km2.fit(X2)\n",
      "<ipython-input-3-cec4cce8d91e>:37: ConvergenceWarning: Number of distinct clusters (3) found smaller than n_clusters (5). Possibly due to duplicate points in X.\n",
      "  km2.fit(X2)\n"
     ]
    },
    {
     "name": "stdout",
     "output_type": "stream",
     "text": [
      "10400\n",
      "525.5650305747986\n"
     ]
    },
    {
     "name": "stderr",
     "output_type": "stream",
     "text": [
      "<ipython-input-3-cec4cce8d91e>:37: ConvergenceWarning: Number of distinct clusters (3) found smaller than n_clusters (5). Possibly due to duplicate points in X.\n",
      "  km2.fit(X2)\n",
      "<ipython-input-3-cec4cce8d91e>:37: ConvergenceWarning: Number of distinct clusters (2) found smaller than n_clusters (5). Possibly due to duplicate points in X.\n",
      "  km2.fit(X2)\n",
      "<ipython-input-3-cec4cce8d91e>:37: ConvergenceWarning: Number of distinct clusters (4) found smaller than n_clusters (5). Possibly due to duplicate points in X.\n",
      "  km2.fit(X2)\n",
      "<ipython-input-3-cec4cce8d91e>:37: ConvergenceWarning: Number of distinct clusters (4) found smaller than n_clusters (5). Possibly due to duplicate points in X.\n",
      "  km2.fit(X2)\n",
      "<ipython-input-3-cec4cce8d91e>:37: ConvergenceWarning: Number of distinct clusters (3) found smaller than n_clusters (5). Possibly due to duplicate points in X.\n",
      "  km2.fit(X2)\n",
      "<ipython-input-3-cec4cce8d91e>:37: ConvergenceWarning: Number of distinct clusters (4) found smaller than n_clusters (5). Possibly due to duplicate points in X.\n",
      "  km2.fit(X2)\n",
      "<ipython-input-3-cec4cce8d91e>:37: ConvergenceWarning: Number of distinct clusters (3) found smaller than n_clusters (5). Possibly due to duplicate points in X.\n",
      "  km2.fit(X2)\n",
      "<ipython-input-3-cec4cce8d91e>:37: ConvergenceWarning: Number of distinct clusters (2) found smaller than n_clusters (5). Possibly due to duplicate points in X.\n",
      "  km2.fit(X2)\n",
      "<ipython-input-3-cec4cce8d91e>:37: ConvergenceWarning: Number of distinct clusters (2) found smaller than n_clusters (5). Possibly due to duplicate points in X.\n",
      "  km2.fit(X2)\n",
      "<ipython-input-3-cec4cce8d91e>:37: ConvergenceWarning: Number of distinct clusters (2) found smaller than n_clusters (5). Possibly due to duplicate points in X.\n",
      "  km2.fit(X2)\n",
      "<ipython-input-3-cec4cce8d91e>:37: ConvergenceWarning: Number of distinct clusters (2) found smaller than n_clusters (5). Possibly due to duplicate points in X.\n",
      "  km2.fit(X2)\n"
     ]
    },
    {
     "name": "stdout",
     "output_type": "stream",
     "text": [
      "10500\n",
      "530.1857323646545\n"
     ]
    },
    {
     "name": "stderr",
     "output_type": "stream",
     "text": [
      "<ipython-input-3-cec4cce8d91e>:37: ConvergenceWarning: Number of distinct clusters (3) found smaller than n_clusters (5). Possibly due to duplicate points in X.\n",
      "  km2.fit(X2)\n",
      "<ipython-input-3-cec4cce8d91e>:37: ConvergenceWarning: Number of distinct clusters (3) found smaller than n_clusters (5). Possibly due to duplicate points in X.\n",
      "  km2.fit(X2)\n",
      "<ipython-input-3-cec4cce8d91e>:37: ConvergenceWarning: Number of distinct clusters (3) found smaller than n_clusters (5). Possibly due to duplicate points in X.\n",
      "  km2.fit(X2)\n",
      "<ipython-input-3-cec4cce8d91e>:37: ConvergenceWarning: Number of distinct clusters (4) found smaller than n_clusters (5). Possibly due to duplicate points in X.\n",
      "  km2.fit(X2)\n",
      "<ipython-input-3-cec4cce8d91e>:37: ConvergenceWarning: Number of distinct clusters (2) found smaller than n_clusters (5). Possibly due to duplicate points in X.\n",
      "  km2.fit(X2)\n"
     ]
    },
    {
     "name": "stdout",
     "output_type": "stream",
     "text": [
      "10600\n",
      "534.8170049190521\n"
     ]
    },
    {
     "name": "stderr",
     "output_type": "stream",
     "text": [
      "<ipython-input-3-cec4cce8d91e>:37: ConvergenceWarning: Number of distinct clusters (3) found smaller than n_clusters (5). Possibly due to duplicate points in X.\n",
      "  km2.fit(X2)\n",
      "<ipython-input-3-cec4cce8d91e>:37: ConvergenceWarning: Number of distinct clusters (4) found smaller than n_clusters (5). Possibly due to duplicate points in X.\n",
      "  km2.fit(X2)\n",
      "<ipython-input-3-cec4cce8d91e>:37: ConvergenceWarning: Number of distinct clusters (4) found smaller than n_clusters (5). Possibly due to duplicate points in X.\n",
      "  km2.fit(X2)\n",
      "<ipython-input-3-cec4cce8d91e>:37: ConvergenceWarning: Number of distinct clusters (2) found smaller than n_clusters (5). Possibly due to duplicate points in X.\n",
      "  km2.fit(X2)\n",
      "<ipython-input-3-cec4cce8d91e>:37: ConvergenceWarning: Number of distinct clusters (1) found smaller than n_clusters (5). Possibly due to duplicate points in X.\n",
      "  km2.fit(X2)\n",
      "<ipython-input-3-cec4cce8d91e>:37: ConvergenceWarning: Number of distinct clusters (2) found smaller than n_clusters (5). Possibly due to duplicate points in X.\n",
      "  km2.fit(X2)\n",
      "<ipython-input-3-cec4cce8d91e>:37: ConvergenceWarning: Number of distinct clusters (1) found smaller than n_clusters (5). Possibly due to duplicate points in X.\n",
      "  km2.fit(X2)\n",
      "<ipython-input-3-cec4cce8d91e>:37: ConvergenceWarning: Number of distinct clusters (4) found smaller than n_clusters (5). Possibly due to duplicate points in X.\n",
      "  km2.fit(X2)\n",
      "<ipython-input-3-cec4cce8d91e>:37: ConvergenceWarning: Number of distinct clusters (3) found smaller than n_clusters (5). Possibly due to duplicate points in X.\n",
      "  km2.fit(X2)\n"
     ]
    },
    {
     "name": "stdout",
     "output_type": "stream",
     "text": [
      "10700\n",
      "539.5305910110474\n"
     ]
    },
    {
     "name": "stderr",
     "output_type": "stream",
     "text": [
      "<ipython-input-3-cec4cce8d91e>:37: ConvergenceWarning: Number of distinct clusters (3) found smaller than n_clusters (5). Possibly due to duplicate points in X.\n",
      "  km2.fit(X2)\n",
      "<ipython-input-3-cec4cce8d91e>:37: ConvergenceWarning: Number of distinct clusters (3) found smaller than n_clusters (5). Possibly due to duplicate points in X.\n",
      "  km2.fit(X2)\n",
      "<ipython-input-3-cec4cce8d91e>:37: ConvergenceWarning: Number of distinct clusters (4) found smaller than n_clusters (5). Possibly due to duplicate points in X.\n",
      "  km2.fit(X2)\n",
      "<ipython-input-3-cec4cce8d91e>:37: ConvergenceWarning: Number of distinct clusters (3) found smaller than n_clusters (5). Possibly due to duplicate points in X.\n",
      "  km2.fit(X2)\n",
      "<ipython-input-3-cec4cce8d91e>:37: ConvergenceWarning: Number of distinct clusters (2) found smaller than n_clusters (5). Possibly due to duplicate points in X.\n",
      "  km2.fit(X2)\n",
      "<ipython-input-3-cec4cce8d91e>:37: ConvergenceWarning: Number of distinct clusters (1) found smaller than n_clusters (5). Possibly due to duplicate points in X.\n",
      "  km2.fit(X2)\n",
      "<ipython-input-3-cec4cce8d91e>:37: ConvergenceWarning: Number of distinct clusters (4) found smaller than n_clusters (5). Possibly due to duplicate points in X.\n",
      "  km2.fit(X2)\n",
      "<ipython-input-3-cec4cce8d91e>:37: ConvergenceWarning: Number of distinct clusters (4) found smaller than n_clusters (5). Possibly due to duplicate points in X.\n",
      "  km2.fit(X2)\n",
      "<ipython-input-3-cec4cce8d91e>:37: ConvergenceWarning: Number of distinct clusters (3) found smaller than n_clusters (5). Possibly due to duplicate points in X.\n",
      "  km2.fit(X2)\n"
     ]
    },
    {
     "name": "stdout",
     "output_type": "stream",
     "text": [
      "10800\n",
      "544.4006102085114\n"
     ]
    },
    {
     "name": "stderr",
     "output_type": "stream",
     "text": [
      "<ipython-input-3-cec4cce8d91e>:37: ConvergenceWarning: Number of distinct clusters (3) found smaller than n_clusters (5). Possibly due to duplicate points in X.\n",
      "  km2.fit(X2)\n",
      "<ipython-input-3-cec4cce8d91e>:37: ConvergenceWarning: Number of distinct clusters (4) found smaller than n_clusters (5). Possibly due to duplicate points in X.\n",
      "  km2.fit(X2)\n",
      "<ipython-input-3-cec4cce8d91e>:37: ConvergenceWarning: Number of distinct clusters (3) found smaller than n_clusters (5). Possibly due to duplicate points in X.\n",
      "  km2.fit(X2)\n",
      "<ipython-input-3-cec4cce8d91e>:37: ConvergenceWarning: Number of distinct clusters (1) found smaller than n_clusters (5). Possibly due to duplicate points in X.\n",
      "  km2.fit(X2)\n",
      "<ipython-input-3-cec4cce8d91e>:37: ConvergenceWarning: Number of distinct clusters (3) found smaller than n_clusters (5). Possibly due to duplicate points in X.\n",
      "  km2.fit(X2)\n",
      "<ipython-input-3-cec4cce8d91e>:37: ConvergenceWarning: Number of distinct clusters (4) found smaller than n_clusters (5). Possibly due to duplicate points in X.\n",
      "  km2.fit(X2)\n"
     ]
    },
    {
     "name": "stdout",
     "output_type": "stream",
     "text": [
      "10900\n",
      "548.9259338378906\n"
     ]
    },
    {
     "name": "stderr",
     "output_type": "stream",
     "text": [
      "<ipython-input-3-cec4cce8d91e>:37: ConvergenceWarning: Number of distinct clusters (4) found smaller than n_clusters (5). Possibly due to duplicate points in X.\n",
      "  km2.fit(X2)\n",
      "<ipython-input-3-cec4cce8d91e>:37: ConvergenceWarning: Number of distinct clusters (2) found smaller than n_clusters (5). Possibly due to duplicate points in X.\n",
      "  km2.fit(X2)\n",
      "<ipython-input-3-cec4cce8d91e>:37: ConvergenceWarning: Number of distinct clusters (1) found smaller than n_clusters (5). Possibly due to duplicate points in X.\n",
      "  km2.fit(X2)\n",
      "<ipython-input-3-cec4cce8d91e>:37: ConvergenceWarning: Number of distinct clusters (4) found smaller than n_clusters (5). Possibly due to duplicate points in X.\n",
      "  km2.fit(X2)\n",
      "<ipython-input-3-cec4cce8d91e>:37: ConvergenceWarning: Number of distinct clusters (1) found smaller than n_clusters (5). Possibly due to duplicate points in X.\n",
      "  km2.fit(X2)\n",
      "<ipython-input-3-cec4cce8d91e>:37: ConvergenceWarning: Number of distinct clusters (1) found smaller than n_clusters (5). Possibly due to duplicate points in X.\n",
      "  km2.fit(X2)\n",
      "<ipython-input-3-cec4cce8d91e>:37: ConvergenceWarning: Number of distinct clusters (2) found smaller than n_clusters (5). Possibly due to duplicate points in X.\n",
      "  km2.fit(X2)\n",
      "<ipython-input-3-cec4cce8d91e>:37: ConvergenceWarning: Number of distinct clusters (4) found smaller than n_clusters (5). Possibly due to duplicate points in X.\n",
      "  km2.fit(X2)\n"
     ]
    },
    {
     "name": "stdout",
     "output_type": "stream",
     "text": [
      "11000\n",
      "553.5018472671509\n"
     ]
    },
    {
     "name": "stderr",
     "output_type": "stream",
     "text": [
      "<ipython-input-3-cec4cce8d91e>:37: ConvergenceWarning: Number of distinct clusters (2) found smaller than n_clusters (5). Possibly due to duplicate points in X.\n",
      "  km2.fit(X2)\n",
      "<ipython-input-3-cec4cce8d91e>:37: ConvergenceWarning: Number of distinct clusters (2) found smaller than n_clusters (5). Possibly due to duplicate points in X.\n",
      "  km2.fit(X2)\n",
      "<ipython-input-3-cec4cce8d91e>:37: ConvergenceWarning: Number of distinct clusters (4) found smaller than n_clusters (5). Possibly due to duplicate points in X.\n",
      "  km2.fit(X2)\n",
      "<ipython-input-3-cec4cce8d91e>:37: ConvergenceWarning: Number of distinct clusters (1) found smaller than n_clusters (5). Possibly due to duplicate points in X.\n",
      "  km2.fit(X2)\n",
      "<ipython-input-3-cec4cce8d91e>:37: ConvergenceWarning: Number of distinct clusters (4) found smaller than n_clusters (5). Possibly due to duplicate points in X.\n",
      "  km2.fit(X2)\n",
      "<ipython-input-3-cec4cce8d91e>:37: ConvergenceWarning: Number of distinct clusters (2) found smaller than n_clusters (5). Possibly due to duplicate points in X.\n",
      "  km2.fit(X2)\n",
      "<ipython-input-3-cec4cce8d91e>:37: ConvergenceWarning: Number of distinct clusters (4) found smaller than n_clusters (5). Possibly due to duplicate points in X.\n",
      "  km2.fit(X2)\n",
      "<ipython-input-3-cec4cce8d91e>:37: ConvergenceWarning: Number of distinct clusters (4) found smaller than n_clusters (5). Possibly due to duplicate points in X.\n",
      "  km2.fit(X2)\n",
      "<ipython-input-3-cec4cce8d91e>:37: ConvergenceWarning: Number of distinct clusters (4) found smaller than n_clusters (5). Possibly due to duplicate points in X.\n",
      "  km2.fit(X2)\n"
     ]
    },
    {
     "name": "stdout",
     "output_type": "stream",
     "text": [
      "11100\n",
      "557.996481180191\n"
     ]
    },
    {
     "name": "stderr",
     "output_type": "stream",
     "text": [
      "<ipython-input-3-cec4cce8d91e>:37: ConvergenceWarning: Number of distinct clusters (4) found smaller than n_clusters (5). Possibly due to duplicate points in X.\n",
      "  km2.fit(X2)\n",
      "<ipython-input-3-cec4cce8d91e>:37: ConvergenceWarning: Number of distinct clusters (2) found smaller than n_clusters (5). Possibly due to duplicate points in X.\n",
      "  km2.fit(X2)\n",
      "<ipython-input-3-cec4cce8d91e>:37: ConvergenceWarning: Number of distinct clusters (2) found smaller than n_clusters (5). Possibly due to duplicate points in X.\n",
      "  km2.fit(X2)\n",
      "<ipython-input-3-cec4cce8d91e>:37: ConvergenceWarning: Number of distinct clusters (4) found smaller than n_clusters (5). Possibly due to duplicate points in X.\n",
      "  km2.fit(X2)\n",
      "<ipython-input-3-cec4cce8d91e>:37: ConvergenceWarning: Number of distinct clusters (3) found smaller than n_clusters (5). Possibly due to duplicate points in X.\n",
      "  km2.fit(X2)\n",
      "<ipython-input-3-cec4cce8d91e>:37: ConvergenceWarning: Number of distinct clusters (4) found smaller than n_clusters (5). Possibly due to duplicate points in X.\n",
      "  km2.fit(X2)\n",
      "<ipython-input-3-cec4cce8d91e>:37: ConvergenceWarning: Number of distinct clusters (4) found smaller than n_clusters (5). Possibly due to duplicate points in X.\n",
      "  km2.fit(X2)\n",
      "<ipython-input-3-cec4cce8d91e>:37: ConvergenceWarning: Number of distinct clusters (3) found smaller than n_clusters (5). Possibly due to duplicate points in X.\n",
      "  km2.fit(X2)\n",
      "<ipython-input-3-cec4cce8d91e>:37: ConvergenceWarning: Number of distinct clusters (1) found smaller than n_clusters (5). Possibly due to duplicate points in X.\n",
      "  km2.fit(X2)\n",
      "<ipython-input-3-cec4cce8d91e>:37: ConvergenceWarning: Number of distinct clusters (3) found smaller than n_clusters (5). Possibly due to duplicate points in X.\n",
      "  km2.fit(X2)\n",
      "<ipython-input-3-cec4cce8d91e>:37: ConvergenceWarning: Number of distinct clusters (4) found smaller than n_clusters (5). Possibly due to duplicate points in X.\n",
      "  km2.fit(X2)\n"
     ]
    },
    {
     "name": "stdout",
     "output_type": "stream",
     "text": [
      "11200\n",
      "562.4560718536377\n"
     ]
    },
    {
     "name": "stderr",
     "output_type": "stream",
     "text": [
      "<ipython-input-3-cec4cce8d91e>:37: ConvergenceWarning: Number of distinct clusters (4) found smaller than n_clusters (5). Possibly due to duplicate points in X.\n",
      "  km2.fit(X2)\n",
      "<ipython-input-3-cec4cce8d91e>:37: ConvergenceWarning: Number of distinct clusters (4) found smaller than n_clusters (5). Possibly due to duplicate points in X.\n",
      "  km2.fit(X2)\n",
      "<ipython-input-3-cec4cce8d91e>:37: ConvergenceWarning: Number of distinct clusters (2) found smaller than n_clusters (5). Possibly due to duplicate points in X.\n",
      "  km2.fit(X2)\n",
      "<ipython-input-3-cec4cce8d91e>:37: ConvergenceWarning: Number of distinct clusters (2) found smaller than n_clusters (5). Possibly due to duplicate points in X.\n",
      "  km2.fit(X2)\n",
      "<ipython-input-3-cec4cce8d91e>:37: ConvergenceWarning: Number of distinct clusters (4) found smaller than n_clusters (5). Possibly due to duplicate points in X.\n",
      "  km2.fit(X2)\n",
      "<ipython-input-3-cec4cce8d91e>:37: ConvergenceWarning: Number of distinct clusters (2) found smaller than n_clusters (5). Possibly due to duplicate points in X.\n",
      "  km2.fit(X2)\n",
      "<ipython-input-3-cec4cce8d91e>:37: ConvergenceWarning: Number of distinct clusters (1) found smaller than n_clusters (5). Possibly due to duplicate points in X.\n",
      "  km2.fit(X2)\n",
      "<ipython-input-3-cec4cce8d91e>:37: ConvergenceWarning: Number of distinct clusters (1) found smaller than n_clusters (5). Possibly due to duplicate points in X.\n",
      "  km2.fit(X2)\n",
      "<ipython-input-3-cec4cce8d91e>:37: ConvergenceWarning: Number of distinct clusters (2) found smaller than n_clusters (5). Possibly due to duplicate points in X.\n",
      "  km2.fit(X2)\n",
      "<ipython-input-3-cec4cce8d91e>:37: ConvergenceWarning: Number of distinct clusters (4) found smaller than n_clusters (5). Possibly due to duplicate points in X.\n",
      "  km2.fit(X2)\n",
      "<ipython-input-3-cec4cce8d91e>:37: ConvergenceWarning: Number of distinct clusters (4) found smaller than n_clusters (5). Possibly due to duplicate points in X.\n",
      "  km2.fit(X2)\n",
      "<ipython-input-3-cec4cce8d91e>:37: ConvergenceWarning: Number of distinct clusters (1) found smaller than n_clusters (5). Possibly due to duplicate points in X.\n",
      "  km2.fit(X2)\n",
      "<ipython-input-3-cec4cce8d91e>:37: ConvergenceWarning: Number of distinct clusters (1) found smaller than n_clusters (5). Possibly due to duplicate points in X.\n",
      "  km2.fit(X2)\n",
      "<ipython-input-3-cec4cce8d91e>:37: ConvergenceWarning: Number of distinct clusters (3) found smaller than n_clusters (5). Possibly due to duplicate points in X.\n",
      "  km2.fit(X2)\n",
      "<ipython-input-3-cec4cce8d91e>:37: ConvergenceWarning: Number of distinct clusters (4) found smaller than n_clusters (5). Possibly due to duplicate points in X.\n",
      "  km2.fit(X2)\n"
     ]
    },
    {
     "name": "stdout",
     "output_type": "stream",
     "text": [
      "11300\n",
      "566.9689302444458\n"
     ]
    },
    {
     "name": "stderr",
     "output_type": "stream",
     "text": [
      "<ipython-input-3-cec4cce8d91e>:37: ConvergenceWarning: Number of distinct clusters (1) found smaller than n_clusters (5). Possibly due to duplicate points in X.\n",
      "  km2.fit(X2)\n",
      "<ipython-input-3-cec4cce8d91e>:37: ConvergenceWarning: Number of distinct clusters (4) found smaller than n_clusters (5). Possibly due to duplicate points in X.\n",
      "  km2.fit(X2)\n",
      "<ipython-input-3-cec4cce8d91e>:37: ConvergenceWarning: Number of distinct clusters (4) found smaller than n_clusters (5). Possibly due to duplicate points in X.\n",
      "  km2.fit(X2)\n",
      "<ipython-input-3-cec4cce8d91e>:37: ConvergenceWarning: Number of distinct clusters (4) found smaller than n_clusters (5). Possibly due to duplicate points in X.\n",
      "  km2.fit(X2)\n",
      "<ipython-input-3-cec4cce8d91e>:37: ConvergenceWarning: Number of distinct clusters (4) found smaller than n_clusters (5). Possibly due to duplicate points in X.\n",
      "  km2.fit(X2)\n",
      "<ipython-input-3-cec4cce8d91e>:37: ConvergenceWarning: Number of distinct clusters (2) found smaller than n_clusters (5). Possibly due to duplicate points in X.\n",
      "  km2.fit(X2)\n",
      "<ipython-input-3-cec4cce8d91e>:37: ConvergenceWarning: Number of distinct clusters (3) found smaller than n_clusters (5). Possibly due to duplicate points in X.\n",
      "  km2.fit(X2)\n",
      "<ipython-input-3-cec4cce8d91e>:37: ConvergenceWarning: Number of distinct clusters (4) found smaller than n_clusters (5). Possibly due to duplicate points in X.\n",
      "  km2.fit(X2)\n",
      "<ipython-input-3-cec4cce8d91e>:37: ConvergenceWarning: Number of distinct clusters (4) found smaller than n_clusters (5). Possibly due to duplicate points in X.\n",
      "  km2.fit(X2)\n",
      "<ipython-input-3-cec4cce8d91e>:37: ConvergenceWarning: Number of distinct clusters (4) found smaller than n_clusters (5). Possibly due to duplicate points in X.\n",
      "  km2.fit(X2)\n",
      "<ipython-input-3-cec4cce8d91e>:37: ConvergenceWarning: Number of distinct clusters (3) found smaller than n_clusters (5). Possibly due to duplicate points in X.\n",
      "  km2.fit(X2)\n",
      "<ipython-input-3-cec4cce8d91e>:37: ConvergenceWarning: Number of distinct clusters (3) found smaller than n_clusters (5). Possibly due to duplicate points in X.\n",
      "  km2.fit(X2)\n",
      "<ipython-input-3-cec4cce8d91e>:37: ConvergenceWarning: Number of distinct clusters (4) found smaller than n_clusters (5). Possibly due to duplicate points in X.\n",
      "  km2.fit(X2)\n",
      "<ipython-input-3-cec4cce8d91e>:37: ConvergenceWarning: Number of distinct clusters (4) found smaller than n_clusters (5). Possibly due to duplicate points in X.\n",
      "  km2.fit(X2)\n",
      "<ipython-input-3-cec4cce8d91e>:37: ConvergenceWarning: Number of distinct clusters (3) found smaller than n_clusters (5). Possibly due to duplicate points in X.\n",
      "  km2.fit(X2)\n",
      "<ipython-input-3-cec4cce8d91e>:37: ConvergenceWarning: Number of distinct clusters (2) found smaller than n_clusters (5). Possibly due to duplicate points in X.\n",
      "  km2.fit(X2)\n",
      "<ipython-input-3-cec4cce8d91e>:37: ConvergenceWarning: Number of distinct clusters (1) found smaller than n_clusters (5). Possibly due to duplicate points in X.\n",
      "  km2.fit(X2)\n",
      "<ipython-input-3-cec4cce8d91e>:37: ConvergenceWarning: Number of distinct clusters (3) found smaller than n_clusters (5). Possibly due to duplicate points in X.\n",
      "  km2.fit(X2)\n",
      "<ipython-input-3-cec4cce8d91e>:37: ConvergenceWarning: Number of distinct clusters (2) found smaller than n_clusters (5). Possibly due to duplicate points in X.\n",
      "  km2.fit(X2)\n",
      "<ipython-input-3-cec4cce8d91e>:37: ConvergenceWarning: Number of distinct clusters (3) found smaller than n_clusters (5). Possibly due to duplicate points in X.\n",
      "  km2.fit(X2)\n",
      "<ipython-input-3-cec4cce8d91e>:37: ConvergenceWarning: Number of distinct clusters (2) found smaller than n_clusters (5). Possibly due to duplicate points in X.\n",
      "  km2.fit(X2)\n"
     ]
    },
    {
     "name": "stdout",
     "output_type": "stream",
     "text": [
      "11400\n",
      "571.39981508255\n"
     ]
    },
    {
     "name": "stderr",
     "output_type": "stream",
     "text": [
      "<ipython-input-3-cec4cce8d91e>:37: ConvergenceWarning: Number of distinct clusters (4) found smaller than n_clusters (5). Possibly due to duplicate points in X.\n",
      "  km2.fit(X2)\n",
      "<ipython-input-3-cec4cce8d91e>:37: ConvergenceWarning: Number of distinct clusters (2) found smaller than n_clusters (5). Possibly due to duplicate points in X.\n",
      "  km2.fit(X2)\n",
      "<ipython-input-3-cec4cce8d91e>:37: ConvergenceWarning: Number of distinct clusters (3) found smaller than n_clusters (5). Possibly due to duplicate points in X.\n",
      "  km2.fit(X2)\n",
      "<ipython-input-3-cec4cce8d91e>:37: ConvergenceWarning: Number of distinct clusters (3) found smaller than n_clusters (5). Possibly due to duplicate points in X.\n",
      "  km2.fit(X2)\n",
      "<ipython-input-3-cec4cce8d91e>:37: ConvergenceWarning: Number of distinct clusters (1) found smaller than n_clusters (5). Possibly due to duplicate points in X.\n",
      "  km2.fit(X2)\n",
      "<ipython-input-3-cec4cce8d91e>:37: ConvergenceWarning: Number of distinct clusters (3) found smaller than n_clusters (5). Possibly due to duplicate points in X.\n",
      "  km2.fit(X2)\n",
      "<ipython-input-3-cec4cce8d91e>:37: ConvergenceWarning: Number of distinct clusters (2) found smaller than n_clusters (5). Possibly due to duplicate points in X.\n",
      "  km2.fit(X2)\n",
      "<ipython-input-3-cec4cce8d91e>:37: ConvergenceWarning: Number of distinct clusters (2) found smaller than n_clusters (5). Possibly due to duplicate points in X.\n",
      "  km2.fit(X2)\n",
      "<ipython-input-3-cec4cce8d91e>:37: ConvergenceWarning: Number of distinct clusters (4) found smaller than n_clusters (5). Possibly due to duplicate points in X.\n",
      "  km2.fit(X2)\n",
      "<ipython-input-3-cec4cce8d91e>:37: ConvergenceWarning: Number of distinct clusters (3) found smaller than n_clusters (5). Possibly due to duplicate points in X.\n",
      "  km2.fit(X2)\n",
      "<ipython-input-3-cec4cce8d91e>:37: ConvergenceWarning: Number of distinct clusters (3) found smaller than n_clusters (5). Possibly due to duplicate points in X.\n",
      "  km2.fit(X2)\n",
      "<ipython-input-3-cec4cce8d91e>:37: ConvergenceWarning: Number of distinct clusters (4) found smaller than n_clusters (5). Possibly due to duplicate points in X.\n",
      "  km2.fit(X2)\n",
      "<ipython-input-3-cec4cce8d91e>:37: ConvergenceWarning: Number of distinct clusters (3) found smaller than n_clusters (5). Possibly due to duplicate points in X.\n",
      "  km2.fit(X2)\n",
      "<ipython-input-3-cec4cce8d91e>:37: ConvergenceWarning: Number of distinct clusters (2) found smaller than n_clusters (5). Possibly due to duplicate points in X.\n",
      "  km2.fit(X2)\n",
      "<ipython-input-3-cec4cce8d91e>:37: ConvergenceWarning: Number of distinct clusters (2) found smaller than n_clusters (5). Possibly due to duplicate points in X.\n",
      "  km2.fit(X2)\n"
     ]
    }
   ],
   "source": [
    "recs = {}\n",
    "now = time.time()\n",
    "zz = 0\n",
    "cc = 0\n",
    "\n",
    "for item in outL:\n",
    "    fname = 'OutlierDFs/'+str(item[0])+'_'+str(item[1])+'.pkd'\n",
    "    out1 = dill.load(open(fname,'rb'))\n",
    "    d = []\n",
    "    p = []\n",
    "    v = []\n",
    "    for ii,row in out1.iterrows():\n",
    "        date1 = pd.Timestamp(row['Start_Time']).time()\n",
    "        d.append(date1.hour+date1.minute/60.0 + date1.second/60.0/60.0)\n",
    "        p.append(row['Precipitation(in)'])\n",
    "        v.append(row['Visibility(mi)'])\n",
    "        \n",
    "    for jj,pval in enumerate(p):\n",
    "        if math.isnan(pval):\n",
    "            p[jj] = 0.0\n",
    "        if math.isnan(v[jj]):\n",
    "            v[jj] = 0.0\n",
    "        \n",
    "    X1 = []\n",
    "    X2 = []\n",
    "\n",
    "    for kk in range(len(p)):\n",
    "        X1.append([p[kk],d[kk]])\n",
    "        X2.append([p[kk],v[kk]])\n",
    "    X1 = np.array(X1)\n",
    "    X2 = np.array(X2)\n",
    "    \n",
    "    km1 = KMeans(n_clusters=5,max_iter=20)\n",
    "    km1.fit(X1)\n",
    "    \n",
    "    km2 = KMeans(n_clusters=5,max_iter=20)\n",
    "    km2.fit(X2)\n",
    "    \n",
    "    centers1 = km1.cluster_centers_\n",
    "    centers2 = km2.cluster_centers_\n",
    "    \n",
    "    rec = []\n",
    "    \n",
    "    if sum(centers1.T[0] > 0.03) >= 3:\n",
    "        rec.append('Drainage')\n",
    "    if (sum(centers1.T[1] <= 6) + sum(centers1.T[1] >= 20)) >= 2:\n",
    "        rec.append('Lighting/Visibility')\n",
    "    if sum(centers2.T[0] > 0.03) >= 3 and 'Drainage' not in rec:\n",
    "        rec.append('Drainage')\n",
    "    if sum(centers2.T[1] < 5) >= 3:\n",
    "        rec.append('Visibility')\n",
    "    if not rec:\n",
    "        rec.append('Volume/Geometry')\n",
    "        \n",
    "    recs[item] = rec\n",
    "    if zz % 100 == 0:\n",
    "        print(zz)\n",
    "        print(time.time()-now)\n",
    "    zz += 1"
   ]
  },
  {
   "cell_type": "code",
   "execution_count": 35,
   "metadata": {},
   "outputs": [],
   "source": [
    "recs2 = {}\n",
    "\n",
    "for item in recs:\n",
    "    recs2[item] = ', '.join(recs[item])"
   ]
  },
  {
   "cell_type": "code",
   "execution_count": 37,
   "metadata": {},
   "outputs": [],
   "source": [
    "dill.dump(recs2,open('recommendations.pkd','wb'))"
   ]
  },
  {
   "cell_type": "code",
   "execution_count": 26,
   "metadata": {},
   "outputs": [],
   "source": [
    "b = 0\n",
    "for item in recs:\n",
    "    if recs[item] == ['Lighting/Visibility', 'Drainage', 'Visibility']:\n",
    "        b += 1"
   ]
  },
  {
   "cell_type": "code",
   "execution_count": 35,
   "metadata": {},
   "outputs": [],
   "source": [
    "from matplotlib import pylab as plt\n",
    "from ipywidgets import interact\n",
    "from sklearn.cluster import KMeans\n",
    "\n",
    "def plot_kmeans(X, n=3, start=None):\n",
    "    colors = ['#ba2121ff', '#42a5f5ff', '#efa016ff', '#000000ff', '#f231f2', '#6f7c91ff']\n",
    "\n",
    "    if start is not None:\n",
    "        n = start.shape[0]\n",
    "    else:\n",
    "        start = X[::((X.shape[0]//n)+1),:]\n",
    "    \n",
    "    def func(train_steps=0):\n",
    "        \n",
    "        if train_steps:\n",
    "            km = KMeans(n_clusters=n, max_iter=train_steps, n_init=1)#, init=start)\n",
    "            km.fit(X)\n",
    "            print(km.cluster_centers_)\n",
    "            centers = km.cluster_centers_.T\n",
    "            cols = [colors[label] for label in km.labels_]\n",
    "        else:\n",
    "            centers = start.T\n",
    "            cols = '0.5'\n",
    "        if centers.shape[0] > 2:\n",
    "            from mpl_toolkits.mplot3d import Axes3D            \n",
    "            fig = plt.figure()\n",
    "            ax = fig.add_subplot(111, projection='3d')\n",
    "            ax.scatter(*X.T, s=20, c=cols)\n",
    "            ax.scatter(*centers, c=colors[:len(centers.T)], s=150, marker='*',linewidth=1, edgecolors='k')\n",
    "        else:\n",
    "            plt.scatter(*X.T, s=20, c=cols)\n",
    "            plt.scatter(*centers, c=colors[:len(centers.T)], marker='*', s=150,linewidth=1, edgecolors='k')\n",
    "        #plt.axis('image')\n",
    "        plt.title('Precipitation vs Time')\n",
    "        plt.xlabel('Precipitation (in)')\n",
    "        plt.ylabel('Time (hrs)')\n",
    "    \n",
    "    return func"
   ]
  },
  {
   "cell_type": "code",
   "execution_count": 48,
   "metadata": {
    "scrolled": false
   },
   "outputs": [
    {
     "data": {
      "application/vnd.jupyter.widget-view+json": {
       "model_id": "b4bd212f26bd47eb82963b4ba13828a2",
       "version_major": 2,
       "version_minor": 0
      },
      "text/plain": [
       "interactive(children=(IntSlider(value=0, description='train_steps', max=20), Output()), _dom_classes=('widget-…"
      ]
     },
     "metadata": {},
     "output_type": "display_data"
    }
   ],
   "source": [
    "interact(plot_kmeans(np.array(X), n=5), train_steps=(0, 20, 1));"
   ]
  },
  {
   "cell_type": "code",
   "execution_count": 13,
   "metadata": {},
   "outputs": [],
   "source": [
    "centers = km.cluster_centers_.T"
   ]
  },
  {
   "cell_type": "code",
   "execution_count": 14,
   "metadata": {},
   "outputs": [
    {
     "data": {
      "text/plain": [
       "array([[-8.67361738e-19,  2.06122449e-02,  0.00000000e+00,\n",
       "         6.83333333e-03,  1.42857143e-03],\n",
       "       [ 1.54832086e+01,  1.06570522e+01,  1.19315278e+01,\n",
       "         1.07810046e+01,  1.11421693e+01],\n",
       "       [ 8.06142857e+01,  5.16428571e+01,  1.65916667e+01,\n",
       "         6.58983333e+01,  3.52071429e+01]])"
      ]
     },
     "execution_count": 14,
     "metadata": {},
     "output_type": "execute_result"
    }
   ],
   "source": [
    "centers"
   ]
  },
  {
   "cell_type": "code",
   "execution_count": 15,
   "metadata": {},
   "outputs": [
    {
     "data": {
      "text/plain": [
       "(3, 5)"
      ]
     },
     "execution_count": 15,
     "metadata": {},
     "output_type": "execute_result"
    }
   ],
   "source": [
    "centers.shape"
   ]
  },
  {
   "cell_type": "code",
   "execution_count": null,
   "metadata": {},
   "outputs": [],
   "source": []
  }
 ],
 "metadata": {
  "kernelspec": {
   "display_name": "Python 3",
   "language": "python",
   "name": "python3"
  },
  "language_info": {
   "codemirror_mode": {
    "name": "ipython",
    "version": 3
   },
   "file_extension": ".py",
   "mimetype": "text/x-python",
   "name": "python",
   "nbconvert_exporter": "python",
   "pygments_lexer": "ipython3",
   "version": "3.8.5"
  }
 },
 "nbformat": 4,
 "nbformat_minor": 4
}
