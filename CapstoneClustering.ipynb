{
 "cells": [
  {
   "cell_type": "code",
   "execution_count": 1,
   "metadata": {},
   "outputs": [],
   "source": [
    "import time\n",
    "import dill\n",
    "import pandas as pd\n",
    "import numpy as np\n",
    "import math\n",
    "from matplotlib import pylab as plt\n",
    "from sklearn.cluster import KMeans\n",
    "from ipywidgets import interact"
   ]
  },
  {
   "cell_type": "code",
   "execution_count": 2,
   "metadata": {},
   "outputs": [],
   "source": [
    "import dill\n",
    "outL = dill.load(open('outlierCrash.pkd','rb'))"
   ]
  },
  {
   "cell_type": "code",
   "execution_count": 3,
   "metadata": {},
   "outputs": [
    {
     "name": "stdout",
     "output_type": "stream",
     "text": [
      "0\n",
      "0.07430005073547363\n"
     ]
    },
    {
     "name": "stderr",
     "output_type": "stream",
     "text": [
      "<ipython-input-3-f2f924259928>:37: ConvergenceWarning: Number of distinct clusters (3) found smaller than n_clusters (5). Possibly due to duplicate points in X.\n",
      "  km2.fit(X2)\n"
     ]
    },
    {
     "name": "stdout",
     "output_type": "stream",
     "text": [
      "100\n",
      "4.993343114852905\n"
     ]
    },
    {
     "name": "stderr",
     "output_type": "stream",
     "text": [
      "<ipython-input-3-f2f924259928>:37: ConvergenceWarning: Number of distinct clusters (4) found smaller than n_clusters (5). Possibly due to duplicate points in X.\n",
      "  km2.fit(X2)\n",
      "<ipython-input-3-f2f924259928>:37: ConvergenceWarning: Number of distinct clusters (4) found smaller than n_clusters (5). Possibly due to duplicate points in X.\n",
      "  km2.fit(X2)\n",
      "<ipython-input-3-f2f924259928>:37: ConvergenceWarning: Number of distinct clusters (3) found smaller than n_clusters (5). Possibly due to duplicate points in X.\n",
      "  km2.fit(X2)\n",
      "<ipython-input-3-f2f924259928>:37: ConvergenceWarning: Number of distinct clusters (3) found smaller than n_clusters (5). Possibly due to duplicate points in X.\n",
      "  km2.fit(X2)\n",
      "<ipython-input-3-f2f924259928>:37: ConvergenceWarning: Number of distinct clusters (4) found smaller than n_clusters (5). Possibly due to duplicate points in X.\n",
      "  km2.fit(X2)\n",
      "<ipython-input-3-f2f924259928>:37: ConvergenceWarning: Number of distinct clusters (4) found smaller than n_clusters (5). Possibly due to duplicate points in X.\n",
      "  km2.fit(X2)\n"
     ]
    },
    {
     "name": "stdout",
     "output_type": "stream",
     "text": [
      "200\n",
      "10.162545442581177\n"
     ]
    },
    {
     "name": "stderr",
     "output_type": "stream",
     "text": [
      "<ipython-input-3-f2f924259928>:37: ConvergenceWarning: Number of distinct clusters (4) found smaller than n_clusters (5). Possibly due to duplicate points in X.\n",
      "  km2.fit(X2)\n",
      "<ipython-input-3-f2f924259928>:37: ConvergenceWarning: Number of distinct clusters (4) found smaller than n_clusters (5). Possibly due to duplicate points in X.\n",
      "  km2.fit(X2)\n",
      "<ipython-input-3-f2f924259928>:37: ConvergenceWarning: Number of distinct clusters (4) found smaller than n_clusters (5). Possibly due to duplicate points in X.\n",
      "  km2.fit(X2)\n",
      "<ipython-input-3-f2f924259928>:37: ConvergenceWarning: Number of distinct clusters (3) found smaller than n_clusters (5). Possibly due to duplicate points in X.\n",
      "  km2.fit(X2)\n",
      "<ipython-input-3-f2f924259928>:37: ConvergenceWarning: Number of distinct clusters (4) found smaller than n_clusters (5). Possibly due to duplicate points in X.\n",
      "  km2.fit(X2)\n",
      "<ipython-input-3-f2f924259928>:37: ConvergenceWarning: Number of distinct clusters (4) found smaller than n_clusters (5). Possibly due to duplicate points in X.\n",
      "  km2.fit(X2)\n"
     ]
    },
    {
     "name": "stdout",
     "output_type": "stream",
     "text": [
      "300\n",
      "15.091721296310425\n"
     ]
    },
    {
     "name": "stderr",
     "output_type": "stream",
     "text": [
      "<ipython-input-3-f2f924259928>:37: ConvergenceWarning: Number of distinct clusters (3) found smaller than n_clusters (5). Possibly due to duplicate points in X.\n",
      "  km2.fit(X2)\n",
      "<ipython-input-3-f2f924259928>:37: ConvergenceWarning: Number of distinct clusters (4) found smaller than n_clusters (5). Possibly due to duplicate points in X.\n",
      "  km2.fit(X2)\n",
      "<ipython-input-3-f2f924259928>:37: ConvergenceWarning: Number of distinct clusters (4) found smaller than n_clusters (5). Possibly due to duplicate points in X.\n",
      "  km2.fit(X2)\n",
      "<ipython-input-3-f2f924259928>:37: ConvergenceWarning: Number of distinct clusters (4) found smaller than n_clusters (5). Possibly due to duplicate points in X.\n",
      "  km2.fit(X2)\n"
     ]
    },
    {
     "name": "stdout",
     "output_type": "stream",
     "text": [
      "400\n",
      "20.015303134918213\n"
     ]
    },
    {
     "name": "stderr",
     "output_type": "stream",
     "text": [
      "<ipython-input-3-f2f924259928>:37: ConvergenceWarning: Number of distinct clusters (3) found smaller than n_clusters (5). Possibly due to duplicate points in X.\n",
      "  km2.fit(X2)\n",
      "<ipython-input-3-f2f924259928>:37: ConvergenceWarning: Number of distinct clusters (3) found smaller than n_clusters (5). Possibly due to duplicate points in X.\n",
      "  km2.fit(X2)\n",
      "<ipython-input-3-f2f924259928>:37: ConvergenceWarning: Number of distinct clusters (4) found smaller than n_clusters (5). Possibly due to duplicate points in X.\n",
      "  km2.fit(X2)\n",
      "<ipython-input-3-f2f924259928>:37: ConvergenceWarning: Number of distinct clusters (4) found smaller than n_clusters (5). Possibly due to duplicate points in X.\n",
      "  km2.fit(X2)\n",
      "<ipython-input-3-f2f924259928>:37: ConvergenceWarning: Number of distinct clusters (3) found smaller than n_clusters (5). Possibly due to duplicate points in X.\n",
      "  km2.fit(X2)\n",
      "<ipython-input-3-f2f924259928>:37: ConvergenceWarning: Number of distinct clusters (4) found smaller than n_clusters (5). Possibly due to duplicate points in X.\n",
      "  km2.fit(X2)\n"
     ]
    },
    {
     "name": "stdout",
     "output_type": "stream",
     "text": [
      "500\n",
      "25.22148823738098\n"
     ]
    },
    {
     "name": "stderr",
     "output_type": "stream",
     "text": [
      "<ipython-input-3-f2f924259928>:37: ConvergenceWarning: Number of distinct clusters (4) found smaller than n_clusters (5). Possibly due to duplicate points in X.\n",
      "  km2.fit(X2)\n",
      "<ipython-input-3-f2f924259928>:37: ConvergenceWarning: Number of distinct clusters (4) found smaller than n_clusters (5). Possibly due to duplicate points in X.\n",
      "  km2.fit(X2)\n",
      "<ipython-input-3-f2f924259928>:37: ConvergenceWarning: Number of distinct clusters (4) found smaller than n_clusters (5). Possibly due to duplicate points in X.\n",
      "  km2.fit(X2)\n",
      "<ipython-input-3-f2f924259928>:37: ConvergenceWarning: Number of distinct clusters (2) found smaller than n_clusters (5). Possibly due to duplicate points in X.\n",
      "  km2.fit(X2)\n",
      "<ipython-input-3-f2f924259928>:37: ConvergenceWarning: Number of distinct clusters (4) found smaller than n_clusters (5). Possibly due to duplicate points in X.\n",
      "  km2.fit(X2)\n",
      "<ipython-input-3-f2f924259928>:37: ConvergenceWarning: Number of distinct clusters (4) found smaller than n_clusters (5). Possibly due to duplicate points in X.\n",
      "  km2.fit(X2)\n"
     ]
    },
    {
     "name": "stdout",
     "output_type": "stream",
     "text": [
      "600\n",
      "29.89946699142456\n"
     ]
    },
    {
     "name": "stderr",
     "output_type": "stream",
     "text": [
      "<ipython-input-3-f2f924259928>:37: ConvergenceWarning: Number of distinct clusters (4) found smaller than n_clusters (5). Possibly due to duplicate points in X.\n",
      "  km2.fit(X2)\n",
      "<ipython-input-3-f2f924259928>:37: ConvergenceWarning: Number of distinct clusters (4) found smaller than n_clusters (5). Possibly due to duplicate points in X.\n",
      "  km2.fit(X2)\n",
      "<ipython-input-3-f2f924259928>:37: ConvergenceWarning: Number of distinct clusters (3) found smaller than n_clusters (5). Possibly due to duplicate points in X.\n",
      "  km2.fit(X2)\n",
      "<ipython-input-3-f2f924259928>:37: ConvergenceWarning: Number of distinct clusters (3) found smaller than n_clusters (5). Possibly due to duplicate points in X.\n",
      "  km2.fit(X2)\n",
      "<ipython-input-3-f2f924259928>:37: ConvergenceWarning: Number of distinct clusters (3) found smaller than n_clusters (5). Possibly due to duplicate points in X.\n",
      "  km2.fit(X2)\n",
      "<ipython-input-3-f2f924259928>:37: ConvergenceWarning: Number of distinct clusters (2) found smaller than n_clusters (5). Possibly due to duplicate points in X.\n",
      "  km2.fit(X2)\n",
      "<ipython-input-3-f2f924259928>:37: ConvergenceWarning: Number of distinct clusters (3) found smaller than n_clusters (5). Possibly due to duplicate points in X.\n",
      "  km2.fit(X2)\n"
     ]
    },
    {
     "name": "stdout",
     "output_type": "stream",
     "text": [
      "700\n",
      "34.69172382354736\n"
     ]
    },
    {
     "name": "stderr",
     "output_type": "stream",
     "text": [
      "<ipython-input-3-f2f924259928>:37: ConvergenceWarning: Number of distinct clusters (4) found smaller than n_clusters (5). Possibly due to duplicate points in X.\n",
      "  km2.fit(X2)\n",
      "<ipython-input-3-f2f924259928>:37: ConvergenceWarning: Number of distinct clusters (4) found smaller than n_clusters (5). Possibly due to duplicate points in X.\n",
      "  km2.fit(X2)\n",
      "<ipython-input-3-f2f924259928>:37: ConvergenceWarning: Number of distinct clusters (4) found smaller than n_clusters (5). Possibly due to duplicate points in X.\n",
      "  km2.fit(X2)\n"
     ]
    },
    {
     "name": "stdout",
     "output_type": "stream",
     "text": [
      "800\n",
      "39.30408573150635\n"
     ]
    },
    {
     "name": "stderr",
     "output_type": "stream",
     "text": [
      "<ipython-input-3-f2f924259928>:37: ConvergenceWarning: Number of distinct clusters (3) found smaller than n_clusters (5). Possibly due to duplicate points in X.\n",
      "  km2.fit(X2)\n",
      "<ipython-input-3-f2f924259928>:37: ConvergenceWarning: Number of distinct clusters (3) found smaller than n_clusters (5). Possibly due to duplicate points in X.\n",
      "  km2.fit(X2)\n",
      "<ipython-input-3-f2f924259928>:37: ConvergenceWarning: Number of distinct clusters (3) found smaller than n_clusters (5). Possibly due to duplicate points in X.\n",
      "  km2.fit(X2)\n",
      "<ipython-input-3-f2f924259928>:37: ConvergenceWarning: Number of distinct clusters (4) found smaller than n_clusters (5). Possibly due to duplicate points in X.\n",
      "  km2.fit(X2)\n",
      "<ipython-input-3-f2f924259928>:37: ConvergenceWarning: Number of distinct clusters (4) found smaller than n_clusters (5). Possibly due to duplicate points in X.\n",
      "  km2.fit(X2)\n",
      "<ipython-input-3-f2f924259928>:37: ConvergenceWarning: Number of distinct clusters (2) found smaller than n_clusters (5). Possibly due to duplicate points in X.\n",
      "  km2.fit(X2)\n",
      "<ipython-input-3-f2f924259928>:37: ConvergenceWarning: Number of distinct clusters (3) found smaller than n_clusters (5). Possibly due to duplicate points in X.\n",
      "  km2.fit(X2)\n",
      "<ipython-input-3-f2f924259928>:37: ConvergenceWarning: Number of distinct clusters (4) found smaller than n_clusters (5). Possibly due to duplicate points in X.\n",
      "  km2.fit(X2)\n",
      "<ipython-input-3-f2f924259928>:37: ConvergenceWarning: Number of distinct clusters (3) found smaller than n_clusters (5). Possibly due to duplicate points in X.\n",
      "  km2.fit(X2)\n"
     ]
    },
    {
     "name": "stdout",
     "output_type": "stream",
     "text": [
      "900\n",
      "43.84760856628418\n"
     ]
    },
    {
     "name": "stderr",
     "output_type": "stream",
     "text": [
      "<ipython-input-3-f2f924259928>:37: ConvergenceWarning: Number of distinct clusters (4) found smaller than n_clusters (5). Possibly due to duplicate points in X.\n",
      "  km2.fit(X2)\n",
      "<ipython-input-3-f2f924259928>:37: ConvergenceWarning: Number of distinct clusters (4) found smaller than n_clusters (5). Possibly due to duplicate points in X.\n",
      "  km2.fit(X2)\n",
      "<ipython-input-3-f2f924259928>:37: ConvergenceWarning: Number of distinct clusters (4) found smaller than n_clusters (5). Possibly due to duplicate points in X.\n",
      "  km2.fit(X2)\n",
      "<ipython-input-3-f2f924259928>:37: ConvergenceWarning: Number of distinct clusters (2) found smaller than n_clusters (5). Possibly due to duplicate points in X.\n",
      "  km2.fit(X2)\n",
      "<ipython-input-3-f2f924259928>:37: ConvergenceWarning: Number of distinct clusters (3) found smaller than n_clusters (5). Possibly due to duplicate points in X.\n",
      "  km2.fit(X2)\n",
      "<ipython-input-3-f2f924259928>:37: ConvergenceWarning: Number of distinct clusters (4) found smaller than n_clusters (5). Possibly due to duplicate points in X.\n",
      "  km2.fit(X2)\n",
      "<ipython-input-3-f2f924259928>:37: ConvergenceWarning: Number of distinct clusters (4) found smaller than n_clusters (5). Possibly due to duplicate points in X.\n",
      "  km2.fit(X2)\n",
      "<ipython-input-3-f2f924259928>:37: ConvergenceWarning: Number of distinct clusters (4) found smaller than n_clusters (5). Possibly due to duplicate points in X.\n",
      "  km2.fit(X2)\n",
      "<ipython-input-3-f2f924259928>:37: ConvergenceWarning: Number of distinct clusters (4) found smaller than n_clusters (5). Possibly due to duplicate points in X.\n",
      "  km2.fit(X2)\n",
      "<ipython-input-3-f2f924259928>:37: ConvergenceWarning: Number of distinct clusters (4) found smaller than n_clusters (5). Possibly due to duplicate points in X.\n",
      "  km2.fit(X2)\n",
      "<ipython-input-3-f2f924259928>:37: ConvergenceWarning: Number of distinct clusters (4) found smaller than n_clusters (5). Possibly due to duplicate points in X.\n",
      "  km2.fit(X2)\n"
     ]
    },
    {
     "name": "stdout",
     "output_type": "stream",
     "text": [
      "1000\n",
      "48.35177302360535\n"
     ]
    },
    {
     "name": "stderr",
     "output_type": "stream",
     "text": [
      "<ipython-input-3-f2f924259928>:37: ConvergenceWarning: Number of distinct clusters (4) found smaller than n_clusters (5). Possibly due to duplicate points in X.\n",
      "  km2.fit(X2)\n",
      "<ipython-input-3-f2f924259928>:37: ConvergenceWarning: Number of distinct clusters (4) found smaller than n_clusters (5). Possibly due to duplicate points in X.\n",
      "  km2.fit(X2)\n",
      "<ipython-input-3-f2f924259928>:37: ConvergenceWarning: Number of distinct clusters (2) found smaller than n_clusters (5). Possibly due to duplicate points in X.\n",
      "  km2.fit(X2)\n"
     ]
    },
    {
     "name": "stdout",
     "output_type": "stream",
     "text": [
      "1100\n",
      "52.88630700111389\n"
     ]
    },
    {
     "name": "stderr",
     "output_type": "stream",
     "text": [
      "<ipython-input-3-f2f924259928>:37: ConvergenceWarning: Number of distinct clusters (3) found smaller than n_clusters (5). Possibly due to duplicate points in X.\n",
      "  km2.fit(X2)\n",
      "<ipython-input-3-f2f924259928>:37: ConvergenceWarning: Number of distinct clusters (4) found smaller than n_clusters (5). Possibly due to duplicate points in X.\n",
      "  km2.fit(X2)\n",
      "<ipython-input-3-f2f924259928>:37: ConvergenceWarning: Number of distinct clusters (4) found smaller than n_clusters (5). Possibly due to duplicate points in X.\n",
      "  km2.fit(X2)\n",
      "<ipython-input-3-f2f924259928>:37: ConvergenceWarning: Number of distinct clusters (4) found smaller than n_clusters (5). Possibly due to duplicate points in X.\n",
      "  km2.fit(X2)\n",
      "<ipython-input-3-f2f924259928>:37: ConvergenceWarning: Number of distinct clusters (4) found smaller than n_clusters (5). Possibly due to duplicate points in X.\n",
      "  km2.fit(X2)\n",
      "<ipython-input-3-f2f924259928>:37: ConvergenceWarning: Number of distinct clusters (4) found smaller than n_clusters (5). Possibly due to duplicate points in X.\n",
      "  km2.fit(X2)\n",
      "<ipython-input-3-f2f924259928>:37: ConvergenceWarning: Number of distinct clusters (3) found smaller than n_clusters (5). Possibly due to duplicate points in X.\n",
      "  km2.fit(X2)\n",
      "<ipython-input-3-f2f924259928>:37: ConvergenceWarning: Number of distinct clusters (3) found smaller than n_clusters (5). Possibly due to duplicate points in X.\n",
      "  km2.fit(X2)\n"
     ]
    },
    {
     "name": "stdout",
     "output_type": "stream",
     "text": [
      "1200\n",
      "57.513147592544556\n"
     ]
    },
    {
     "name": "stderr",
     "output_type": "stream",
     "text": [
      "<ipython-input-3-f2f924259928>:37: ConvergenceWarning: Number of distinct clusters (4) found smaller than n_clusters (5). Possibly due to duplicate points in X.\n",
      "  km2.fit(X2)\n",
      "<ipython-input-3-f2f924259928>:37: ConvergenceWarning: Number of distinct clusters (3) found smaller than n_clusters (5). Possibly due to duplicate points in X.\n",
      "  km2.fit(X2)\n",
      "<ipython-input-3-f2f924259928>:37: ConvergenceWarning: Number of distinct clusters (3) found smaller than n_clusters (5). Possibly due to duplicate points in X.\n",
      "  km2.fit(X2)\n",
      "<ipython-input-3-f2f924259928>:37: ConvergenceWarning: Number of distinct clusters (3) found smaller than n_clusters (5). Possibly due to duplicate points in X.\n",
      "  km2.fit(X2)\n",
      "<ipython-input-3-f2f924259928>:37: ConvergenceWarning: Number of distinct clusters (3) found smaller than n_clusters (5). Possibly due to duplicate points in X.\n",
      "  km2.fit(X2)\n",
      "<ipython-input-3-f2f924259928>:37: ConvergenceWarning: Number of distinct clusters (4) found smaller than n_clusters (5). Possibly due to duplicate points in X.\n",
      "  km2.fit(X2)\n",
      "<ipython-input-3-f2f924259928>:37: ConvergenceWarning: Number of distinct clusters (2) found smaller than n_clusters (5). Possibly due to duplicate points in X.\n",
      "  km2.fit(X2)\n",
      "<ipython-input-3-f2f924259928>:37: ConvergenceWarning: Number of distinct clusters (4) found smaller than n_clusters (5). Possibly due to duplicate points in X.\n",
      "  km2.fit(X2)\n"
     ]
    },
    {
     "name": "stdout",
     "output_type": "stream",
     "text": [
      "1300\n",
      "61.93975901603699\n"
     ]
    },
    {
     "name": "stderr",
     "output_type": "stream",
     "text": [
      "<ipython-input-3-f2f924259928>:37: ConvergenceWarning: Number of distinct clusters (4) found smaller than n_clusters (5). Possibly due to duplicate points in X.\n",
      "  km2.fit(X2)\n",
      "<ipython-input-3-f2f924259928>:37: ConvergenceWarning: Number of distinct clusters (3) found smaller than n_clusters (5). Possibly due to duplicate points in X.\n",
      "  km2.fit(X2)\n",
      "<ipython-input-3-f2f924259928>:37: ConvergenceWarning: Number of distinct clusters (4) found smaller than n_clusters (5). Possibly due to duplicate points in X.\n",
      "  km2.fit(X2)\n",
      "<ipython-input-3-f2f924259928>:37: ConvergenceWarning: Number of distinct clusters (4) found smaller than n_clusters (5). Possibly due to duplicate points in X.\n",
      "  km2.fit(X2)\n",
      "<ipython-input-3-f2f924259928>:37: ConvergenceWarning: Number of distinct clusters (3) found smaller than n_clusters (5). Possibly due to duplicate points in X.\n",
      "  km2.fit(X2)\n",
      "<ipython-input-3-f2f924259928>:37: ConvergenceWarning: Number of distinct clusters (4) found smaller than n_clusters (5). Possibly due to duplicate points in X.\n",
      "  km2.fit(X2)\n",
      "<ipython-input-3-f2f924259928>:37: ConvergenceWarning: Number of distinct clusters (4) found smaller than n_clusters (5). Possibly due to duplicate points in X.\n",
      "  km2.fit(X2)\n",
      "<ipython-input-3-f2f924259928>:37: ConvergenceWarning: Number of distinct clusters (3) found smaller than n_clusters (5). Possibly due to duplicate points in X.\n",
      "  km2.fit(X2)\n",
      "<ipython-input-3-f2f924259928>:37: ConvergenceWarning: Number of distinct clusters (3) found smaller than n_clusters (5). Possibly due to duplicate points in X.\n",
      "  km2.fit(X2)\n",
      "<ipython-input-3-f2f924259928>:37: ConvergenceWarning: Number of distinct clusters (2) found smaller than n_clusters (5). Possibly due to duplicate points in X.\n",
      "  km2.fit(X2)\n",
      "<ipython-input-3-f2f924259928>:37: ConvergenceWarning: Number of distinct clusters (4) found smaller than n_clusters (5). Possibly due to duplicate points in X.\n",
      "  km2.fit(X2)\n"
     ]
    },
    {
     "name": "stdout",
     "output_type": "stream",
     "text": [
      "1400\n",
      "66.41993165016174\n"
     ]
    },
    {
     "name": "stderr",
     "output_type": "stream",
     "text": [
      "<ipython-input-3-f2f924259928>:37: ConvergenceWarning: Number of distinct clusters (4) found smaller than n_clusters (5). Possibly due to duplicate points in X.\n",
      "  km2.fit(X2)\n",
      "<ipython-input-3-f2f924259928>:37: ConvergenceWarning: Number of distinct clusters (4) found smaller than n_clusters (5). Possibly due to duplicate points in X.\n",
      "  km2.fit(X2)\n",
      "<ipython-input-3-f2f924259928>:37: ConvergenceWarning: Number of distinct clusters (1) found smaller than n_clusters (5). Possibly due to duplicate points in X.\n",
      "  km2.fit(X2)\n",
      "<ipython-input-3-f2f924259928>:37: ConvergenceWarning: Number of distinct clusters (1) found smaller than n_clusters (5). Possibly due to duplicate points in X.\n",
      "  km2.fit(X2)\n"
     ]
    },
    {
     "name": "stdout",
     "output_type": "stream",
     "text": [
      "1500\n",
      "74.01161742210388\n"
     ]
    },
    {
     "name": "stderr",
     "output_type": "stream",
     "text": [
      "<ipython-input-3-f2f924259928>:37: ConvergenceWarning: Number of distinct clusters (1) found smaller than n_clusters (5). Possibly due to duplicate points in X.\n",
      "  km2.fit(X2)\n",
      "<ipython-input-3-f2f924259928>:37: ConvergenceWarning: Number of distinct clusters (4) found smaller than n_clusters (5). Possibly due to duplicate points in X.\n",
      "  km2.fit(X2)\n"
     ]
    },
    {
     "name": "stdout",
     "output_type": "stream",
     "text": [
      "1600\n",
      "81.53336906433105\n"
     ]
    },
    {
     "name": "stderr",
     "output_type": "stream",
     "text": [
      "<ipython-input-3-f2f924259928>:37: ConvergenceWarning: Number of distinct clusters (1) found smaller than n_clusters (5). Possibly due to duplicate points in X.\n",
      "  km2.fit(X2)\n",
      "<ipython-input-3-f2f924259928>:37: ConvergenceWarning: Number of distinct clusters (4) found smaller than n_clusters (5). Possibly due to duplicate points in X.\n",
      "  km2.fit(X2)\n"
     ]
    },
    {
     "name": "stdout",
     "output_type": "stream",
     "text": [
      "1700\n",
      "89.23396754264832\n"
     ]
    },
    {
     "name": "stderr",
     "output_type": "stream",
     "text": [
      "<ipython-input-3-f2f924259928>:37: ConvergenceWarning: Number of distinct clusters (1) found smaller than n_clusters (5). Possibly due to duplicate points in X.\n",
      "  km2.fit(X2)\n",
      "<ipython-input-3-f2f924259928>:37: ConvergenceWarning: Number of distinct clusters (1) found smaller than n_clusters (5). Possibly due to duplicate points in X.\n",
      "  km2.fit(X2)\n",
      "<ipython-input-3-f2f924259928>:37: ConvergenceWarning: Number of distinct clusters (1) found smaller than n_clusters (5). Possibly due to duplicate points in X.\n",
      "  km2.fit(X2)\n"
     ]
    },
    {
     "name": "stdout",
     "output_type": "stream",
     "text": [
      "1800\n",
      "96.43994307518005\n",
      "1900\n",
      "102.84689831733704\n"
     ]
    },
    {
     "name": "stderr",
     "output_type": "stream",
     "text": [
      "<ipython-input-3-f2f924259928>:37: ConvergenceWarning: Number of distinct clusters (1) found smaller than n_clusters (5). Possibly due to duplicate points in X.\n",
      "  km2.fit(X2)\n",
      "<ipython-input-3-f2f924259928>:37: ConvergenceWarning: Number of distinct clusters (4) found smaller than n_clusters (5). Possibly due to duplicate points in X.\n",
      "  km2.fit(X2)\n",
      "<ipython-input-3-f2f924259928>:37: ConvergenceWarning: Number of distinct clusters (1) found smaller than n_clusters (5). Possibly due to duplicate points in X.\n",
      "  km2.fit(X2)\n",
      "<ipython-input-3-f2f924259928>:37: ConvergenceWarning: Number of distinct clusters (4) found smaller than n_clusters (5). Possibly due to duplicate points in X.\n",
      "  km2.fit(X2)\n",
      "<ipython-input-3-f2f924259928>:37: ConvergenceWarning: Number of distinct clusters (1) found smaller than n_clusters (5). Possibly due to duplicate points in X.\n",
      "  km2.fit(X2)\n"
     ]
    },
    {
     "name": "stdout",
     "output_type": "stream",
     "text": [
      "2000\n",
      "109.49662590026855\n"
     ]
    },
    {
     "name": "stderr",
     "output_type": "stream",
     "text": [
      "<ipython-input-3-f2f924259928>:37: ConvergenceWarning: Number of distinct clusters (1) found smaller than n_clusters (5). Possibly due to duplicate points in X.\n",
      "  km2.fit(X2)\n",
      "<ipython-input-3-f2f924259928>:37: ConvergenceWarning: Number of distinct clusters (1) found smaller than n_clusters (5). Possibly due to duplicate points in X.\n",
      "  km2.fit(X2)\n",
      "<ipython-input-3-f2f924259928>:37: ConvergenceWarning: Number of distinct clusters (4) found smaller than n_clusters (5). Possibly due to duplicate points in X.\n",
      "  km2.fit(X2)\n",
      "<ipython-input-3-f2f924259928>:37: ConvergenceWarning: Number of distinct clusters (2) found smaller than n_clusters (5). Possibly due to duplicate points in X.\n",
      "  km2.fit(X2)\n"
     ]
    },
    {
     "name": "stdout",
     "output_type": "stream",
     "text": [
      "2100\n",
      "115.25949025154114\n"
     ]
    },
    {
     "name": "stderr",
     "output_type": "stream",
     "text": [
      "<ipython-input-3-f2f924259928>:37: ConvergenceWarning: Number of distinct clusters (1) found smaller than n_clusters (5). Possibly due to duplicate points in X.\n",
      "  km2.fit(X2)\n",
      "<ipython-input-3-f2f924259928>:37: ConvergenceWarning: Number of distinct clusters (1) found smaller than n_clusters (5). Possibly due to duplicate points in X.\n",
      "  km2.fit(X2)\n",
      "<ipython-input-3-f2f924259928>:37: ConvergenceWarning: Number of distinct clusters (4) found smaller than n_clusters (5). Possibly due to duplicate points in X.\n",
      "  km2.fit(X2)\n",
      "<ipython-input-3-f2f924259928>:37: ConvergenceWarning: Number of distinct clusters (1) found smaller than n_clusters (5). Possibly due to duplicate points in X.\n",
      "  km2.fit(X2)\n"
     ]
    },
    {
     "name": "stdout",
     "output_type": "stream",
     "text": [
      "2200\n",
      "120.97688841819763\n"
     ]
    },
    {
     "name": "stderr",
     "output_type": "stream",
     "text": [
      "<ipython-input-3-f2f924259928>:37: ConvergenceWarning: Number of distinct clusters (4) found smaller than n_clusters (5). Possibly due to duplicate points in X.\n",
      "  km2.fit(X2)\n",
      "<ipython-input-3-f2f924259928>:37: ConvergenceWarning: Number of distinct clusters (3) found smaller than n_clusters (5). Possibly due to duplicate points in X.\n",
      "  km2.fit(X2)\n",
      "<ipython-input-3-f2f924259928>:37: ConvergenceWarning: Number of distinct clusters (1) found smaller than n_clusters (5). Possibly due to duplicate points in X.\n",
      "  km2.fit(X2)\n",
      "<ipython-input-3-f2f924259928>:37: ConvergenceWarning: Number of distinct clusters (3) found smaller than n_clusters (5). Possibly due to duplicate points in X.\n",
      "  km2.fit(X2)\n",
      "<ipython-input-3-f2f924259928>:37: ConvergenceWarning: Number of distinct clusters (4) found smaller than n_clusters (5). Possibly due to duplicate points in X.\n",
      "  km2.fit(X2)\n"
     ]
    },
    {
     "name": "stdout",
     "output_type": "stream",
     "text": [
      "2300\n",
      "126.37258315086365\n"
     ]
    },
    {
     "name": "stderr",
     "output_type": "stream",
     "text": [
      "<ipython-input-3-f2f924259928>:37: ConvergenceWarning: Number of distinct clusters (4) found smaller than n_clusters (5). Possibly due to duplicate points in X.\n",
      "  km2.fit(X2)\n",
      "<ipython-input-3-f2f924259928>:37: ConvergenceWarning: Number of distinct clusters (1) found smaller than n_clusters (5). Possibly due to duplicate points in X.\n",
      "  km2.fit(X2)\n",
      "<ipython-input-3-f2f924259928>:37: ConvergenceWarning: Number of distinct clusters (1) found smaller than n_clusters (5). Possibly due to duplicate points in X.\n",
      "  km2.fit(X2)\n",
      "<ipython-input-3-f2f924259928>:37: ConvergenceWarning: Number of distinct clusters (4) found smaller than n_clusters (5). Possibly due to duplicate points in X.\n",
      "  km2.fit(X2)\n",
      "<ipython-input-3-f2f924259928>:37: ConvergenceWarning: Number of distinct clusters (4) found smaller than n_clusters (5). Possibly due to duplicate points in X.\n",
      "  km2.fit(X2)\n",
      "<ipython-input-3-f2f924259928>:37: ConvergenceWarning: Number of distinct clusters (1) found smaller than n_clusters (5). Possibly due to duplicate points in X.\n",
      "  km2.fit(X2)\n",
      "<ipython-input-3-f2f924259928>:37: ConvergenceWarning: Number of distinct clusters (2) found smaller than n_clusters (5). Possibly due to duplicate points in X.\n",
      "  km2.fit(X2)\n"
     ]
    },
    {
     "name": "stdout",
     "output_type": "stream",
     "text": [
      "2400\n",
      "131.65347981452942\n"
     ]
    },
    {
     "name": "stderr",
     "output_type": "stream",
     "text": [
      "<ipython-input-3-f2f924259928>:37: ConvergenceWarning: Number of distinct clusters (4) found smaller than n_clusters (5). Possibly due to duplicate points in X.\n",
      "  km2.fit(X2)\n",
      "<ipython-input-3-f2f924259928>:37: ConvergenceWarning: Number of distinct clusters (1) found smaller than n_clusters (5). Possibly due to duplicate points in X.\n",
      "  km2.fit(X2)\n",
      "<ipython-input-3-f2f924259928>:37: ConvergenceWarning: Number of distinct clusters (1) found smaller than n_clusters (5). Possibly due to duplicate points in X.\n",
      "  km2.fit(X2)\n",
      "<ipython-input-3-f2f924259928>:37: ConvergenceWarning: Number of distinct clusters (3) found smaller than n_clusters (5). Possibly due to duplicate points in X.\n",
      "  km2.fit(X2)\n",
      "<ipython-input-3-f2f924259928>:37: ConvergenceWarning: Number of distinct clusters (4) found smaller than n_clusters (5). Possibly due to duplicate points in X.\n",
      "  km2.fit(X2)\n"
     ]
    },
    {
     "name": "stdout",
     "output_type": "stream",
     "text": [
      "2500\n",
      "136.73804020881653\n"
     ]
    },
    {
     "name": "stderr",
     "output_type": "stream",
     "text": [
      "<ipython-input-3-f2f924259928>:37: ConvergenceWarning: Number of distinct clusters (3) found smaller than n_clusters (5). Possibly due to duplicate points in X.\n",
      "  km2.fit(X2)\n",
      "<ipython-input-3-f2f924259928>:37: ConvergenceWarning: Number of distinct clusters (2) found smaller than n_clusters (5). Possibly due to duplicate points in X.\n",
      "  km2.fit(X2)\n",
      "<ipython-input-3-f2f924259928>:37: ConvergenceWarning: Number of distinct clusters (1) found smaller than n_clusters (5). Possibly due to duplicate points in X.\n",
      "  km2.fit(X2)\n",
      "<ipython-input-3-f2f924259928>:37: ConvergenceWarning: Number of distinct clusters (4) found smaller than n_clusters (5). Possibly due to duplicate points in X.\n",
      "  km2.fit(X2)\n",
      "<ipython-input-3-f2f924259928>:37: ConvergenceWarning: Number of distinct clusters (4) found smaller than n_clusters (5). Possibly due to duplicate points in X.\n",
      "  km2.fit(X2)\n",
      "<ipython-input-3-f2f924259928>:37: ConvergenceWarning: Number of distinct clusters (1) found smaller than n_clusters (5). Possibly due to duplicate points in X.\n",
      "  km2.fit(X2)\n",
      "<ipython-input-3-f2f924259928>:37: ConvergenceWarning: Number of distinct clusters (1) found smaller than n_clusters (5). Possibly due to duplicate points in X.\n",
      "  km2.fit(X2)\n"
     ]
    },
    {
     "name": "stdout",
     "output_type": "stream",
     "text": [
      "2600\n",
      "142.03725624084473\n"
     ]
    },
    {
     "name": "stderr",
     "output_type": "stream",
     "text": [
      "<ipython-input-3-f2f924259928>:37: ConvergenceWarning: Number of distinct clusters (3) found smaller than n_clusters (5). Possibly due to duplicate points in X.\n",
      "  km2.fit(X2)\n",
      "<ipython-input-3-f2f924259928>:37: ConvergenceWarning: Number of distinct clusters (2) found smaller than n_clusters (5). Possibly due to duplicate points in X.\n",
      "  km2.fit(X2)\n",
      "<ipython-input-3-f2f924259928>:37: ConvergenceWarning: Number of distinct clusters (4) found smaller than n_clusters (5). Possibly due to duplicate points in X.\n",
      "  km2.fit(X2)\n",
      "<ipython-input-3-f2f924259928>:37: ConvergenceWarning: Number of distinct clusters (4) found smaller than n_clusters (5). Possibly due to duplicate points in X.\n",
      "  km2.fit(X2)\n",
      "<ipython-input-3-f2f924259928>:37: ConvergenceWarning: Number of distinct clusters (4) found smaller than n_clusters (5). Possibly due to duplicate points in X.\n",
      "  km2.fit(X2)\n"
     ]
    },
    {
     "name": "stdout",
     "output_type": "stream",
     "text": [
      "2700\n",
      "146.85733795166016\n"
     ]
    },
    {
     "name": "stderr",
     "output_type": "stream",
     "text": [
      "<ipython-input-3-f2f924259928>:37: ConvergenceWarning: Number of distinct clusters (1) found smaller than n_clusters (5). Possibly due to duplicate points in X.\n",
      "  km2.fit(X2)\n",
      "<ipython-input-3-f2f924259928>:37: ConvergenceWarning: Number of distinct clusters (1) found smaller than n_clusters (5). Possibly due to duplicate points in X.\n",
      "  km2.fit(X2)\n",
      "<ipython-input-3-f2f924259928>:37: ConvergenceWarning: Number of distinct clusters (3) found smaller than n_clusters (5). Possibly due to duplicate points in X.\n",
      "  km2.fit(X2)\n"
     ]
    },
    {
     "name": "stdout",
     "output_type": "stream",
     "text": [
      "2800\n",
      "151.49620246887207\n"
     ]
    },
    {
     "name": "stderr",
     "output_type": "stream",
     "text": [
      "<ipython-input-3-f2f924259928>:37: ConvergenceWarning: Number of distinct clusters (1) found smaller than n_clusters (5). Possibly due to duplicate points in X.\n",
      "  km2.fit(X2)\n",
      "<ipython-input-3-f2f924259928>:37: ConvergenceWarning: Number of distinct clusters (1) found smaller than n_clusters (5). Possibly due to duplicate points in X.\n",
      "  km2.fit(X2)\n",
      "<ipython-input-3-f2f924259928>:37: ConvergenceWarning: Number of distinct clusters (4) found smaller than n_clusters (5). Possibly due to duplicate points in X.\n",
      "  km2.fit(X2)\n",
      "<ipython-input-3-f2f924259928>:37: ConvergenceWarning: Number of distinct clusters (1) found smaller than n_clusters (5). Possibly due to duplicate points in X.\n",
      "  km2.fit(X2)\n",
      "<ipython-input-3-f2f924259928>:37: ConvergenceWarning: Number of distinct clusters (4) found smaller than n_clusters (5). Possibly due to duplicate points in X.\n",
      "  km2.fit(X2)\n",
      "<ipython-input-3-f2f924259928>:37: ConvergenceWarning: Number of distinct clusters (4) found smaller than n_clusters (5). Possibly due to duplicate points in X.\n",
      "  km2.fit(X2)\n",
      "<ipython-input-3-f2f924259928>:37: ConvergenceWarning: Number of distinct clusters (3) found smaller than n_clusters (5). Possibly due to duplicate points in X.\n",
      "  km2.fit(X2)\n",
      "<ipython-input-3-f2f924259928>:37: ConvergenceWarning: Number of distinct clusters (3) found smaller than n_clusters (5). Possibly due to duplicate points in X.\n",
      "  km2.fit(X2)\n",
      "<ipython-input-3-f2f924259928>:37: ConvergenceWarning: Number of distinct clusters (4) found smaller than n_clusters (5). Possibly due to duplicate points in X.\n",
      "  km2.fit(X2)\n",
      "<ipython-input-3-f2f924259928>:37: ConvergenceWarning: Number of distinct clusters (4) found smaller than n_clusters (5). Possibly due to duplicate points in X.\n",
      "  km2.fit(X2)\n"
     ]
    },
    {
     "name": "stdout",
     "output_type": "stream",
     "text": [
      "2900\n",
      "156.23671221733093\n"
     ]
    },
    {
     "name": "stderr",
     "output_type": "stream",
     "text": [
      "<ipython-input-3-f2f924259928>:37: ConvergenceWarning: Number of distinct clusters (3) found smaller than n_clusters (5). Possibly due to duplicate points in X.\n",
      "  km2.fit(X2)\n",
      "<ipython-input-3-f2f924259928>:37: ConvergenceWarning: Number of distinct clusters (4) found smaller than n_clusters (5). Possibly due to duplicate points in X.\n",
      "  km2.fit(X2)\n",
      "<ipython-input-3-f2f924259928>:37: ConvergenceWarning: Number of distinct clusters (4) found smaller than n_clusters (5). Possibly due to duplicate points in X.\n",
      "  km2.fit(X2)\n",
      "<ipython-input-3-f2f924259928>:37: ConvergenceWarning: Number of distinct clusters (4) found smaller than n_clusters (5). Possibly due to duplicate points in X.\n",
      "  km2.fit(X2)\n",
      "<ipython-input-3-f2f924259928>:37: ConvergenceWarning: Number of distinct clusters (3) found smaller than n_clusters (5). Possibly due to duplicate points in X.\n",
      "  km2.fit(X2)\n"
     ]
    },
    {
     "name": "stdout",
     "output_type": "stream",
     "text": [
      "3000\n",
      "160.68198680877686\n"
     ]
    },
    {
     "name": "stderr",
     "output_type": "stream",
     "text": [
      "<ipython-input-3-f2f924259928>:37: ConvergenceWarning: Number of distinct clusters (4) found smaller than n_clusters (5). Possibly due to duplicate points in X.\n",
      "  km2.fit(X2)\n",
      "<ipython-input-3-f2f924259928>:37: ConvergenceWarning: Number of distinct clusters (3) found smaller than n_clusters (5). Possibly due to duplicate points in X.\n",
      "  km2.fit(X2)\n"
     ]
    },
    {
     "name": "stdout",
     "output_type": "stream",
     "text": [
      "3100\n",
      "165.45647740364075\n"
     ]
    },
    {
     "name": "stderr",
     "output_type": "stream",
     "text": [
      "<ipython-input-3-f2f924259928>:37: ConvergenceWarning: Number of distinct clusters (4) found smaller than n_clusters (5). Possibly due to duplicate points in X.\n",
      "  km2.fit(X2)\n",
      "<ipython-input-3-f2f924259928>:37: ConvergenceWarning: Number of distinct clusters (4) found smaller than n_clusters (5). Possibly due to duplicate points in X.\n",
      "  km2.fit(X2)\n",
      "<ipython-input-3-f2f924259928>:37: ConvergenceWarning: Number of distinct clusters (3) found smaller than n_clusters (5). Possibly due to duplicate points in X.\n",
      "  km2.fit(X2)\n",
      "<ipython-input-3-f2f924259928>:37: ConvergenceWarning: Number of distinct clusters (4) found smaller than n_clusters (5). Possibly due to duplicate points in X.\n",
      "  km2.fit(X2)\n"
     ]
    },
    {
     "name": "stdout",
     "output_type": "stream",
     "text": [
      "3200\n",
      "169.90814661979675\n"
     ]
    },
    {
     "name": "stderr",
     "output_type": "stream",
     "text": [
      "<ipython-input-3-f2f924259928>:37: ConvergenceWarning: Number of distinct clusters (4) found smaller than n_clusters (5). Possibly due to duplicate points in X.\n",
      "  km2.fit(X2)\n",
      "<ipython-input-3-f2f924259928>:37: ConvergenceWarning: Number of distinct clusters (4) found smaller than n_clusters (5). Possibly due to duplicate points in X.\n",
      "  km2.fit(X2)\n",
      "<ipython-input-3-f2f924259928>:37: ConvergenceWarning: Number of distinct clusters (4) found smaller than n_clusters (5). Possibly due to duplicate points in X.\n",
      "  km2.fit(X2)\n",
      "<ipython-input-3-f2f924259928>:37: ConvergenceWarning: Number of distinct clusters (3) found smaller than n_clusters (5). Possibly due to duplicate points in X.\n",
      "  km2.fit(X2)\n",
      "<ipython-input-3-f2f924259928>:37: ConvergenceWarning: Number of distinct clusters (4) found smaller than n_clusters (5). Possibly due to duplicate points in X.\n",
      "  km2.fit(X2)\n",
      "<ipython-input-3-f2f924259928>:37: ConvergenceWarning: Number of distinct clusters (3) found smaller than n_clusters (5). Possibly due to duplicate points in X.\n",
      "  km2.fit(X2)\n",
      "<ipython-input-3-f2f924259928>:37: ConvergenceWarning: Number of distinct clusters (2) found smaller than n_clusters (5). Possibly due to duplicate points in X.\n",
      "  km2.fit(X2)\n",
      "<ipython-input-3-f2f924259928>:37: ConvergenceWarning: Number of distinct clusters (1) found smaller than n_clusters (5). Possibly due to duplicate points in X.\n",
      "  km2.fit(X2)\n",
      "<ipython-input-3-f2f924259928>:37: ConvergenceWarning: Number of distinct clusters (4) found smaller than n_clusters (5). Possibly due to duplicate points in X.\n",
      "  km2.fit(X2)\n"
     ]
    },
    {
     "name": "stdout",
     "output_type": "stream",
     "text": [
      "3300\n",
      "174.53496432304382\n"
     ]
    },
    {
     "name": "stderr",
     "output_type": "stream",
     "text": [
      "<ipython-input-3-f2f924259928>:37: ConvergenceWarning: Number of distinct clusters (1) found smaller than n_clusters (5). Possibly due to duplicate points in X.\n",
      "  km2.fit(X2)\n",
      "<ipython-input-3-f2f924259928>:37: ConvergenceWarning: Number of distinct clusters (4) found smaller than n_clusters (5). Possibly due to duplicate points in X.\n",
      "  km2.fit(X2)\n",
      "<ipython-input-3-f2f924259928>:37: ConvergenceWarning: Number of distinct clusters (4) found smaller than n_clusters (5). Possibly due to duplicate points in X.\n",
      "  km2.fit(X2)\n",
      "<ipython-input-3-f2f924259928>:37: ConvergenceWarning: Number of distinct clusters (4) found smaller than n_clusters (5). Possibly due to duplicate points in X.\n",
      "  km2.fit(X2)\n",
      "<ipython-input-3-f2f924259928>:37: ConvergenceWarning: Number of distinct clusters (4) found smaller than n_clusters (5). Possibly due to duplicate points in X.\n",
      "  km2.fit(X2)\n",
      "<ipython-input-3-f2f924259928>:37: ConvergenceWarning: Number of distinct clusters (2) found smaller than n_clusters (5). Possibly due to duplicate points in X.\n",
      "  km2.fit(X2)\n",
      "<ipython-input-3-f2f924259928>:37: ConvergenceWarning: Number of distinct clusters (4) found smaller than n_clusters (5). Possibly due to duplicate points in X.\n",
      "  km2.fit(X2)\n"
     ]
    },
    {
     "name": "stdout",
     "output_type": "stream",
     "text": [
      "3400\n",
      "179.10287404060364\n"
     ]
    },
    {
     "name": "stderr",
     "output_type": "stream",
     "text": [
      "<ipython-input-3-f2f924259928>:37: ConvergenceWarning: Number of distinct clusters (4) found smaller than n_clusters (5). Possibly due to duplicate points in X.\n",
      "  km2.fit(X2)\n",
      "<ipython-input-3-f2f924259928>:37: ConvergenceWarning: Number of distinct clusters (3) found smaller than n_clusters (5). Possibly due to duplicate points in X.\n",
      "  km2.fit(X2)\n",
      "<ipython-input-3-f2f924259928>:37: ConvergenceWarning: Number of distinct clusters (4) found smaller than n_clusters (5). Possibly due to duplicate points in X.\n",
      "  km2.fit(X2)\n",
      "<ipython-input-3-f2f924259928>:37: ConvergenceWarning: Number of distinct clusters (3) found smaller than n_clusters (5). Possibly due to duplicate points in X.\n",
      "  km2.fit(X2)\n",
      "<ipython-input-3-f2f924259928>:37: ConvergenceWarning: Number of distinct clusters (4) found smaller than n_clusters (5). Possibly due to duplicate points in X.\n",
      "  km2.fit(X2)\n",
      "<ipython-input-3-f2f924259928>:37: ConvergenceWarning: Number of distinct clusters (2) found smaller than n_clusters (5). Possibly due to duplicate points in X.\n",
      "  km2.fit(X2)\n"
     ]
    },
    {
     "name": "stdout",
     "output_type": "stream",
     "text": [
      "3500\n",
      "184.84646701812744\n"
     ]
    },
    {
     "name": "stderr",
     "output_type": "stream",
     "text": [
      "<ipython-input-3-f2f924259928>:37: ConvergenceWarning: Number of distinct clusters (3) found smaller than n_clusters (5). Possibly due to duplicate points in X.\n",
      "  km2.fit(X2)\n",
      "<ipython-input-3-f2f924259928>:37: ConvergenceWarning: Number of distinct clusters (3) found smaller than n_clusters (5). Possibly due to duplicate points in X.\n",
      "  km2.fit(X2)\n",
      "<ipython-input-3-f2f924259928>:37: ConvergenceWarning: Number of distinct clusters (4) found smaller than n_clusters (5). Possibly due to duplicate points in X.\n",
      "  km2.fit(X2)\n"
     ]
    },
    {
     "name": "stdout",
     "output_type": "stream",
     "text": [
      "3600\n",
      "190.9195637702942\n"
     ]
    },
    {
     "name": "stderr",
     "output_type": "stream",
     "text": [
      "<ipython-input-3-f2f924259928>:37: ConvergenceWarning: Number of distinct clusters (4) found smaller than n_clusters (5). Possibly due to duplicate points in X.\n",
      "  km2.fit(X2)\n",
      "<ipython-input-3-f2f924259928>:37: ConvergenceWarning: Number of distinct clusters (3) found smaller than n_clusters (5). Possibly due to duplicate points in X.\n",
      "  km2.fit(X2)\n",
      "<ipython-input-3-f2f924259928>:37: ConvergenceWarning: Number of distinct clusters (3) found smaller than n_clusters (5). Possibly due to duplicate points in X.\n",
      "  km2.fit(X2)\n",
      "<ipython-input-3-f2f924259928>:37: ConvergenceWarning: Number of distinct clusters (4) found smaller than n_clusters (5). Possibly due to duplicate points in X.\n",
      "  km2.fit(X2)\n",
      "<ipython-input-3-f2f924259928>:37: ConvergenceWarning: Number of distinct clusters (3) found smaller than n_clusters (5). Possibly due to duplicate points in X.\n",
      "  km2.fit(X2)\n"
     ]
    },
    {
     "name": "stdout",
     "output_type": "stream",
     "text": [
      "3700\n",
      "196.73763251304626\n"
     ]
    },
    {
     "name": "stderr",
     "output_type": "stream",
     "text": [
      "<ipython-input-3-f2f924259928>:37: ConvergenceWarning: Number of distinct clusters (3) found smaller than n_clusters (5). Possibly due to duplicate points in X.\n",
      "  km2.fit(X2)\n",
      "<ipython-input-3-f2f924259928>:37: ConvergenceWarning: Number of distinct clusters (4) found smaller than n_clusters (5). Possibly due to duplicate points in X.\n",
      "  km2.fit(X2)\n",
      "<ipython-input-3-f2f924259928>:37: ConvergenceWarning: Number of distinct clusters (3) found smaller than n_clusters (5). Possibly due to duplicate points in X.\n",
      "  km2.fit(X2)\n",
      "<ipython-input-3-f2f924259928>:37: ConvergenceWarning: Number of distinct clusters (4) found smaller than n_clusters (5). Possibly due to duplicate points in X.\n",
      "  km2.fit(X2)\n",
      "<ipython-input-3-f2f924259928>:37: ConvergenceWarning: Number of distinct clusters (4) found smaller than n_clusters (5). Possibly due to duplicate points in X.\n",
      "  km2.fit(X2)\n",
      "<ipython-input-3-f2f924259928>:37: ConvergenceWarning: Number of distinct clusters (4) found smaller than n_clusters (5). Possibly due to duplicate points in X.\n",
      "  km2.fit(X2)\n",
      "<ipython-input-3-f2f924259928>:37: ConvergenceWarning: Number of distinct clusters (4) found smaller than n_clusters (5). Possibly due to duplicate points in X.\n",
      "  km2.fit(X2)\n",
      "<ipython-input-3-f2f924259928>:37: ConvergenceWarning: Number of distinct clusters (3) found smaller than n_clusters (5). Possibly due to duplicate points in X.\n",
      "  km2.fit(X2)\n",
      "<ipython-input-3-f2f924259928>:37: ConvergenceWarning: Number of distinct clusters (4) found smaller than n_clusters (5). Possibly due to duplicate points in X.\n",
      "  km2.fit(X2)\n",
      "<ipython-input-3-f2f924259928>:37: ConvergenceWarning: Number of distinct clusters (3) found smaller than n_clusters (5). Possibly due to duplicate points in X.\n",
      "  km2.fit(X2)\n",
      "<ipython-input-3-f2f924259928>:37: ConvergenceWarning: Number of distinct clusters (2) found smaller than n_clusters (5). Possibly due to duplicate points in X.\n",
      "  km2.fit(X2)\n",
      "<ipython-input-3-f2f924259928>:37: ConvergenceWarning: Number of distinct clusters (2) found smaller than n_clusters (5). Possibly due to duplicate points in X.\n",
      "  km2.fit(X2)\n",
      "<ipython-input-3-f2f924259928>:37: ConvergenceWarning: Number of distinct clusters (3) found smaller than n_clusters (5). Possibly due to duplicate points in X.\n",
      "  km2.fit(X2)\n",
      "<ipython-input-3-f2f924259928>:37: ConvergenceWarning: Number of distinct clusters (2) found smaller than n_clusters (5). Possibly due to duplicate points in X.\n",
      "  km2.fit(X2)\n"
     ]
    },
    {
     "name": "stdout",
     "output_type": "stream",
     "text": [
      "3800\n",
      "201.77179861068726\n"
     ]
    },
    {
     "name": "stderr",
     "output_type": "stream",
     "text": [
      "<ipython-input-3-f2f924259928>:37: ConvergenceWarning: Number of distinct clusters (3) found smaller than n_clusters (5). Possibly due to duplicate points in X.\n",
      "  km2.fit(X2)\n",
      "<ipython-input-3-f2f924259928>:37: ConvergenceWarning: Number of distinct clusters (2) found smaller than n_clusters (5). Possibly due to duplicate points in X.\n",
      "  km2.fit(X2)\n",
      "<ipython-input-3-f2f924259928>:37: ConvergenceWarning: Number of distinct clusters (2) found smaller than n_clusters (5). Possibly due to duplicate points in X.\n",
      "  km2.fit(X2)\n",
      "<ipython-input-3-f2f924259928>:37: ConvergenceWarning: Number of distinct clusters (3) found smaller than n_clusters (5). Possibly due to duplicate points in X.\n",
      "  km2.fit(X2)\n",
      "<ipython-input-3-f2f924259928>:37: ConvergenceWarning: Number of distinct clusters (3) found smaller than n_clusters (5). Possibly due to duplicate points in X.\n",
      "  km2.fit(X2)\n",
      "<ipython-input-3-f2f924259928>:37: ConvergenceWarning: Number of distinct clusters (4) found smaller than n_clusters (5). Possibly due to duplicate points in X.\n",
      "  km2.fit(X2)\n",
      "<ipython-input-3-f2f924259928>:37: ConvergenceWarning: Number of distinct clusters (4) found smaller than n_clusters (5). Possibly due to duplicate points in X.\n",
      "  km2.fit(X2)\n",
      "<ipython-input-3-f2f924259928>:37: ConvergenceWarning: Number of distinct clusters (4) found smaller than n_clusters (5). Possibly due to duplicate points in X.\n",
      "  km2.fit(X2)\n",
      "<ipython-input-3-f2f924259928>:37: ConvergenceWarning: Number of distinct clusters (4) found smaller than n_clusters (5). Possibly due to duplicate points in X.\n",
      "  km2.fit(X2)\n",
      "<ipython-input-3-f2f924259928>:37: ConvergenceWarning: Number of distinct clusters (3) found smaller than n_clusters (5). Possibly due to duplicate points in X.\n",
      "  km2.fit(X2)\n",
      "<ipython-input-3-f2f924259928>:37: ConvergenceWarning: Number of distinct clusters (4) found smaller than n_clusters (5). Possibly due to duplicate points in X.\n",
      "  km2.fit(X2)\n",
      "<ipython-input-3-f2f924259928>:37: ConvergenceWarning: Number of distinct clusters (3) found smaller than n_clusters (5). Possibly due to duplicate points in X.\n",
      "  km2.fit(X2)\n",
      "<ipython-input-3-f2f924259928>:37: ConvergenceWarning: Number of distinct clusters (4) found smaller than n_clusters (5). Possibly due to duplicate points in X.\n",
      "  km2.fit(X2)\n",
      "<ipython-input-3-f2f924259928>:37: ConvergenceWarning: Number of distinct clusters (3) found smaller than n_clusters (5). Possibly due to duplicate points in X.\n",
      "  km2.fit(X2)\n",
      "<ipython-input-3-f2f924259928>:37: ConvergenceWarning: Number of distinct clusters (3) found smaller than n_clusters (5). Possibly due to duplicate points in X.\n",
      "  km2.fit(X2)\n"
     ]
    },
    {
     "name": "stdout",
     "output_type": "stream",
     "text": [
      "3900\n",
      "206.33768677711487\n"
     ]
    },
    {
     "name": "stderr",
     "output_type": "stream",
     "text": [
      "<ipython-input-3-f2f924259928>:37: ConvergenceWarning: Number of distinct clusters (4) found smaller than n_clusters (5). Possibly due to duplicate points in X.\n",
      "  km2.fit(X2)\n",
      "<ipython-input-3-f2f924259928>:37: ConvergenceWarning: Number of distinct clusters (4) found smaller than n_clusters (5). Possibly due to duplicate points in X.\n",
      "  km2.fit(X2)\n",
      "<ipython-input-3-f2f924259928>:37: ConvergenceWarning: Number of distinct clusters (4) found smaller than n_clusters (5). Possibly due to duplicate points in X.\n",
      "  km2.fit(X2)\n",
      "<ipython-input-3-f2f924259928>:37: ConvergenceWarning: Number of distinct clusters (4) found smaller than n_clusters (5). Possibly due to duplicate points in X.\n",
      "  km2.fit(X2)\n",
      "<ipython-input-3-f2f924259928>:37: ConvergenceWarning: Number of distinct clusters (2) found smaller than n_clusters (5). Possibly due to duplicate points in X.\n",
      "  km2.fit(X2)\n",
      "<ipython-input-3-f2f924259928>:37: ConvergenceWarning: Number of distinct clusters (1) found smaller than n_clusters (5). Possibly due to duplicate points in X.\n",
      "  km2.fit(X2)\n",
      "<ipython-input-3-f2f924259928>:37: ConvergenceWarning: Number of distinct clusters (4) found smaller than n_clusters (5). Possibly due to duplicate points in X.\n",
      "  km2.fit(X2)\n",
      "<ipython-input-3-f2f924259928>:37: ConvergenceWarning: Number of distinct clusters (3) found smaller than n_clusters (5). Possibly due to duplicate points in X.\n",
      "  km2.fit(X2)\n",
      "<ipython-input-3-f2f924259928>:37: ConvergenceWarning: Number of distinct clusters (4) found smaller than n_clusters (5). Possibly due to duplicate points in X.\n",
      "  km2.fit(X2)\n",
      "<ipython-input-3-f2f924259928>:37: ConvergenceWarning: Number of distinct clusters (2) found smaller than n_clusters (5). Possibly due to duplicate points in X.\n",
      "  km2.fit(X2)\n",
      "<ipython-input-3-f2f924259928>:37: ConvergenceWarning: Number of distinct clusters (4) found smaller than n_clusters (5). Possibly due to duplicate points in X.\n",
      "  km2.fit(X2)\n",
      "<ipython-input-3-f2f924259928>:37: ConvergenceWarning: Number of distinct clusters (2) found smaller than n_clusters (5). Possibly due to duplicate points in X.\n",
      "  km2.fit(X2)\n",
      "<ipython-input-3-f2f924259928>:37: ConvergenceWarning: Number of distinct clusters (3) found smaller than n_clusters (5). Possibly due to duplicate points in X.\n",
      "  km2.fit(X2)\n",
      "<ipython-input-3-f2f924259928>:37: ConvergenceWarning: Number of distinct clusters (4) found smaller than n_clusters (5). Possibly due to duplicate points in X.\n",
      "  km2.fit(X2)\n",
      "<ipython-input-3-f2f924259928>:37: ConvergenceWarning: Number of distinct clusters (2) found smaller than n_clusters (5). Possibly due to duplicate points in X.\n",
      "  km2.fit(X2)\n",
      "<ipython-input-3-f2f924259928>:37: ConvergenceWarning: Number of distinct clusters (3) found smaller than n_clusters (5). Possibly due to duplicate points in X.\n",
      "  km2.fit(X2)\n",
      "<ipython-input-3-f2f924259928>:37: ConvergenceWarning: Number of distinct clusters (3) found smaller than n_clusters (5). Possibly due to duplicate points in X.\n",
      "  km2.fit(X2)\n"
     ]
    },
    {
     "name": "stdout",
     "output_type": "stream",
     "text": [
      "4000\n",
      "211.01384472846985\n",
      "4100\n",
      "217.40847086906433\n"
     ]
    },
    {
     "name": "stderr",
     "output_type": "stream",
     "text": [
      "<ipython-input-3-f2f924259928>:37: ConvergenceWarning: Number of distinct clusters (4) found smaller than n_clusters (5). Possibly due to duplicate points in X.\n",
      "  km2.fit(X2)\n",
      "<ipython-input-3-f2f924259928>:37: ConvergenceWarning: Number of distinct clusters (4) found smaller than n_clusters (5). Possibly due to duplicate points in X.\n",
      "  km2.fit(X2)\n"
     ]
    },
    {
     "name": "stdout",
     "output_type": "stream",
     "text": [
      "4200\n",
      "222.73116159439087\n"
     ]
    },
    {
     "name": "stderr",
     "output_type": "stream",
     "text": [
      "<ipython-input-3-f2f924259928>:37: ConvergenceWarning: Number of distinct clusters (1) found smaller than n_clusters (5). Possibly due to duplicate points in X.\n",
      "  km2.fit(X2)\n",
      "<ipython-input-3-f2f924259928>:37: ConvergenceWarning: Number of distinct clusters (3) found smaller than n_clusters (5). Possibly due to duplicate points in X.\n",
      "  km2.fit(X2)\n",
      "<ipython-input-3-f2f924259928>:37: ConvergenceWarning: Number of distinct clusters (4) found smaller than n_clusters (5). Possibly due to duplicate points in X.\n",
      "  km2.fit(X2)\n",
      "<ipython-input-3-f2f924259928>:37: ConvergenceWarning: Number of distinct clusters (4) found smaller than n_clusters (5). Possibly due to duplicate points in X.\n",
      "  km2.fit(X2)\n"
     ]
    },
    {
     "name": "stdout",
     "output_type": "stream",
     "text": [
      "4300\n",
      "227.4271936416626\n",
      "4400\n",
      "232.13162398338318\n"
     ]
    },
    {
     "name": "stderr",
     "output_type": "stream",
     "text": [
      "<ipython-input-3-f2f924259928>:37: ConvergenceWarning: Number of distinct clusters (3) found smaller than n_clusters (5). Possibly due to duplicate points in X.\n",
      "  km2.fit(X2)\n",
      "<ipython-input-3-f2f924259928>:37: ConvergenceWarning: Number of distinct clusters (2) found smaller than n_clusters (5). Possibly due to duplicate points in X.\n",
      "  km2.fit(X2)\n"
     ]
    },
    {
     "name": "stdout",
     "output_type": "stream",
     "text": [
      "4500\n",
      "236.8459255695343\n",
      "4600\n",
      "241.2681655883789\n",
      "4700\n",
      "246.51103448867798\n"
     ]
    },
    {
     "name": "stderr",
     "output_type": "stream",
     "text": [
      "<ipython-input-3-f2f924259928>:37: ConvergenceWarning: Number of distinct clusters (4) found smaller than n_clusters (5). Possibly due to duplicate points in X.\n",
      "  km2.fit(X2)\n"
     ]
    },
    {
     "name": "stdout",
     "output_type": "stream",
     "text": [
      "4800\n",
      "251.77958822250366\n",
      "4900\n",
      "256.69821524620056\n"
     ]
    },
    {
     "name": "stderr",
     "output_type": "stream",
     "text": [
      "<ipython-input-3-f2f924259928>:37: ConvergenceWarning: Number of distinct clusters (4) found smaller than n_clusters (5). Possibly due to duplicate points in X.\n",
      "  km2.fit(X2)\n"
     ]
    },
    {
     "name": "stdout",
     "output_type": "stream",
     "text": [
      "5000\n",
      "261.8182587623596\n",
      "5100\n",
      "267.7154116630554\n",
      "5200\n",
      "273.214008808136\n"
     ]
    },
    {
     "name": "stderr",
     "output_type": "stream",
     "text": [
      "<ipython-input-3-f2f924259928>:37: ConvergenceWarning: Number of distinct clusters (4) found smaller than n_clusters (5). Possibly due to duplicate points in X.\n",
      "  km2.fit(X2)\n"
     ]
    },
    {
     "name": "stdout",
     "output_type": "stream",
     "text": [
      "5300\n",
      "278.03711223602295\n"
     ]
    },
    {
     "name": "stderr",
     "output_type": "stream",
     "text": [
      "<ipython-input-3-f2f924259928>:37: ConvergenceWarning: Number of distinct clusters (4) found smaller than n_clusters (5). Possibly due to duplicate points in X.\n",
      "  km2.fit(X2)\n"
     ]
    },
    {
     "name": "stdout",
     "output_type": "stream",
     "text": [
      "5400\n",
      "282.61578154563904\n"
     ]
    },
    {
     "name": "stderr",
     "output_type": "stream",
     "text": [
      "<ipython-input-3-f2f924259928>:37: ConvergenceWarning: Number of distinct clusters (4) found smaller than n_clusters (5). Possibly due to duplicate points in X.\n",
      "  km2.fit(X2)\n",
      "<ipython-input-3-f2f924259928>:37: ConvergenceWarning: Number of distinct clusters (2) found smaller than n_clusters (5). Possibly due to duplicate points in X.\n",
      "  km2.fit(X2)\n"
     ]
    },
    {
     "name": "stdout",
     "output_type": "stream",
     "text": [
      "5500\n",
      "287.1447412967682\n"
     ]
    },
    {
     "name": "stderr",
     "output_type": "stream",
     "text": [
      "<ipython-input-3-f2f924259928>:37: ConvergenceWarning: Number of distinct clusters (4) found smaller than n_clusters (5). Possibly due to duplicate points in X.\n",
      "  km2.fit(X2)\n",
      "<ipython-input-3-f2f924259928>:37: ConvergenceWarning: Number of distinct clusters (4) found smaller than n_clusters (5). Possibly due to duplicate points in X.\n",
      "  km2.fit(X2)\n",
      "<ipython-input-3-f2f924259928>:37: ConvergenceWarning: Number of distinct clusters (3) found smaller than n_clusters (5). Possibly due to duplicate points in X.\n",
      "  km2.fit(X2)\n",
      "<ipython-input-3-f2f924259928>:37: ConvergenceWarning: Number of distinct clusters (3) found smaller than n_clusters (5). Possibly due to duplicate points in X.\n",
      "  km2.fit(X2)\n"
     ]
    },
    {
     "name": "stdout",
     "output_type": "stream",
     "text": [
      "5600\n",
      "291.4395446777344\n"
     ]
    },
    {
     "name": "stderr",
     "output_type": "stream",
     "text": [
      "<ipython-input-3-f2f924259928>:37: ConvergenceWarning: Number of distinct clusters (4) found smaller than n_clusters (5). Possibly due to duplicate points in X.\n",
      "  km2.fit(X2)\n",
      "<ipython-input-3-f2f924259928>:37: ConvergenceWarning: Number of distinct clusters (4) found smaller than n_clusters (5). Possibly due to duplicate points in X.\n",
      "  km2.fit(X2)\n",
      "<ipython-input-3-f2f924259928>:37: ConvergenceWarning: Number of distinct clusters (2) found smaller than n_clusters (5). Possibly due to duplicate points in X.\n",
      "  km2.fit(X2)\n",
      "<ipython-input-3-f2f924259928>:37: ConvergenceWarning: Number of distinct clusters (3) found smaller than n_clusters (5). Possibly due to duplicate points in X.\n",
      "  km2.fit(X2)\n",
      "<ipython-input-3-f2f924259928>:37: ConvergenceWarning: Number of distinct clusters (2) found smaller than n_clusters (5). Possibly due to duplicate points in X.\n",
      "  km2.fit(X2)\n"
     ]
    },
    {
     "name": "stdout",
     "output_type": "stream",
     "text": [
      "5700\n",
      "296.3957827091217\n"
     ]
    },
    {
     "name": "stderr",
     "output_type": "stream",
     "text": [
      "<ipython-input-3-f2f924259928>:37: ConvergenceWarning: Number of distinct clusters (4) found smaller than n_clusters (5). Possibly due to duplicate points in X.\n",
      "  km2.fit(X2)\n",
      "<ipython-input-3-f2f924259928>:37: ConvergenceWarning: Number of distinct clusters (3) found smaller than n_clusters (5). Possibly due to duplicate points in X.\n",
      "  km2.fit(X2)\n",
      "<ipython-input-3-f2f924259928>:37: ConvergenceWarning: Number of distinct clusters (3) found smaller than n_clusters (5). Possibly due to duplicate points in X.\n",
      "  km2.fit(X2)\n",
      "<ipython-input-3-f2f924259928>:37: ConvergenceWarning: Number of distinct clusters (2) found smaller than n_clusters (5). Possibly due to duplicate points in X.\n",
      "  km2.fit(X2)\n",
      "<ipython-input-3-f2f924259928>:37: ConvergenceWarning: Number of distinct clusters (4) found smaller than n_clusters (5). Possibly due to duplicate points in X.\n",
      "  km2.fit(X2)\n",
      "<ipython-input-3-f2f924259928>:37: ConvergenceWarning: Number of distinct clusters (2) found smaller than n_clusters (5). Possibly due to duplicate points in X.\n",
      "  km2.fit(X2)\n"
     ]
    },
    {
     "name": "stdout",
     "output_type": "stream",
     "text": [
      "5800\n",
      "301.10658144950867\n"
     ]
    },
    {
     "name": "stderr",
     "output_type": "stream",
     "text": [
      "<ipython-input-3-f2f924259928>:37: ConvergenceWarning: Number of distinct clusters (4) found smaller than n_clusters (5). Possibly due to duplicate points in X.\n",
      "  km2.fit(X2)\n",
      "<ipython-input-3-f2f924259928>:37: ConvergenceWarning: Number of distinct clusters (2) found smaller than n_clusters (5). Possibly due to duplicate points in X.\n",
      "  km2.fit(X2)\n",
      "<ipython-input-3-f2f924259928>:37: ConvergenceWarning: Number of distinct clusters (3) found smaller than n_clusters (5). Possibly due to duplicate points in X.\n",
      "  km2.fit(X2)\n",
      "<ipython-input-3-f2f924259928>:37: ConvergenceWarning: Number of distinct clusters (3) found smaller than n_clusters (5). Possibly due to duplicate points in X.\n",
      "  km2.fit(X2)\n",
      "<ipython-input-3-f2f924259928>:37: ConvergenceWarning: Number of distinct clusters (2) found smaller than n_clusters (5). Possibly due to duplicate points in X.\n",
      "  km2.fit(X2)\n",
      "<ipython-input-3-f2f924259928>:37: ConvergenceWarning: Number of distinct clusters (3) found smaller than n_clusters (5). Possibly due to duplicate points in X.\n",
      "  km2.fit(X2)\n",
      "<ipython-input-3-f2f924259928>:37: ConvergenceWarning: Number of distinct clusters (1) found smaller than n_clusters (5). Possibly due to duplicate points in X.\n",
      "  km2.fit(X2)\n",
      "<ipython-input-3-f2f924259928>:37: ConvergenceWarning: Number of distinct clusters (3) found smaller than n_clusters (5). Possibly due to duplicate points in X.\n",
      "  km2.fit(X2)\n",
      "<ipython-input-3-f2f924259928>:37: ConvergenceWarning: Number of distinct clusters (4) found smaller than n_clusters (5). Possibly due to duplicate points in X.\n",
      "  km2.fit(X2)\n"
     ]
    },
    {
     "name": "stdout",
     "output_type": "stream",
     "text": [
      "5900\n",
      "305.6525378227234\n"
     ]
    },
    {
     "name": "stderr",
     "output_type": "stream",
     "text": [
      "<ipython-input-3-f2f924259928>:37: ConvergenceWarning: Number of distinct clusters (3) found smaller than n_clusters (5). Possibly due to duplicate points in X.\n",
      "  km2.fit(X2)\n",
      "<ipython-input-3-f2f924259928>:37: ConvergenceWarning: Number of distinct clusters (2) found smaller than n_clusters (5). Possibly due to duplicate points in X.\n",
      "  km2.fit(X2)\n",
      "<ipython-input-3-f2f924259928>:37: ConvergenceWarning: Number of distinct clusters (3) found smaller than n_clusters (5). Possibly due to duplicate points in X.\n",
      "  km2.fit(X2)\n",
      "<ipython-input-3-f2f924259928>:37: ConvergenceWarning: Number of distinct clusters (4) found smaller than n_clusters (5). Possibly due to duplicate points in X.\n",
      "  km2.fit(X2)\n",
      "<ipython-input-3-f2f924259928>:37: ConvergenceWarning: Number of distinct clusters (3) found smaller than n_clusters (5). Possibly due to duplicate points in X.\n",
      "  km2.fit(X2)\n",
      "<ipython-input-3-f2f924259928>:37: ConvergenceWarning: Number of distinct clusters (4) found smaller than n_clusters (5). Possibly due to duplicate points in X.\n",
      "  km2.fit(X2)\n",
      "<ipython-input-3-f2f924259928>:37: ConvergenceWarning: Number of distinct clusters (4) found smaller than n_clusters (5). Possibly due to duplicate points in X.\n",
      "  km2.fit(X2)\n",
      "<ipython-input-3-f2f924259928>:37: ConvergenceWarning: Number of distinct clusters (2) found smaller than n_clusters (5). Possibly due to duplicate points in X.\n",
      "  km2.fit(X2)\n",
      "<ipython-input-3-f2f924259928>:37: ConvergenceWarning: Number of distinct clusters (4) found smaller than n_clusters (5). Possibly due to duplicate points in X.\n",
      "  km2.fit(X2)\n"
     ]
    },
    {
     "name": "stdout",
     "output_type": "stream",
     "text": [
      "6000\n",
      "310.02225637435913\n"
     ]
    },
    {
     "name": "stderr",
     "output_type": "stream",
     "text": [
      "<ipython-input-3-f2f924259928>:37: ConvergenceWarning: Number of distinct clusters (3) found smaller than n_clusters (5). Possibly due to duplicate points in X.\n",
      "  km2.fit(X2)\n",
      "<ipython-input-3-f2f924259928>:37: ConvergenceWarning: Number of distinct clusters (3) found smaller than n_clusters (5). Possibly due to duplicate points in X.\n",
      "  km2.fit(X2)\n",
      "<ipython-input-3-f2f924259928>:37: ConvergenceWarning: Number of distinct clusters (2) found smaller than n_clusters (5). Possibly due to duplicate points in X.\n",
      "  km2.fit(X2)\n",
      "<ipython-input-3-f2f924259928>:37: ConvergenceWarning: Number of distinct clusters (4) found smaller than n_clusters (5). Possibly due to duplicate points in X.\n",
      "  km2.fit(X2)\n",
      "<ipython-input-3-f2f924259928>:37: ConvergenceWarning: Number of distinct clusters (4) found smaller than n_clusters (5). Possibly due to duplicate points in X.\n",
      "  km2.fit(X2)\n",
      "<ipython-input-3-f2f924259928>:37: ConvergenceWarning: Number of distinct clusters (3) found smaller than n_clusters (5). Possibly due to duplicate points in X.\n",
      "  km2.fit(X2)\n"
     ]
    },
    {
     "name": "stdout",
     "output_type": "stream",
     "text": [
      "6100\n",
      "314.7693841457367\n"
     ]
    },
    {
     "name": "stderr",
     "output_type": "stream",
     "text": [
      "<ipython-input-3-f2f924259928>:37: ConvergenceWarning: Number of distinct clusters (4) found smaller than n_clusters (5). Possibly due to duplicate points in X.\n",
      "  km2.fit(X2)\n",
      "<ipython-input-3-f2f924259928>:37: ConvergenceWarning: Number of distinct clusters (3) found smaller than n_clusters (5). Possibly due to duplicate points in X.\n",
      "  km2.fit(X2)\n",
      "<ipython-input-3-f2f924259928>:37: ConvergenceWarning: Number of distinct clusters (4) found smaller than n_clusters (5). Possibly due to duplicate points in X.\n",
      "  km2.fit(X2)\n"
     ]
    },
    {
     "name": "stdout",
     "output_type": "stream",
     "text": [
      "6200\n",
      "320.07085633277893\n",
      "6300\n",
      "325.23533153533936\n"
     ]
    },
    {
     "name": "stderr",
     "output_type": "stream",
     "text": [
      "<ipython-input-3-f2f924259928>:37: ConvergenceWarning: Number of distinct clusters (4) found smaller than n_clusters (5). Possibly due to duplicate points in X.\n",
      "  km2.fit(X2)\n",
      "<ipython-input-3-f2f924259928>:37: ConvergenceWarning: Number of distinct clusters (3) found smaller than n_clusters (5). Possibly due to duplicate points in X.\n",
      "  km2.fit(X2)\n",
      "<ipython-input-3-f2f924259928>:37: ConvergenceWarning: Number of distinct clusters (4) found smaller than n_clusters (5). Possibly due to duplicate points in X.\n",
      "  km2.fit(X2)\n",
      "<ipython-input-3-f2f924259928>:37: ConvergenceWarning: Number of distinct clusters (4) found smaller than n_clusters (5). Possibly due to duplicate points in X.\n",
      "  km2.fit(X2)\n",
      "<ipython-input-3-f2f924259928>:37: ConvergenceWarning: Number of distinct clusters (4) found smaller than n_clusters (5). Possibly due to duplicate points in X.\n",
      "  km2.fit(X2)\n"
     ]
    },
    {
     "name": "stdout",
     "output_type": "stream",
     "text": [
      "6400\n",
      "330.1189534664154\n"
     ]
    },
    {
     "name": "stderr",
     "output_type": "stream",
     "text": [
      "<ipython-input-3-f2f924259928>:37: ConvergenceWarning: Number of distinct clusters (4) found smaller than n_clusters (5). Possibly due to duplicate points in X.\n",
      "  km2.fit(X2)\n"
     ]
    },
    {
     "name": "stdout",
     "output_type": "stream",
     "text": [
      "6500\n",
      "334.86387634277344\n"
     ]
    },
    {
     "name": "stderr",
     "output_type": "stream",
     "text": [
      "<ipython-input-3-f2f924259928>:37: ConvergenceWarning: Number of distinct clusters (4) found smaller than n_clusters (5). Possibly due to duplicate points in X.\n",
      "  km2.fit(X2)\n",
      "<ipython-input-3-f2f924259928>:37: ConvergenceWarning: Number of distinct clusters (4) found smaller than n_clusters (5). Possibly due to duplicate points in X.\n",
      "  km2.fit(X2)\n"
     ]
    },
    {
     "name": "stdout",
     "output_type": "stream",
     "text": [
      "6600\n",
      "339.506023645401\n"
     ]
    },
    {
     "name": "stderr",
     "output_type": "stream",
     "text": [
      "<ipython-input-3-f2f924259928>:37: ConvergenceWarning: Number of distinct clusters (4) found smaller than n_clusters (5). Possibly due to duplicate points in X.\n",
      "  km2.fit(X2)\n",
      "<ipython-input-3-f2f924259928>:37: ConvergenceWarning: Number of distinct clusters (4) found smaller than n_clusters (5). Possibly due to duplicate points in X.\n",
      "  km2.fit(X2)\n",
      "<ipython-input-3-f2f924259928>:37: ConvergenceWarning: Number of distinct clusters (4) found smaller than n_clusters (5). Possibly due to duplicate points in X.\n",
      "  km2.fit(X2)\n",
      "<ipython-input-3-f2f924259928>:37: ConvergenceWarning: Number of distinct clusters (3) found smaller than n_clusters (5). Possibly due to duplicate points in X.\n",
      "  km2.fit(X2)\n",
      "<ipython-input-3-f2f924259928>:37: ConvergenceWarning: Number of distinct clusters (3) found smaller than n_clusters (5). Possibly due to duplicate points in X.\n",
      "  km2.fit(X2)\n",
      "<ipython-input-3-f2f924259928>:37: ConvergenceWarning: Number of distinct clusters (4) found smaller than n_clusters (5). Possibly due to duplicate points in X.\n",
      "  km2.fit(X2)\n",
      "<ipython-input-3-f2f924259928>:37: ConvergenceWarning: Number of distinct clusters (4) found smaller than n_clusters (5). Possibly due to duplicate points in X.\n",
      "  km2.fit(X2)\n",
      "<ipython-input-3-f2f924259928>:37: ConvergenceWarning: Number of distinct clusters (4) found smaller than n_clusters (5). Possibly due to duplicate points in X.\n",
      "  km2.fit(X2)\n"
     ]
    },
    {
     "name": "stdout",
     "output_type": "stream",
     "text": [
      "6700\n",
      "344.0921633243561\n"
     ]
    },
    {
     "name": "stderr",
     "output_type": "stream",
     "text": [
      "<ipython-input-3-f2f924259928>:37: ConvergenceWarning: Number of distinct clusters (4) found smaller than n_clusters (5). Possibly due to duplicate points in X.\n",
      "  km2.fit(X2)\n",
      "<ipython-input-3-f2f924259928>:37: ConvergenceWarning: Number of distinct clusters (3) found smaller than n_clusters (5). Possibly due to duplicate points in X.\n",
      "  km2.fit(X2)\n",
      "<ipython-input-3-f2f924259928>:37: ConvergenceWarning: Number of distinct clusters (4) found smaller than n_clusters (5). Possibly due to duplicate points in X.\n",
      "  km2.fit(X2)\n",
      "<ipython-input-3-f2f924259928>:37: ConvergenceWarning: Number of distinct clusters (4) found smaller than n_clusters (5). Possibly due to duplicate points in X.\n",
      "  km2.fit(X2)\n",
      "<ipython-input-3-f2f924259928>:37: ConvergenceWarning: Number of distinct clusters (4) found smaller than n_clusters (5). Possibly due to duplicate points in X.\n",
      "  km2.fit(X2)\n",
      "<ipython-input-3-f2f924259928>:37: ConvergenceWarning: Number of distinct clusters (4) found smaller than n_clusters (5). Possibly due to duplicate points in X.\n",
      "  km2.fit(X2)\n"
     ]
    },
    {
     "name": "stdout",
     "output_type": "stream",
     "text": [
      "6800\n",
      "348.4906601905823\n"
     ]
    },
    {
     "name": "stderr",
     "output_type": "stream",
     "text": [
      "<ipython-input-3-f2f924259928>:37: ConvergenceWarning: Number of distinct clusters (4) found smaller than n_clusters (5). Possibly due to duplicate points in X.\n",
      "  km2.fit(X2)\n",
      "<ipython-input-3-f2f924259928>:37: ConvergenceWarning: Number of distinct clusters (4) found smaller than n_clusters (5). Possibly due to duplicate points in X.\n",
      "  km2.fit(X2)\n",
      "<ipython-input-3-f2f924259928>:37: ConvergenceWarning: Number of distinct clusters (3) found smaller than n_clusters (5). Possibly due to duplicate points in X.\n",
      "  km2.fit(X2)\n",
      "<ipython-input-3-f2f924259928>:37: ConvergenceWarning: Number of distinct clusters (4) found smaller than n_clusters (5). Possibly due to duplicate points in X.\n",
      "  km2.fit(X2)\n",
      "<ipython-input-3-f2f924259928>:37: ConvergenceWarning: Number of distinct clusters (4) found smaller than n_clusters (5). Possibly due to duplicate points in X.\n",
      "  km2.fit(X2)\n",
      "<ipython-input-3-f2f924259928>:37: ConvergenceWarning: Number of distinct clusters (4) found smaller than n_clusters (5). Possibly due to duplicate points in X.\n",
      "  km2.fit(X2)\n",
      "<ipython-input-3-f2f924259928>:37: ConvergenceWarning: Number of distinct clusters (3) found smaller than n_clusters (5). Possibly due to duplicate points in X.\n",
      "  km2.fit(X2)\n"
     ]
    },
    {
     "name": "stdout",
     "output_type": "stream",
     "text": [
      "6900\n",
      "353.18116760253906\n"
     ]
    },
    {
     "name": "stderr",
     "output_type": "stream",
     "text": [
      "<ipython-input-3-f2f924259928>:37: ConvergenceWarning: Number of distinct clusters (3) found smaller than n_clusters (5). Possibly due to duplicate points in X.\n",
      "  km2.fit(X2)\n",
      "<ipython-input-3-f2f924259928>:37: ConvergenceWarning: Number of distinct clusters (4) found smaller than n_clusters (5). Possibly due to duplicate points in X.\n",
      "  km2.fit(X2)\n"
     ]
    },
    {
     "name": "stdout",
     "output_type": "stream",
     "text": [
      "7000\n",
      "357.96094274520874\n"
     ]
    },
    {
     "name": "stderr",
     "output_type": "stream",
     "text": [
      "<ipython-input-3-f2f924259928>:37: ConvergenceWarning: Number of distinct clusters (4) found smaller than n_clusters (5). Possibly due to duplicate points in X.\n",
      "  km2.fit(X2)\n",
      "<ipython-input-3-f2f924259928>:37: ConvergenceWarning: Number of distinct clusters (4) found smaller than n_clusters (5). Possibly due to duplicate points in X.\n",
      "  km2.fit(X2)\n",
      "<ipython-input-3-f2f924259928>:37: ConvergenceWarning: Number of distinct clusters (4) found smaller than n_clusters (5). Possibly due to duplicate points in X.\n",
      "  km2.fit(X2)\n",
      "<ipython-input-3-f2f924259928>:37: ConvergenceWarning: Number of distinct clusters (3) found smaller than n_clusters (5). Possibly due to duplicate points in X.\n",
      "  km2.fit(X2)\n",
      "<ipython-input-3-f2f924259928>:37: ConvergenceWarning: Number of distinct clusters (3) found smaller than n_clusters (5). Possibly due to duplicate points in X.\n",
      "  km2.fit(X2)\n",
      "<ipython-input-3-f2f924259928>:37: ConvergenceWarning: Number of distinct clusters (4) found smaller than n_clusters (5). Possibly due to duplicate points in X.\n",
      "  km2.fit(X2)\n",
      "<ipython-input-3-f2f924259928>:37: ConvergenceWarning: Number of distinct clusters (3) found smaller than n_clusters (5). Possibly due to duplicate points in X.\n",
      "  km2.fit(X2)\n",
      "<ipython-input-3-f2f924259928>:37: ConvergenceWarning: Number of distinct clusters (4) found smaller than n_clusters (5). Possibly due to duplicate points in X.\n",
      "  km2.fit(X2)\n",
      "<ipython-input-3-f2f924259928>:37: ConvergenceWarning: Number of distinct clusters (4) found smaller than n_clusters (5). Possibly due to duplicate points in X.\n",
      "  km2.fit(X2)\n"
     ]
    },
    {
     "name": "stdout",
     "output_type": "stream",
     "text": [
      "7100\n",
      "362.73707818984985\n"
     ]
    },
    {
     "name": "stderr",
     "output_type": "stream",
     "text": [
      "<ipython-input-3-f2f924259928>:37: ConvergenceWarning: Number of distinct clusters (2) found smaller than n_clusters (5). Possibly due to duplicate points in X.\n",
      "  km2.fit(X2)\n",
      "<ipython-input-3-f2f924259928>:37: ConvergenceWarning: Number of distinct clusters (2) found smaller than n_clusters (5). Possibly due to duplicate points in X.\n",
      "  km2.fit(X2)\n",
      "<ipython-input-3-f2f924259928>:37: ConvergenceWarning: Number of distinct clusters (4) found smaller than n_clusters (5). Possibly due to duplicate points in X.\n",
      "  km2.fit(X2)\n"
     ]
    },
    {
     "name": "stdout",
     "output_type": "stream",
     "text": [
      "7200\n",
      "367.59093952178955\n"
     ]
    },
    {
     "name": "stderr",
     "output_type": "stream",
     "text": [
      "<ipython-input-3-f2f924259928>:37: ConvergenceWarning: Number of distinct clusters (4) found smaller than n_clusters (5). Possibly due to duplicate points in X.\n",
      "  km2.fit(X2)\n"
     ]
    },
    {
     "name": "stdout",
     "output_type": "stream",
     "text": [
      "7300\n",
      "372.63564944267273\n"
     ]
    },
    {
     "name": "stderr",
     "output_type": "stream",
     "text": [
      "<ipython-input-3-f2f924259928>:37: ConvergenceWarning: Number of distinct clusters (3) found smaller than n_clusters (5). Possibly due to duplicate points in X.\n",
      "  km2.fit(X2)\n",
      "<ipython-input-3-f2f924259928>:37: ConvergenceWarning: Number of distinct clusters (4) found smaller than n_clusters (5). Possibly due to duplicate points in X.\n",
      "  km2.fit(X2)\n",
      "<ipython-input-3-f2f924259928>:37: ConvergenceWarning: Number of distinct clusters (4) found smaller than n_clusters (5). Possibly due to duplicate points in X.\n",
      "  km2.fit(X2)\n",
      "<ipython-input-3-f2f924259928>:37: ConvergenceWarning: Number of distinct clusters (1) found smaller than n_clusters (5). Possibly due to duplicate points in X.\n",
      "  km2.fit(X2)\n",
      "<ipython-input-3-f2f924259928>:37: ConvergenceWarning: Number of distinct clusters (3) found smaller than n_clusters (5). Possibly due to duplicate points in X.\n",
      "  km2.fit(X2)\n",
      "<ipython-input-3-f2f924259928>:37: ConvergenceWarning: Number of distinct clusters (3) found smaller than n_clusters (5). Possibly due to duplicate points in X.\n",
      "  km2.fit(X2)\n",
      "<ipython-input-3-f2f924259928>:37: ConvergenceWarning: Number of distinct clusters (2) found smaller than n_clusters (5). Possibly due to duplicate points in X.\n",
      "  km2.fit(X2)\n",
      "<ipython-input-3-f2f924259928>:37: ConvergenceWarning: Number of distinct clusters (4) found smaller than n_clusters (5). Possibly due to duplicate points in X.\n",
      "  km2.fit(X2)\n",
      "<ipython-input-3-f2f924259928>:37: ConvergenceWarning: Number of distinct clusters (4) found smaller than n_clusters (5). Possibly due to duplicate points in X.\n",
      "  km2.fit(X2)\n"
     ]
    },
    {
     "name": "stdout",
     "output_type": "stream",
     "text": [
      "7400\n",
      "377.6605067253113\n"
     ]
    },
    {
     "name": "stderr",
     "output_type": "stream",
     "text": [
      "<ipython-input-3-f2f924259928>:37: ConvergenceWarning: Number of distinct clusters (3) found smaller than n_clusters (5). Possibly due to duplicate points in X.\n",
      "  km2.fit(X2)\n",
      "<ipython-input-3-f2f924259928>:37: ConvergenceWarning: Number of distinct clusters (3) found smaller than n_clusters (5). Possibly due to duplicate points in X.\n",
      "  km2.fit(X2)\n",
      "<ipython-input-3-f2f924259928>:37: ConvergenceWarning: Number of distinct clusters (3) found smaller than n_clusters (5). Possibly due to duplicate points in X.\n",
      "  km2.fit(X2)\n",
      "<ipython-input-3-f2f924259928>:37: ConvergenceWarning: Number of distinct clusters (3) found smaller than n_clusters (5). Possibly due to duplicate points in X.\n",
      "  km2.fit(X2)\n",
      "<ipython-input-3-f2f924259928>:37: ConvergenceWarning: Number of distinct clusters (2) found smaller than n_clusters (5). Possibly due to duplicate points in X.\n",
      "  km2.fit(X2)\n",
      "<ipython-input-3-f2f924259928>:37: ConvergenceWarning: Number of distinct clusters (2) found smaller than n_clusters (5). Possibly due to duplicate points in X.\n",
      "  km2.fit(X2)\n",
      "<ipython-input-3-f2f924259928>:37: ConvergenceWarning: Number of distinct clusters (4) found smaller than n_clusters (5). Possibly due to duplicate points in X.\n",
      "  km2.fit(X2)\n",
      "<ipython-input-3-f2f924259928>:37: ConvergenceWarning: Number of distinct clusters (3) found smaller than n_clusters (5). Possibly due to duplicate points in X.\n",
      "  km2.fit(X2)\n",
      "<ipython-input-3-f2f924259928>:37: ConvergenceWarning: Number of distinct clusters (2) found smaller than n_clusters (5). Possibly due to duplicate points in X.\n",
      "  km2.fit(X2)\n",
      "<ipython-input-3-f2f924259928>:37: ConvergenceWarning: Number of distinct clusters (2) found smaller than n_clusters (5). Possibly due to duplicate points in X.\n",
      "  km2.fit(X2)\n",
      "<ipython-input-3-f2f924259928>:37: ConvergenceWarning: Number of distinct clusters (3) found smaller than n_clusters (5). Possibly due to duplicate points in X.\n",
      "  km2.fit(X2)\n",
      "<ipython-input-3-f2f924259928>:37: ConvergenceWarning: Number of distinct clusters (3) found smaller than n_clusters (5). Possibly due to duplicate points in X.\n",
      "  km2.fit(X2)\n"
     ]
    },
    {
     "name": "stdout",
     "output_type": "stream",
     "text": [
      "7500\n",
      "382.513564825058\n"
     ]
    },
    {
     "name": "stderr",
     "output_type": "stream",
     "text": [
      "<ipython-input-3-f2f924259928>:37: ConvergenceWarning: Number of distinct clusters (3) found smaller than n_clusters (5). Possibly due to duplicate points in X.\n",
      "  km2.fit(X2)\n",
      "<ipython-input-3-f2f924259928>:37: ConvergenceWarning: Number of distinct clusters (1) found smaller than n_clusters (5). Possibly due to duplicate points in X.\n",
      "  km2.fit(X2)\n",
      "<ipython-input-3-f2f924259928>:37: ConvergenceWarning: Number of distinct clusters (4) found smaller than n_clusters (5). Possibly due to duplicate points in X.\n",
      "  km2.fit(X2)\n",
      "<ipython-input-3-f2f924259928>:37: ConvergenceWarning: Number of distinct clusters (3) found smaller than n_clusters (5). Possibly due to duplicate points in X.\n",
      "  km2.fit(X2)\n",
      "<ipython-input-3-f2f924259928>:37: ConvergenceWarning: Number of distinct clusters (4) found smaller than n_clusters (5). Possibly due to duplicate points in X.\n",
      "  km2.fit(X2)\n",
      "<ipython-input-3-f2f924259928>:37: ConvergenceWarning: Number of distinct clusters (3) found smaller than n_clusters (5). Possibly due to duplicate points in X.\n",
      "  km2.fit(X2)\n",
      "<ipython-input-3-f2f924259928>:37: ConvergenceWarning: Number of distinct clusters (3) found smaller than n_clusters (5). Possibly due to duplicate points in X.\n",
      "  km2.fit(X2)\n",
      "<ipython-input-3-f2f924259928>:37: ConvergenceWarning: Number of distinct clusters (4) found smaller than n_clusters (5). Possibly due to duplicate points in X.\n",
      "  km2.fit(X2)\n",
      "<ipython-input-3-f2f924259928>:37: ConvergenceWarning: Number of distinct clusters (2) found smaller than n_clusters (5). Possibly due to duplicate points in X.\n",
      "  km2.fit(X2)\n",
      "<ipython-input-3-f2f924259928>:37: ConvergenceWarning: Number of distinct clusters (2) found smaller than n_clusters (5). Possibly due to duplicate points in X.\n",
      "  km2.fit(X2)\n",
      "<ipython-input-3-f2f924259928>:37: ConvergenceWarning: Number of distinct clusters (3) found smaller than n_clusters (5). Possibly due to duplicate points in X.\n",
      "  km2.fit(X2)\n"
     ]
    },
    {
     "name": "stdout",
     "output_type": "stream",
     "text": [
      "7600\n",
      "387.61828684806824\n"
     ]
    },
    {
     "name": "stderr",
     "output_type": "stream",
     "text": [
      "<ipython-input-3-f2f924259928>:37: ConvergenceWarning: Number of distinct clusters (4) found smaller than n_clusters (5). Possibly due to duplicate points in X.\n",
      "  km2.fit(X2)\n",
      "<ipython-input-3-f2f924259928>:37: ConvergenceWarning: Number of distinct clusters (3) found smaller than n_clusters (5). Possibly due to duplicate points in X.\n",
      "  km2.fit(X2)\n",
      "<ipython-input-3-f2f924259928>:37: ConvergenceWarning: Number of distinct clusters (4) found smaller than n_clusters (5). Possibly due to duplicate points in X.\n",
      "  km2.fit(X2)\n",
      "<ipython-input-3-f2f924259928>:37: ConvergenceWarning: Number of distinct clusters (2) found smaller than n_clusters (5). Possibly due to duplicate points in X.\n",
      "  km2.fit(X2)\n",
      "<ipython-input-3-f2f924259928>:37: ConvergenceWarning: Number of distinct clusters (4) found smaller than n_clusters (5). Possibly due to duplicate points in X.\n",
      "  km2.fit(X2)\n",
      "<ipython-input-3-f2f924259928>:37: ConvergenceWarning: Number of distinct clusters (2) found smaller than n_clusters (5). Possibly due to duplicate points in X.\n",
      "  km2.fit(X2)\n",
      "<ipython-input-3-f2f924259928>:37: ConvergenceWarning: Number of distinct clusters (3) found smaller than n_clusters (5). Possibly due to duplicate points in X.\n",
      "  km2.fit(X2)\n"
     ]
    },
    {
     "name": "stdout",
     "output_type": "stream",
     "text": [
      "7700\n",
      "392.4389374256134\n"
     ]
    },
    {
     "name": "stderr",
     "output_type": "stream",
     "text": [
      "<ipython-input-3-f2f924259928>:37: ConvergenceWarning: Number of distinct clusters (3) found smaller than n_clusters (5). Possibly due to duplicate points in X.\n",
      "  km2.fit(X2)\n",
      "<ipython-input-3-f2f924259928>:37: ConvergenceWarning: Number of distinct clusters (4) found smaller than n_clusters (5). Possibly due to duplicate points in X.\n",
      "  km2.fit(X2)\n",
      "<ipython-input-3-f2f924259928>:37: ConvergenceWarning: Number of distinct clusters (2) found smaller than n_clusters (5). Possibly due to duplicate points in X.\n",
      "  km2.fit(X2)\n",
      "<ipython-input-3-f2f924259928>:37: ConvergenceWarning: Number of distinct clusters (4) found smaller than n_clusters (5). Possibly due to duplicate points in X.\n",
      "  km2.fit(X2)\n",
      "<ipython-input-3-f2f924259928>:37: ConvergenceWarning: Number of distinct clusters (3) found smaller than n_clusters (5). Possibly due to duplicate points in X.\n",
      "  km2.fit(X2)\n",
      "<ipython-input-3-f2f924259928>:37: ConvergenceWarning: Number of distinct clusters (3) found smaller than n_clusters (5). Possibly due to duplicate points in X.\n",
      "  km2.fit(X2)\n",
      "<ipython-input-3-f2f924259928>:37: ConvergenceWarning: Number of distinct clusters (3) found smaller than n_clusters (5). Possibly due to duplicate points in X.\n",
      "  km2.fit(X2)\n",
      "<ipython-input-3-f2f924259928>:37: ConvergenceWarning: Number of distinct clusters (1) found smaller than n_clusters (5). Possibly due to duplicate points in X.\n",
      "  km2.fit(X2)\n",
      "<ipython-input-3-f2f924259928>:37: ConvergenceWarning: Number of distinct clusters (2) found smaller than n_clusters (5). Possibly due to duplicate points in X.\n",
      "  km2.fit(X2)\n",
      "<ipython-input-3-f2f924259928>:37: ConvergenceWarning: Number of distinct clusters (2) found smaller than n_clusters (5). Possibly due to duplicate points in X.\n",
      "  km2.fit(X2)\n",
      "<ipython-input-3-f2f924259928>:37: ConvergenceWarning: Number of distinct clusters (1) found smaller than n_clusters (5). Possibly due to duplicate points in X.\n",
      "  km2.fit(X2)\n",
      "<ipython-input-3-f2f924259928>:37: ConvergenceWarning: Number of distinct clusters (4) found smaller than n_clusters (5). Possibly due to duplicate points in X.\n",
      "  km2.fit(X2)\n",
      "<ipython-input-3-f2f924259928>:37: ConvergenceWarning: Number of distinct clusters (2) found smaller than n_clusters (5). Possibly due to duplicate points in X.\n",
      "  km2.fit(X2)\n",
      "<ipython-input-3-f2f924259928>:37: ConvergenceWarning: Number of distinct clusters (1) found smaller than n_clusters (5). Possibly due to duplicate points in X.\n",
      "  km2.fit(X2)\n"
     ]
    },
    {
     "name": "stdout",
     "output_type": "stream",
     "text": [
      "7800\n",
      "397.44702219963074\n"
     ]
    },
    {
     "name": "stderr",
     "output_type": "stream",
     "text": [
      "<ipython-input-3-f2f924259928>:37: ConvergenceWarning: Number of distinct clusters (4) found smaller than n_clusters (5). Possibly due to duplicate points in X.\n",
      "  km2.fit(X2)\n"
     ]
    },
    {
     "name": "stdout",
     "output_type": "stream",
     "text": [
      "7900\n",
      "402.1314604282379\n"
     ]
    },
    {
     "name": "stderr",
     "output_type": "stream",
     "text": [
      "<ipython-input-3-f2f924259928>:37: ConvergenceWarning: Number of distinct clusters (3) found smaller than n_clusters (5). Possibly due to duplicate points in X.\n",
      "  km2.fit(X2)\n",
      "<ipython-input-3-f2f924259928>:37: ConvergenceWarning: Number of distinct clusters (2) found smaller than n_clusters (5). Possibly due to duplicate points in X.\n",
      "  km2.fit(X2)\n",
      "<ipython-input-3-f2f924259928>:37: ConvergenceWarning: Number of distinct clusters (2) found smaller than n_clusters (5). Possibly due to duplicate points in X.\n",
      "  km2.fit(X2)\n",
      "<ipython-input-3-f2f924259928>:37: ConvergenceWarning: Number of distinct clusters (2) found smaller than n_clusters (5). Possibly due to duplicate points in X.\n",
      "  km2.fit(X2)\n",
      "<ipython-input-3-f2f924259928>:37: ConvergenceWarning: Number of distinct clusters (2) found smaller than n_clusters (5). Possibly due to duplicate points in X.\n",
      "  km2.fit(X2)\n",
      "<ipython-input-3-f2f924259928>:37: ConvergenceWarning: Number of distinct clusters (2) found smaller than n_clusters (5). Possibly due to duplicate points in X.\n",
      "  km2.fit(X2)\n",
      "<ipython-input-3-f2f924259928>:37: ConvergenceWarning: Number of distinct clusters (4) found smaller than n_clusters (5). Possibly due to duplicate points in X.\n",
      "  km2.fit(X2)\n",
      "<ipython-input-3-f2f924259928>:37: ConvergenceWarning: Number of distinct clusters (2) found smaller than n_clusters (5). Possibly due to duplicate points in X.\n",
      "  km2.fit(X2)\n",
      "<ipython-input-3-f2f924259928>:37: ConvergenceWarning: Number of distinct clusters (4) found smaller than n_clusters (5). Possibly due to duplicate points in X.\n",
      "  km2.fit(X2)\n",
      "<ipython-input-3-f2f924259928>:37: ConvergenceWarning: Number of distinct clusters (4) found smaller than n_clusters (5). Possibly due to duplicate points in X.\n",
      "  km2.fit(X2)\n",
      "<ipython-input-3-f2f924259928>:37: ConvergenceWarning: Number of distinct clusters (2) found smaller than n_clusters (5). Possibly due to duplicate points in X.\n",
      "  km2.fit(X2)\n",
      "<ipython-input-3-f2f924259928>:37: ConvergenceWarning: Number of distinct clusters (3) found smaller than n_clusters (5). Possibly due to duplicate points in X.\n",
      "  km2.fit(X2)\n",
      "<ipython-input-3-f2f924259928>:37: ConvergenceWarning: Number of distinct clusters (2) found smaller than n_clusters (5). Possibly due to duplicate points in X.\n",
      "  km2.fit(X2)\n",
      "<ipython-input-3-f2f924259928>:37: ConvergenceWarning: Number of distinct clusters (4) found smaller than n_clusters (5). Possibly due to duplicate points in X.\n",
      "  km2.fit(X2)\n"
     ]
    },
    {
     "name": "stdout",
     "output_type": "stream",
     "text": [
      "8000\n",
      "407.094669342041\n"
     ]
    },
    {
     "name": "stderr",
     "output_type": "stream",
     "text": [
      "<ipython-input-3-f2f924259928>:37: ConvergenceWarning: Number of distinct clusters (2) found smaller than n_clusters (5). Possibly due to duplicate points in X.\n",
      "  km2.fit(X2)\n",
      "<ipython-input-3-f2f924259928>:37: ConvergenceWarning: Number of distinct clusters (3) found smaller than n_clusters (5). Possibly due to duplicate points in X.\n",
      "  km2.fit(X2)\n",
      "<ipython-input-3-f2f924259928>:37: ConvergenceWarning: Number of distinct clusters (2) found smaller than n_clusters (5). Possibly due to duplicate points in X.\n",
      "  km2.fit(X2)\n",
      "<ipython-input-3-f2f924259928>:37: ConvergenceWarning: Number of distinct clusters (2) found smaller than n_clusters (5). Possibly due to duplicate points in X.\n",
      "  km2.fit(X2)\n",
      "<ipython-input-3-f2f924259928>:37: ConvergenceWarning: Number of distinct clusters (2) found smaller than n_clusters (5). Possibly due to duplicate points in X.\n",
      "  km2.fit(X2)\n",
      "<ipython-input-3-f2f924259928>:37: ConvergenceWarning: Number of distinct clusters (4) found smaller than n_clusters (5). Possibly due to duplicate points in X.\n",
      "  km2.fit(X2)\n",
      "<ipython-input-3-f2f924259928>:37: ConvergenceWarning: Number of distinct clusters (3) found smaller than n_clusters (5). Possibly due to duplicate points in X.\n",
      "  km2.fit(X2)\n",
      "<ipython-input-3-f2f924259928>:37: ConvergenceWarning: Number of distinct clusters (4) found smaller than n_clusters (5). Possibly due to duplicate points in X.\n",
      "  km2.fit(X2)\n"
     ]
    },
    {
     "name": "stdout",
     "output_type": "stream",
     "text": [
      "8100\n",
      "412.0391309261322\n"
     ]
    },
    {
     "name": "stderr",
     "output_type": "stream",
     "text": [
      "<ipython-input-3-f2f924259928>:37: ConvergenceWarning: Number of distinct clusters (4) found smaller than n_clusters (5). Possibly due to duplicate points in X.\n",
      "  km2.fit(X2)\n",
      "<ipython-input-3-f2f924259928>:37: ConvergenceWarning: Number of distinct clusters (1) found smaller than n_clusters (5). Possibly due to duplicate points in X.\n",
      "  km2.fit(X2)\n",
      "<ipython-input-3-f2f924259928>:37: ConvergenceWarning: Number of distinct clusters (1) found smaller than n_clusters (5). Possibly due to duplicate points in X.\n",
      "  km2.fit(X2)\n",
      "<ipython-input-3-f2f924259928>:37: ConvergenceWarning: Number of distinct clusters (4) found smaller than n_clusters (5). Possibly due to duplicate points in X.\n",
      "  km2.fit(X2)\n",
      "<ipython-input-3-f2f924259928>:37: ConvergenceWarning: Number of distinct clusters (4) found smaller than n_clusters (5). Possibly due to duplicate points in X.\n",
      "  km2.fit(X2)\n",
      "<ipython-input-3-f2f924259928>:37: ConvergenceWarning: Number of distinct clusters (4) found smaller than n_clusters (5). Possibly due to duplicate points in X.\n",
      "  km2.fit(X2)\n",
      "<ipython-input-3-f2f924259928>:37: ConvergenceWarning: Number of distinct clusters (1) found smaller than n_clusters (5). Possibly due to duplicate points in X.\n",
      "  km2.fit(X2)\n"
     ]
    },
    {
     "name": "stdout",
     "output_type": "stream",
     "text": [
      "8200\n",
      "417.3577904701233\n"
     ]
    },
    {
     "name": "stderr",
     "output_type": "stream",
     "text": [
      "<ipython-input-3-f2f924259928>:37: ConvergenceWarning: Number of distinct clusters (1) found smaller than n_clusters (5). Possibly due to duplicate points in X.\n",
      "  km2.fit(X2)\n",
      "<ipython-input-3-f2f924259928>:37: ConvergenceWarning: Number of distinct clusters (4) found smaller than n_clusters (5). Possibly due to duplicate points in X.\n",
      "  km2.fit(X2)\n",
      "<ipython-input-3-f2f924259928>:37: ConvergenceWarning: Number of distinct clusters (2) found smaller than n_clusters (5). Possibly due to duplicate points in X.\n",
      "  km2.fit(X2)\n",
      "<ipython-input-3-f2f924259928>:37: ConvergenceWarning: Number of distinct clusters (2) found smaller than n_clusters (5). Possibly due to duplicate points in X.\n",
      "  km2.fit(X2)\n",
      "<ipython-input-3-f2f924259928>:37: ConvergenceWarning: Number of distinct clusters (2) found smaller than n_clusters (5). Possibly due to duplicate points in X.\n",
      "  km2.fit(X2)\n",
      "<ipython-input-3-f2f924259928>:37: ConvergenceWarning: Number of distinct clusters (2) found smaller than n_clusters (5). Possibly due to duplicate points in X.\n",
      "  km2.fit(X2)\n"
     ]
    },
    {
     "name": "stdout",
     "output_type": "stream",
     "text": [
      "8300\n",
      "422.048522233963\n"
     ]
    },
    {
     "name": "stderr",
     "output_type": "stream",
     "text": [
      "<ipython-input-3-f2f924259928>:37: ConvergenceWarning: Number of distinct clusters (4) found smaller than n_clusters (5). Possibly due to duplicate points in X.\n",
      "  km2.fit(X2)\n",
      "<ipython-input-3-f2f924259928>:37: ConvergenceWarning: Number of distinct clusters (4) found smaller than n_clusters (5). Possibly due to duplicate points in X.\n",
      "  km2.fit(X2)\n",
      "<ipython-input-3-f2f924259928>:37: ConvergenceWarning: Number of distinct clusters (3) found smaller than n_clusters (5). Possibly due to duplicate points in X.\n",
      "  km2.fit(X2)\n",
      "<ipython-input-3-f2f924259928>:37: ConvergenceWarning: Number of distinct clusters (2) found smaller than n_clusters (5). Possibly due to duplicate points in X.\n",
      "  km2.fit(X2)\n",
      "<ipython-input-3-f2f924259928>:37: ConvergenceWarning: Number of distinct clusters (3) found smaller than n_clusters (5). Possibly due to duplicate points in X.\n",
      "  km2.fit(X2)\n",
      "<ipython-input-3-f2f924259928>:37: ConvergenceWarning: Number of distinct clusters (4) found smaller than n_clusters (5). Possibly due to duplicate points in X.\n",
      "  km2.fit(X2)\n",
      "<ipython-input-3-f2f924259928>:37: ConvergenceWarning: Number of distinct clusters (4) found smaller than n_clusters (5). Possibly due to duplicate points in X.\n",
      "  km2.fit(X2)\n",
      "<ipython-input-3-f2f924259928>:37: ConvergenceWarning: Number of distinct clusters (4) found smaller than n_clusters (5). Possibly due to duplicate points in X.\n",
      "  km2.fit(X2)\n",
      "<ipython-input-3-f2f924259928>:37: ConvergenceWarning: Number of distinct clusters (1) found smaller than n_clusters (5). Possibly due to duplicate points in X.\n",
      "  km2.fit(X2)\n",
      "<ipython-input-3-f2f924259928>:37: ConvergenceWarning: Number of distinct clusters (4) found smaller than n_clusters (5). Possibly due to duplicate points in X.\n",
      "  km2.fit(X2)\n",
      "<ipython-input-3-f2f924259928>:37: ConvergenceWarning: Number of distinct clusters (2) found smaller than n_clusters (5). Possibly due to duplicate points in X.\n",
      "  km2.fit(X2)\n",
      "<ipython-input-3-f2f924259928>:37: ConvergenceWarning: Number of distinct clusters (3) found smaller than n_clusters (5). Possibly due to duplicate points in X.\n",
      "  km2.fit(X2)\n"
     ]
    },
    {
     "name": "stdout",
     "output_type": "stream",
     "text": [
      "8400\n",
      "426.74369502067566\n"
     ]
    },
    {
     "name": "stderr",
     "output_type": "stream",
     "text": [
      "<ipython-input-3-f2f924259928>:37: ConvergenceWarning: Number of distinct clusters (3) found smaller than n_clusters (5). Possibly due to duplicate points in X.\n",
      "  km2.fit(X2)\n",
      "<ipython-input-3-f2f924259928>:37: ConvergenceWarning: Number of distinct clusters (4) found smaller than n_clusters (5). Possibly due to duplicate points in X.\n",
      "  km2.fit(X2)\n",
      "<ipython-input-3-f2f924259928>:37: ConvergenceWarning: Number of distinct clusters (3) found smaller than n_clusters (5). Possibly due to duplicate points in X.\n",
      "  km2.fit(X2)\n",
      "<ipython-input-3-f2f924259928>:37: ConvergenceWarning: Number of distinct clusters (4) found smaller than n_clusters (5). Possibly due to duplicate points in X.\n",
      "  km2.fit(X2)\n",
      "<ipython-input-3-f2f924259928>:37: ConvergenceWarning: Number of distinct clusters (3) found smaller than n_clusters (5). Possibly due to duplicate points in X.\n",
      "  km2.fit(X2)\n",
      "<ipython-input-3-f2f924259928>:37: ConvergenceWarning: Number of distinct clusters (4) found smaller than n_clusters (5). Possibly due to duplicate points in X.\n",
      "  km2.fit(X2)\n",
      "<ipython-input-3-f2f924259928>:37: ConvergenceWarning: Number of distinct clusters (2) found smaller than n_clusters (5). Possibly due to duplicate points in X.\n",
      "  km2.fit(X2)\n",
      "<ipython-input-3-f2f924259928>:37: ConvergenceWarning: Number of distinct clusters (4) found smaller than n_clusters (5). Possibly due to duplicate points in X.\n",
      "  km2.fit(X2)\n",
      "<ipython-input-3-f2f924259928>:37: ConvergenceWarning: Number of distinct clusters (1) found smaller than n_clusters (5). Possibly due to duplicate points in X.\n",
      "  km2.fit(X2)\n",
      "<ipython-input-3-f2f924259928>:37: ConvergenceWarning: Number of distinct clusters (1) found smaller than n_clusters (5). Possibly due to duplicate points in X.\n",
      "  km2.fit(X2)\n",
      "<ipython-input-3-f2f924259928>:37: ConvergenceWarning: Number of distinct clusters (1) found smaller than n_clusters (5). Possibly due to duplicate points in X.\n",
      "  km2.fit(X2)\n",
      "<ipython-input-3-f2f924259928>:37: ConvergenceWarning: Number of distinct clusters (4) found smaller than n_clusters (5). Possibly due to duplicate points in X.\n",
      "  km2.fit(X2)\n"
     ]
    },
    {
     "name": "stdout",
     "output_type": "stream",
     "text": [
      "8500\n",
      "431.65687346458435\n"
     ]
    },
    {
     "name": "stderr",
     "output_type": "stream",
     "text": [
      "<ipython-input-3-f2f924259928>:37: ConvergenceWarning: Number of distinct clusters (3) found smaller than n_clusters (5). Possibly due to duplicate points in X.\n",
      "  km2.fit(X2)\n",
      "<ipython-input-3-f2f924259928>:37: ConvergenceWarning: Number of distinct clusters (1) found smaller than n_clusters (5). Possibly due to duplicate points in X.\n",
      "  km2.fit(X2)\n",
      "<ipython-input-3-f2f924259928>:37: ConvergenceWarning: Number of distinct clusters (4) found smaller than n_clusters (5). Possibly due to duplicate points in X.\n",
      "  km2.fit(X2)\n",
      "<ipython-input-3-f2f924259928>:37: ConvergenceWarning: Number of distinct clusters (3) found smaller than n_clusters (5). Possibly due to duplicate points in X.\n",
      "  km2.fit(X2)\n",
      "<ipython-input-3-f2f924259928>:37: ConvergenceWarning: Number of distinct clusters (2) found smaller than n_clusters (5). Possibly due to duplicate points in X.\n",
      "  km2.fit(X2)\n",
      "<ipython-input-3-f2f924259928>:37: ConvergenceWarning: Number of distinct clusters (4) found smaller than n_clusters (5). Possibly due to duplicate points in X.\n",
      "  km2.fit(X2)\n",
      "<ipython-input-3-f2f924259928>:37: ConvergenceWarning: Number of distinct clusters (4) found smaller than n_clusters (5). Possibly due to duplicate points in X.\n",
      "  km2.fit(X2)\n",
      "<ipython-input-3-f2f924259928>:37: ConvergenceWarning: Number of distinct clusters (3) found smaller than n_clusters (5). Possibly due to duplicate points in X.\n",
      "  km2.fit(X2)\n"
     ]
    },
    {
     "name": "stdout",
     "output_type": "stream",
     "text": [
      "8600\n",
      "436.6997084617615\n"
     ]
    },
    {
     "name": "stderr",
     "output_type": "stream",
     "text": [
      "<ipython-input-3-f2f924259928>:37: ConvergenceWarning: Number of distinct clusters (3) found smaller than n_clusters (5). Possibly due to duplicate points in X.\n",
      "  km2.fit(X2)\n",
      "<ipython-input-3-f2f924259928>:37: ConvergenceWarning: Number of distinct clusters (3) found smaller than n_clusters (5). Possibly due to duplicate points in X.\n",
      "  km2.fit(X2)\n",
      "<ipython-input-3-f2f924259928>:37: ConvergenceWarning: Number of distinct clusters (3) found smaller than n_clusters (5). Possibly due to duplicate points in X.\n",
      "  km2.fit(X2)\n",
      "<ipython-input-3-f2f924259928>:37: ConvergenceWarning: Number of distinct clusters (2) found smaller than n_clusters (5). Possibly due to duplicate points in X.\n",
      "  km2.fit(X2)\n",
      "<ipython-input-3-f2f924259928>:37: ConvergenceWarning: Number of distinct clusters (4) found smaller than n_clusters (5). Possibly due to duplicate points in X.\n",
      "  km2.fit(X2)\n",
      "<ipython-input-3-f2f924259928>:37: ConvergenceWarning: Number of distinct clusters (3) found smaller than n_clusters (5). Possibly due to duplicate points in X.\n",
      "  km2.fit(X2)\n",
      "<ipython-input-3-f2f924259928>:37: ConvergenceWarning: Number of distinct clusters (3) found smaller than n_clusters (5). Possibly due to duplicate points in X.\n",
      "  km2.fit(X2)\n",
      "<ipython-input-3-f2f924259928>:37: ConvergenceWarning: Number of distinct clusters (3) found smaller than n_clusters (5). Possibly due to duplicate points in X.\n",
      "  km2.fit(X2)\n"
     ]
    },
    {
     "name": "stdout",
     "output_type": "stream",
     "text": [
      "8700\n",
      "441.26406598091125\n"
     ]
    },
    {
     "name": "stderr",
     "output_type": "stream",
     "text": [
      "<ipython-input-3-f2f924259928>:37: ConvergenceWarning: Number of distinct clusters (1) found smaller than n_clusters (5). Possibly due to duplicate points in X.\n",
      "  km2.fit(X2)\n",
      "<ipython-input-3-f2f924259928>:37: ConvergenceWarning: Number of distinct clusters (4) found smaller than n_clusters (5). Possibly due to duplicate points in X.\n",
      "  km2.fit(X2)\n",
      "<ipython-input-3-f2f924259928>:37: ConvergenceWarning: Number of distinct clusters (3) found smaller than n_clusters (5). Possibly due to duplicate points in X.\n",
      "  km2.fit(X2)\n",
      "<ipython-input-3-f2f924259928>:37: ConvergenceWarning: Number of distinct clusters (4) found smaller than n_clusters (5). Possibly due to duplicate points in X.\n",
      "  km2.fit(X2)\n",
      "<ipython-input-3-f2f924259928>:37: ConvergenceWarning: Number of distinct clusters (2) found smaller than n_clusters (5). Possibly due to duplicate points in X.\n",
      "  km2.fit(X2)\n",
      "<ipython-input-3-f2f924259928>:37: ConvergenceWarning: Number of distinct clusters (3) found smaller than n_clusters (5). Possibly due to duplicate points in X.\n",
      "  km2.fit(X2)\n",
      "<ipython-input-3-f2f924259928>:37: ConvergenceWarning: Number of distinct clusters (3) found smaller than n_clusters (5). Possibly due to duplicate points in X.\n",
      "  km2.fit(X2)\n",
      "<ipython-input-3-f2f924259928>:37: ConvergenceWarning: Number of distinct clusters (3) found smaller than n_clusters (5). Possibly due to duplicate points in X.\n",
      "  km2.fit(X2)\n",
      "<ipython-input-3-f2f924259928>:37: ConvergenceWarning: Number of distinct clusters (3) found smaller than n_clusters (5). Possibly due to duplicate points in X.\n",
      "  km2.fit(X2)\n",
      "<ipython-input-3-f2f924259928>:37: ConvergenceWarning: Number of distinct clusters (1) found smaller than n_clusters (5). Possibly due to duplicate points in X.\n",
      "  km2.fit(X2)\n",
      "<ipython-input-3-f2f924259928>:37: ConvergenceWarning: Number of distinct clusters (4) found smaller than n_clusters (5). Possibly due to duplicate points in X.\n",
      "  km2.fit(X2)\n"
     ]
    },
    {
     "name": "stdout",
     "output_type": "stream",
     "text": [
      "8800\n",
      "445.9197852611542\n"
     ]
    },
    {
     "name": "stderr",
     "output_type": "stream",
     "text": [
      "<ipython-input-3-f2f924259928>:37: ConvergenceWarning: Number of distinct clusters (4) found smaller than n_clusters (5). Possibly due to duplicate points in X.\n",
      "  km2.fit(X2)\n",
      "<ipython-input-3-f2f924259928>:37: ConvergenceWarning: Number of distinct clusters (2) found smaller than n_clusters (5). Possibly due to duplicate points in X.\n",
      "  km2.fit(X2)\n",
      "<ipython-input-3-f2f924259928>:37: ConvergenceWarning: Number of distinct clusters (2) found smaller than n_clusters (5). Possibly due to duplicate points in X.\n",
      "  km2.fit(X2)\n",
      "<ipython-input-3-f2f924259928>:37: ConvergenceWarning: Number of distinct clusters (3) found smaller than n_clusters (5). Possibly due to duplicate points in X.\n",
      "  km2.fit(X2)\n",
      "<ipython-input-3-f2f924259928>:37: ConvergenceWarning: Number of distinct clusters (1) found smaller than n_clusters (5). Possibly due to duplicate points in X.\n",
      "  km2.fit(X2)\n",
      "<ipython-input-3-f2f924259928>:37: ConvergenceWarning: Number of distinct clusters (4) found smaller than n_clusters (5). Possibly due to duplicate points in X.\n",
      "  km2.fit(X2)\n",
      "<ipython-input-3-f2f924259928>:37: ConvergenceWarning: Number of distinct clusters (4) found smaller than n_clusters (5). Possibly due to duplicate points in X.\n",
      "  km2.fit(X2)\n",
      "<ipython-input-3-f2f924259928>:37: ConvergenceWarning: Number of distinct clusters (2) found smaller than n_clusters (5). Possibly due to duplicate points in X.\n",
      "  km2.fit(X2)\n",
      "<ipython-input-3-f2f924259928>:37: ConvergenceWarning: Number of distinct clusters (4) found smaller than n_clusters (5). Possibly due to duplicate points in X.\n",
      "  km2.fit(X2)\n",
      "<ipython-input-3-f2f924259928>:37: ConvergenceWarning: Number of distinct clusters (3) found smaller than n_clusters (5). Possibly due to duplicate points in X.\n",
      "  km2.fit(X2)\n"
     ]
    },
    {
     "name": "stdout",
     "output_type": "stream",
     "text": [
      "8900\n",
      "450.59412360191345\n"
     ]
    },
    {
     "name": "stderr",
     "output_type": "stream",
     "text": [
      "<ipython-input-3-f2f924259928>:37: ConvergenceWarning: Number of distinct clusters (3) found smaller than n_clusters (5). Possibly due to duplicate points in X.\n",
      "  km2.fit(X2)\n",
      "<ipython-input-3-f2f924259928>:37: ConvergenceWarning: Number of distinct clusters (1) found smaller than n_clusters (5). Possibly due to duplicate points in X.\n",
      "  km2.fit(X2)\n",
      "<ipython-input-3-f2f924259928>:37: ConvergenceWarning: Number of distinct clusters (3) found smaller than n_clusters (5). Possibly due to duplicate points in X.\n",
      "  km2.fit(X2)\n",
      "<ipython-input-3-f2f924259928>:37: ConvergenceWarning: Number of distinct clusters (3) found smaller than n_clusters (5). Possibly due to duplicate points in X.\n",
      "  km2.fit(X2)\n",
      "<ipython-input-3-f2f924259928>:37: ConvergenceWarning: Number of distinct clusters (1) found smaller than n_clusters (5). Possibly due to duplicate points in X.\n",
      "  km2.fit(X2)\n",
      "<ipython-input-3-f2f924259928>:37: ConvergenceWarning: Number of distinct clusters (2) found smaller than n_clusters (5). Possibly due to duplicate points in X.\n",
      "  km2.fit(X2)\n",
      "<ipython-input-3-f2f924259928>:37: ConvergenceWarning: Number of distinct clusters (1) found smaller than n_clusters (5). Possibly due to duplicate points in X.\n",
      "  km2.fit(X2)\n",
      "<ipython-input-3-f2f924259928>:37: ConvergenceWarning: Number of distinct clusters (3) found smaller than n_clusters (5). Possibly due to duplicate points in X.\n",
      "  km2.fit(X2)\n",
      "<ipython-input-3-f2f924259928>:37: ConvergenceWarning: Number of distinct clusters (2) found smaller than n_clusters (5). Possibly due to duplicate points in X.\n",
      "  km2.fit(X2)\n"
     ]
    },
    {
     "name": "stdout",
     "output_type": "stream",
     "text": [
      "9000\n",
      "455.1528043746948\n"
     ]
    },
    {
     "name": "stderr",
     "output_type": "stream",
     "text": [
      "<ipython-input-3-f2f924259928>:37: ConvergenceWarning: Number of distinct clusters (1) found smaller than n_clusters (5). Possibly due to duplicate points in X.\n",
      "  km2.fit(X2)\n",
      "<ipython-input-3-f2f924259928>:37: ConvergenceWarning: Number of distinct clusters (4) found smaller than n_clusters (5). Possibly due to duplicate points in X.\n",
      "  km2.fit(X2)\n",
      "<ipython-input-3-f2f924259928>:37: ConvergenceWarning: Number of distinct clusters (3) found smaller than n_clusters (5). Possibly due to duplicate points in X.\n",
      "  km2.fit(X2)\n",
      "<ipython-input-3-f2f924259928>:37: ConvergenceWarning: Number of distinct clusters (3) found smaller than n_clusters (5). Possibly due to duplicate points in X.\n",
      "  km2.fit(X2)\n",
      "<ipython-input-3-f2f924259928>:37: ConvergenceWarning: Number of distinct clusters (4) found smaller than n_clusters (5). Possibly due to duplicate points in X.\n",
      "  km2.fit(X2)\n"
     ]
    },
    {
     "name": "stdout",
     "output_type": "stream",
     "text": [
      "9100\n",
      "459.67456340789795\n"
     ]
    },
    {
     "name": "stderr",
     "output_type": "stream",
     "text": [
      "<ipython-input-3-f2f924259928>:37: ConvergenceWarning: Number of distinct clusters (1) found smaller than n_clusters (5). Possibly due to duplicate points in X.\n",
      "  km2.fit(X2)\n",
      "<ipython-input-3-f2f924259928>:37: ConvergenceWarning: Number of distinct clusters (1) found smaller than n_clusters (5). Possibly due to duplicate points in X.\n",
      "  km2.fit(X2)\n",
      "<ipython-input-3-f2f924259928>:37: ConvergenceWarning: Number of distinct clusters (4) found smaller than n_clusters (5). Possibly due to duplicate points in X.\n",
      "  km2.fit(X2)\n",
      "<ipython-input-3-f2f924259928>:37: ConvergenceWarning: Number of distinct clusters (1) found smaller than n_clusters (5). Possibly due to duplicate points in X.\n",
      "  km2.fit(X2)\n",
      "<ipython-input-3-f2f924259928>:37: ConvergenceWarning: Number of distinct clusters (4) found smaller than n_clusters (5). Possibly due to duplicate points in X.\n",
      "  km2.fit(X2)\n",
      "<ipython-input-3-f2f924259928>:37: ConvergenceWarning: Number of distinct clusters (1) found smaller than n_clusters (5). Possibly due to duplicate points in X.\n",
      "  km2.fit(X2)\n",
      "<ipython-input-3-f2f924259928>:37: ConvergenceWarning: Number of distinct clusters (2) found smaller than n_clusters (5). Possibly due to duplicate points in X.\n",
      "  km2.fit(X2)\n",
      "<ipython-input-3-f2f924259928>:37: ConvergenceWarning: Number of distinct clusters (4) found smaller than n_clusters (5). Possibly due to duplicate points in X.\n",
      "  km2.fit(X2)\n",
      "<ipython-input-3-f2f924259928>:37: ConvergenceWarning: Number of distinct clusters (4) found smaller than n_clusters (5). Possibly due to duplicate points in X.\n",
      "  km2.fit(X2)\n"
     ]
    },
    {
     "name": "stdout",
     "output_type": "stream",
     "text": [
      "9200\n",
      "464.3562457561493\n"
     ]
    },
    {
     "name": "stderr",
     "output_type": "stream",
     "text": [
      "<ipython-input-3-f2f924259928>:37: ConvergenceWarning: Number of distinct clusters (4) found smaller than n_clusters (5). Possibly due to duplicate points in X.\n",
      "  km2.fit(X2)\n",
      "<ipython-input-3-f2f924259928>:37: ConvergenceWarning: Number of distinct clusters (1) found smaller than n_clusters (5). Possibly due to duplicate points in X.\n",
      "  km2.fit(X2)\n",
      "<ipython-input-3-f2f924259928>:37: ConvergenceWarning: Number of distinct clusters (3) found smaller than n_clusters (5). Possibly due to duplicate points in X.\n",
      "  km2.fit(X2)\n",
      "<ipython-input-3-f2f924259928>:37: ConvergenceWarning: Number of distinct clusters (4) found smaller than n_clusters (5). Possibly due to duplicate points in X.\n",
      "  km2.fit(X2)\n",
      "<ipython-input-3-f2f924259928>:37: ConvergenceWarning: Number of distinct clusters (2) found smaller than n_clusters (5). Possibly due to duplicate points in X.\n",
      "  km2.fit(X2)\n",
      "<ipython-input-3-f2f924259928>:37: ConvergenceWarning: Number of distinct clusters (4) found smaller than n_clusters (5). Possibly due to duplicate points in X.\n",
      "  km2.fit(X2)\n",
      "<ipython-input-3-f2f924259928>:37: ConvergenceWarning: Number of distinct clusters (4) found smaller than n_clusters (5). Possibly due to duplicate points in X.\n",
      "  km2.fit(X2)\n",
      "<ipython-input-3-f2f924259928>:37: ConvergenceWarning: Number of distinct clusters (3) found smaller than n_clusters (5). Possibly due to duplicate points in X.\n",
      "  km2.fit(X2)\n",
      "<ipython-input-3-f2f924259928>:37: ConvergenceWarning: Number of distinct clusters (3) found smaller than n_clusters (5). Possibly due to duplicate points in X.\n",
      "  km2.fit(X2)\n",
      "<ipython-input-3-f2f924259928>:37: ConvergenceWarning: Number of distinct clusters (2) found smaller than n_clusters (5). Possibly due to duplicate points in X.\n",
      "  km2.fit(X2)\n",
      "<ipython-input-3-f2f924259928>:37: ConvergenceWarning: Number of distinct clusters (3) found smaller than n_clusters (5). Possibly due to duplicate points in X.\n",
      "  km2.fit(X2)\n",
      "<ipython-input-3-f2f924259928>:37: ConvergenceWarning: Number of distinct clusters (2) found smaller than n_clusters (5). Possibly due to duplicate points in X.\n",
      "  km2.fit(X2)\n",
      "<ipython-input-3-f2f924259928>:37: ConvergenceWarning: Number of distinct clusters (3) found smaller than n_clusters (5). Possibly due to duplicate points in X.\n",
      "  km2.fit(X2)\n"
     ]
    },
    {
     "name": "stdout",
     "output_type": "stream",
     "text": [
      "9300\n",
      "468.9192581176758\n"
     ]
    },
    {
     "name": "stderr",
     "output_type": "stream",
     "text": [
      "<ipython-input-3-f2f924259928>:37: ConvergenceWarning: Number of distinct clusters (3) found smaller than n_clusters (5). Possibly due to duplicate points in X.\n",
      "  km2.fit(X2)\n",
      "<ipython-input-3-f2f924259928>:37: ConvergenceWarning: Number of distinct clusters (3) found smaller than n_clusters (5). Possibly due to duplicate points in X.\n",
      "  km2.fit(X2)\n",
      "<ipython-input-3-f2f924259928>:37: ConvergenceWarning: Number of distinct clusters (3) found smaller than n_clusters (5). Possibly due to duplicate points in X.\n",
      "  km2.fit(X2)\n",
      "<ipython-input-3-f2f924259928>:37: ConvergenceWarning: Number of distinct clusters (2) found smaller than n_clusters (5). Possibly due to duplicate points in X.\n",
      "  km2.fit(X2)\n",
      "<ipython-input-3-f2f924259928>:37: ConvergenceWarning: Number of distinct clusters (4) found smaller than n_clusters (5). Possibly due to duplicate points in X.\n",
      "  km2.fit(X2)\n",
      "<ipython-input-3-f2f924259928>:37: ConvergenceWarning: Number of distinct clusters (2) found smaller than n_clusters (5). Possibly due to duplicate points in X.\n",
      "  km2.fit(X2)\n",
      "<ipython-input-3-f2f924259928>:37: ConvergenceWarning: Number of distinct clusters (4) found smaller than n_clusters (5). Possibly due to duplicate points in X.\n",
      "  km2.fit(X2)\n"
     ]
    },
    {
     "name": "stdout",
     "output_type": "stream",
     "text": [
      "9400\n",
      "473.46137976646423\n"
     ]
    },
    {
     "name": "stderr",
     "output_type": "stream",
     "text": [
      "<ipython-input-3-f2f924259928>:37: ConvergenceWarning: Number of distinct clusters (4) found smaller than n_clusters (5). Possibly due to duplicate points in X.\n",
      "  km2.fit(X2)\n",
      "<ipython-input-3-f2f924259928>:37: ConvergenceWarning: Number of distinct clusters (2) found smaller than n_clusters (5). Possibly due to duplicate points in X.\n",
      "  km2.fit(X2)\n",
      "<ipython-input-3-f2f924259928>:37: ConvergenceWarning: Number of distinct clusters (4) found smaller than n_clusters (5). Possibly due to duplicate points in X.\n",
      "  km2.fit(X2)\n",
      "<ipython-input-3-f2f924259928>:37: ConvergenceWarning: Number of distinct clusters (4) found smaller than n_clusters (5). Possibly due to duplicate points in X.\n",
      "  km2.fit(X2)\n",
      "<ipython-input-3-f2f924259928>:37: ConvergenceWarning: Number of distinct clusters (4) found smaller than n_clusters (5). Possibly due to duplicate points in X.\n",
      "  km2.fit(X2)\n",
      "<ipython-input-3-f2f924259928>:37: ConvergenceWarning: Number of distinct clusters (4) found smaller than n_clusters (5). Possibly due to duplicate points in X.\n",
      "  km2.fit(X2)\n",
      "<ipython-input-3-f2f924259928>:37: ConvergenceWarning: Number of distinct clusters (3) found smaller than n_clusters (5). Possibly due to duplicate points in X.\n",
      "  km2.fit(X2)\n",
      "<ipython-input-3-f2f924259928>:37: ConvergenceWarning: Number of distinct clusters (1) found smaller than n_clusters (5). Possibly due to duplicate points in X.\n",
      "  km2.fit(X2)\n"
     ]
    },
    {
     "name": "stdout",
     "output_type": "stream",
     "text": [
      "9500\n",
      "478.14822459220886\n"
     ]
    },
    {
     "name": "stderr",
     "output_type": "stream",
     "text": [
      "<ipython-input-3-f2f924259928>:37: ConvergenceWarning: Number of distinct clusters (3) found smaller than n_clusters (5). Possibly due to duplicate points in X.\n",
      "  km2.fit(X2)\n",
      "<ipython-input-3-f2f924259928>:37: ConvergenceWarning: Number of distinct clusters (3) found smaller than n_clusters (5). Possibly due to duplicate points in X.\n",
      "  km2.fit(X2)\n",
      "<ipython-input-3-f2f924259928>:37: ConvergenceWarning: Number of distinct clusters (2) found smaller than n_clusters (5). Possibly due to duplicate points in X.\n",
      "  km2.fit(X2)\n",
      "<ipython-input-3-f2f924259928>:37: ConvergenceWarning: Number of distinct clusters (4) found smaller than n_clusters (5). Possibly due to duplicate points in X.\n",
      "  km2.fit(X2)\n",
      "<ipython-input-3-f2f924259928>:37: ConvergenceWarning: Number of distinct clusters (3) found smaller than n_clusters (5). Possibly due to duplicate points in X.\n",
      "  km2.fit(X2)\n",
      "<ipython-input-3-f2f924259928>:37: ConvergenceWarning: Number of distinct clusters (2) found smaller than n_clusters (5). Possibly due to duplicate points in X.\n",
      "  km2.fit(X2)\n",
      "<ipython-input-3-f2f924259928>:37: ConvergenceWarning: Number of distinct clusters (2) found smaller than n_clusters (5). Possibly due to duplicate points in X.\n",
      "  km2.fit(X2)\n",
      "<ipython-input-3-f2f924259928>:37: ConvergenceWarning: Number of distinct clusters (4) found smaller than n_clusters (5). Possibly due to duplicate points in X.\n",
      "  km2.fit(X2)\n"
     ]
    },
    {
     "name": "stdout",
     "output_type": "stream",
     "text": [
      "9600\n",
      "482.8007528781891\n"
     ]
    },
    {
     "name": "stderr",
     "output_type": "stream",
     "text": [
      "<ipython-input-3-f2f924259928>:37: ConvergenceWarning: Number of distinct clusters (4) found smaller than n_clusters (5). Possibly due to duplicate points in X.\n",
      "  km2.fit(X2)\n",
      "<ipython-input-3-f2f924259928>:37: ConvergenceWarning: Number of distinct clusters (2) found smaller than n_clusters (5). Possibly due to duplicate points in X.\n",
      "  km2.fit(X2)\n",
      "<ipython-input-3-f2f924259928>:37: ConvergenceWarning: Number of distinct clusters (4) found smaller than n_clusters (5). Possibly due to duplicate points in X.\n",
      "  km2.fit(X2)\n",
      "<ipython-input-3-f2f924259928>:37: ConvergenceWarning: Number of distinct clusters (2) found smaller than n_clusters (5). Possibly due to duplicate points in X.\n",
      "  km2.fit(X2)\n",
      "<ipython-input-3-f2f924259928>:37: ConvergenceWarning: Number of distinct clusters (4) found smaller than n_clusters (5). Possibly due to duplicate points in X.\n",
      "  km2.fit(X2)\n",
      "<ipython-input-3-f2f924259928>:37: ConvergenceWarning: Number of distinct clusters (3) found smaller than n_clusters (5). Possibly due to duplicate points in X.\n",
      "  km2.fit(X2)\n",
      "<ipython-input-3-f2f924259928>:37: ConvergenceWarning: Number of distinct clusters (4) found smaller than n_clusters (5). Possibly due to duplicate points in X.\n",
      "  km2.fit(X2)\n",
      "<ipython-input-3-f2f924259928>:37: ConvergenceWarning: Number of distinct clusters (4) found smaller than n_clusters (5). Possibly due to duplicate points in X.\n",
      "  km2.fit(X2)\n"
     ]
    },
    {
     "name": "stdout",
     "output_type": "stream",
     "text": [
      "9700\n",
      "487.42499256134033\n"
     ]
    },
    {
     "name": "stderr",
     "output_type": "stream",
     "text": [
      "<ipython-input-3-f2f924259928>:37: ConvergenceWarning: Number of distinct clusters (2) found smaller than n_clusters (5). Possibly due to duplicate points in X.\n",
      "  km2.fit(X2)\n",
      "<ipython-input-3-f2f924259928>:37: ConvergenceWarning: Number of distinct clusters (3) found smaller than n_clusters (5). Possibly due to duplicate points in X.\n",
      "  km2.fit(X2)\n",
      "<ipython-input-3-f2f924259928>:37: ConvergenceWarning: Number of distinct clusters (3) found smaller than n_clusters (5). Possibly due to duplicate points in X.\n",
      "  km2.fit(X2)\n",
      "<ipython-input-3-f2f924259928>:37: ConvergenceWarning: Number of distinct clusters (4) found smaller than n_clusters (5). Possibly due to duplicate points in X.\n",
      "  km2.fit(X2)\n",
      "<ipython-input-3-f2f924259928>:37: ConvergenceWarning: Number of distinct clusters (4) found smaller than n_clusters (5). Possibly due to duplicate points in X.\n",
      "  km2.fit(X2)\n",
      "<ipython-input-3-f2f924259928>:37: ConvergenceWarning: Number of distinct clusters (4) found smaller than n_clusters (5). Possibly due to duplicate points in X.\n",
      "  km2.fit(X2)\n",
      "<ipython-input-3-f2f924259928>:37: ConvergenceWarning: Number of distinct clusters (2) found smaller than n_clusters (5). Possibly due to duplicate points in X.\n",
      "  km2.fit(X2)\n",
      "<ipython-input-3-f2f924259928>:37: ConvergenceWarning: Number of distinct clusters (4) found smaller than n_clusters (5). Possibly due to duplicate points in X.\n",
      "  km2.fit(X2)\n"
     ]
    },
    {
     "name": "stdout",
     "output_type": "stream",
     "text": [
      "9800\n",
      "492.0292398929596\n"
     ]
    },
    {
     "name": "stderr",
     "output_type": "stream",
     "text": [
      "<ipython-input-3-f2f924259928>:37: ConvergenceWarning: Number of distinct clusters (2) found smaller than n_clusters (5). Possibly due to duplicate points in X.\n",
      "  km2.fit(X2)\n",
      "<ipython-input-3-f2f924259928>:37: ConvergenceWarning: Number of distinct clusters (3) found smaller than n_clusters (5). Possibly due to duplicate points in X.\n",
      "  km2.fit(X2)\n",
      "<ipython-input-3-f2f924259928>:37: ConvergenceWarning: Number of distinct clusters (3) found smaller than n_clusters (5). Possibly due to duplicate points in X.\n",
      "  km2.fit(X2)\n",
      "<ipython-input-3-f2f924259928>:37: ConvergenceWarning: Number of distinct clusters (3) found smaller than n_clusters (5). Possibly due to duplicate points in X.\n",
      "  km2.fit(X2)\n",
      "<ipython-input-3-f2f924259928>:37: ConvergenceWarning: Number of distinct clusters (3) found smaller than n_clusters (5). Possibly due to duplicate points in X.\n",
      "  km2.fit(X2)\n"
     ]
    },
    {
     "name": "stdout",
     "output_type": "stream",
     "text": [
      "9900\n",
      "496.6062066555023\n"
     ]
    },
    {
     "name": "stderr",
     "output_type": "stream",
     "text": [
      "<ipython-input-3-f2f924259928>:37: ConvergenceWarning: Number of distinct clusters (4) found smaller than n_clusters (5). Possibly due to duplicate points in X.\n",
      "  km2.fit(X2)\n",
      "<ipython-input-3-f2f924259928>:37: ConvergenceWarning: Number of distinct clusters (4) found smaller than n_clusters (5). Possibly due to duplicate points in X.\n",
      "  km2.fit(X2)\n",
      "<ipython-input-3-f2f924259928>:37: ConvergenceWarning: Number of distinct clusters (4) found smaller than n_clusters (5). Possibly due to duplicate points in X.\n",
      "  km2.fit(X2)\n",
      "<ipython-input-3-f2f924259928>:37: ConvergenceWarning: Number of distinct clusters (4) found smaller than n_clusters (5). Possibly due to duplicate points in X.\n",
      "  km2.fit(X2)\n",
      "<ipython-input-3-f2f924259928>:37: ConvergenceWarning: Number of distinct clusters (3) found smaller than n_clusters (5). Possibly due to duplicate points in X.\n",
      "  km2.fit(X2)\n",
      "<ipython-input-3-f2f924259928>:37: ConvergenceWarning: Number of distinct clusters (3) found smaller than n_clusters (5). Possibly due to duplicate points in X.\n",
      "  km2.fit(X2)\n",
      "<ipython-input-3-f2f924259928>:37: ConvergenceWarning: Number of distinct clusters (3) found smaller than n_clusters (5). Possibly due to duplicate points in X.\n",
      "  km2.fit(X2)\n",
      "<ipython-input-3-f2f924259928>:37: ConvergenceWarning: Number of distinct clusters (3) found smaller than n_clusters (5). Possibly due to duplicate points in X.\n",
      "  km2.fit(X2)\n",
      "<ipython-input-3-f2f924259928>:37: ConvergenceWarning: Number of distinct clusters (4) found smaller than n_clusters (5). Possibly due to duplicate points in X.\n",
      "  km2.fit(X2)\n"
     ]
    },
    {
     "name": "stdout",
     "output_type": "stream",
     "text": [
      "10000\n",
      "501.2797203063965\n"
     ]
    },
    {
     "name": "stderr",
     "output_type": "stream",
     "text": [
      "<ipython-input-3-f2f924259928>:37: ConvergenceWarning: Number of distinct clusters (4) found smaller than n_clusters (5). Possibly due to duplicate points in X.\n",
      "  km2.fit(X2)\n",
      "<ipython-input-3-f2f924259928>:37: ConvergenceWarning: Number of distinct clusters (4) found smaller than n_clusters (5). Possibly due to duplicate points in X.\n",
      "  km2.fit(X2)\n",
      "<ipython-input-3-f2f924259928>:37: ConvergenceWarning: Number of distinct clusters (4) found smaller than n_clusters (5). Possibly due to duplicate points in X.\n",
      "  km2.fit(X2)\n",
      "<ipython-input-3-f2f924259928>:37: ConvergenceWarning: Number of distinct clusters (4) found smaller than n_clusters (5). Possibly due to duplicate points in X.\n",
      "  km2.fit(X2)\n",
      "<ipython-input-3-f2f924259928>:37: ConvergenceWarning: Number of distinct clusters (2) found smaller than n_clusters (5). Possibly due to duplicate points in X.\n",
      "  km2.fit(X2)\n",
      "<ipython-input-3-f2f924259928>:37: ConvergenceWarning: Number of distinct clusters (4) found smaller than n_clusters (5). Possibly due to duplicate points in X.\n",
      "  km2.fit(X2)\n",
      "<ipython-input-3-f2f924259928>:37: ConvergenceWarning: Number of distinct clusters (4) found smaller than n_clusters (5). Possibly due to duplicate points in X.\n",
      "  km2.fit(X2)\n",
      "<ipython-input-3-f2f924259928>:37: ConvergenceWarning: Number of distinct clusters (3) found smaller than n_clusters (5). Possibly due to duplicate points in X.\n",
      "  km2.fit(X2)\n"
     ]
    },
    {
     "name": "stdout",
     "output_type": "stream",
     "text": [
      "10100\n",
      "505.8599147796631\n"
     ]
    },
    {
     "name": "stderr",
     "output_type": "stream",
     "text": [
      "<ipython-input-3-f2f924259928>:37: ConvergenceWarning: Number of distinct clusters (3) found smaller than n_clusters (5). Possibly due to duplicate points in X.\n",
      "  km2.fit(X2)\n",
      "<ipython-input-3-f2f924259928>:37: ConvergenceWarning: Number of distinct clusters (4) found smaller than n_clusters (5). Possibly due to duplicate points in X.\n",
      "  km2.fit(X2)\n",
      "<ipython-input-3-f2f924259928>:37: ConvergenceWarning: Number of distinct clusters (4) found smaller than n_clusters (5). Possibly due to duplicate points in X.\n",
      "  km2.fit(X2)\n",
      "<ipython-input-3-f2f924259928>:37: ConvergenceWarning: Number of distinct clusters (4) found smaller than n_clusters (5). Possibly due to duplicate points in X.\n",
      "  km2.fit(X2)\n",
      "<ipython-input-3-f2f924259928>:37: ConvergenceWarning: Number of distinct clusters (2) found smaller than n_clusters (5). Possibly due to duplicate points in X.\n",
      "  km2.fit(X2)\n",
      "<ipython-input-3-f2f924259928>:37: ConvergenceWarning: Number of distinct clusters (4) found smaller than n_clusters (5). Possibly due to duplicate points in X.\n",
      "  km2.fit(X2)\n",
      "<ipython-input-3-f2f924259928>:37: ConvergenceWarning: Number of distinct clusters (2) found smaller than n_clusters (5). Possibly due to duplicate points in X.\n",
      "  km2.fit(X2)\n",
      "<ipython-input-3-f2f924259928>:37: ConvergenceWarning: Number of distinct clusters (3) found smaller than n_clusters (5). Possibly due to duplicate points in X.\n",
      "  km2.fit(X2)\n",
      "<ipython-input-3-f2f924259928>:37: ConvergenceWarning: Number of distinct clusters (3) found smaller than n_clusters (5). Possibly due to duplicate points in X.\n",
      "  km2.fit(X2)\n",
      "<ipython-input-3-f2f924259928>:37: ConvergenceWarning: Number of distinct clusters (4) found smaller than n_clusters (5). Possibly due to duplicate points in X.\n",
      "  km2.fit(X2)\n"
     ]
    },
    {
     "name": "stdout",
     "output_type": "stream",
     "text": [
      "10200\n",
      "510.45664405822754\n"
     ]
    },
    {
     "name": "stderr",
     "output_type": "stream",
     "text": [
      "<ipython-input-3-f2f924259928>:37: ConvergenceWarning: Number of distinct clusters (1) found smaller than n_clusters (5). Possibly due to duplicate points in X.\n",
      "  km2.fit(X2)\n",
      "<ipython-input-3-f2f924259928>:37: ConvergenceWarning: Number of distinct clusters (2) found smaller than n_clusters (5). Possibly due to duplicate points in X.\n",
      "  km2.fit(X2)\n",
      "<ipython-input-3-f2f924259928>:37: ConvergenceWarning: Number of distinct clusters (4) found smaller than n_clusters (5). Possibly due to duplicate points in X.\n",
      "  km2.fit(X2)\n",
      "<ipython-input-3-f2f924259928>:37: ConvergenceWarning: Number of distinct clusters (3) found smaller than n_clusters (5). Possibly due to duplicate points in X.\n",
      "  km2.fit(X2)\n",
      "<ipython-input-3-f2f924259928>:37: ConvergenceWarning: Number of distinct clusters (4) found smaller than n_clusters (5). Possibly due to duplicate points in X.\n",
      "  km2.fit(X2)\n",
      "<ipython-input-3-f2f924259928>:37: ConvergenceWarning: Number of distinct clusters (2) found smaller than n_clusters (5). Possibly due to duplicate points in X.\n",
      "  km2.fit(X2)\n",
      "<ipython-input-3-f2f924259928>:37: ConvergenceWarning: Number of distinct clusters (4) found smaller than n_clusters (5). Possibly due to duplicate points in X.\n",
      "  km2.fit(X2)\n",
      "<ipython-input-3-f2f924259928>:37: ConvergenceWarning: Number of distinct clusters (3) found smaller than n_clusters (5). Possibly due to duplicate points in X.\n",
      "  km2.fit(X2)\n"
     ]
    },
    {
     "name": "stdout",
     "output_type": "stream",
     "text": [
      "10300\n",
      "514.9338138103485\n"
     ]
    },
    {
     "name": "stderr",
     "output_type": "stream",
     "text": [
      "<ipython-input-3-f2f924259928>:37: ConvergenceWarning: Number of distinct clusters (4) found smaller than n_clusters (5). Possibly due to duplicate points in X.\n",
      "  km2.fit(X2)\n",
      "<ipython-input-3-f2f924259928>:37: ConvergenceWarning: Number of distinct clusters (3) found smaller than n_clusters (5). Possibly due to duplicate points in X.\n",
      "  km2.fit(X2)\n",
      "<ipython-input-3-f2f924259928>:37: ConvergenceWarning: Number of distinct clusters (4) found smaller than n_clusters (5). Possibly due to duplicate points in X.\n",
      "  km2.fit(X2)\n",
      "<ipython-input-3-f2f924259928>:37: ConvergenceWarning: Number of distinct clusters (2) found smaller than n_clusters (5). Possibly due to duplicate points in X.\n",
      "  km2.fit(X2)\n",
      "<ipython-input-3-f2f924259928>:37: ConvergenceWarning: Number of distinct clusters (2) found smaller than n_clusters (5). Possibly due to duplicate points in X.\n",
      "  km2.fit(X2)\n",
      "<ipython-input-3-f2f924259928>:37: ConvergenceWarning: Number of distinct clusters (1) found smaller than n_clusters (5). Possibly due to duplicate points in X.\n",
      "  km2.fit(X2)\n",
      "<ipython-input-3-f2f924259928>:37: ConvergenceWarning: Number of distinct clusters (2) found smaller than n_clusters (5). Possibly due to duplicate points in X.\n",
      "  km2.fit(X2)\n",
      "<ipython-input-3-f2f924259928>:37: ConvergenceWarning: Number of distinct clusters (2) found smaller than n_clusters (5). Possibly due to duplicate points in X.\n",
      "  km2.fit(X2)\n",
      "<ipython-input-3-f2f924259928>:37: ConvergenceWarning: Number of distinct clusters (4) found smaller than n_clusters (5). Possibly due to duplicate points in X.\n",
      "  km2.fit(X2)\n",
      "<ipython-input-3-f2f924259928>:37: ConvergenceWarning: Number of distinct clusters (3) found smaller than n_clusters (5). Possibly due to duplicate points in X.\n",
      "  km2.fit(X2)\n"
     ]
    },
    {
     "name": "stdout",
     "output_type": "stream",
     "text": [
      "10400\n",
      "519.4467747211456\n"
     ]
    },
    {
     "name": "stderr",
     "output_type": "stream",
     "text": [
      "<ipython-input-3-f2f924259928>:37: ConvergenceWarning: Number of distinct clusters (3) found smaller than n_clusters (5). Possibly due to duplicate points in X.\n",
      "  km2.fit(X2)\n",
      "<ipython-input-3-f2f924259928>:37: ConvergenceWarning: Number of distinct clusters (2) found smaller than n_clusters (5). Possibly due to duplicate points in X.\n",
      "  km2.fit(X2)\n",
      "<ipython-input-3-f2f924259928>:37: ConvergenceWarning: Number of distinct clusters (4) found smaller than n_clusters (5). Possibly due to duplicate points in X.\n",
      "  km2.fit(X2)\n",
      "<ipython-input-3-f2f924259928>:37: ConvergenceWarning: Number of distinct clusters (4) found smaller than n_clusters (5). Possibly due to duplicate points in X.\n",
      "  km2.fit(X2)\n",
      "<ipython-input-3-f2f924259928>:37: ConvergenceWarning: Number of distinct clusters (3) found smaller than n_clusters (5). Possibly due to duplicate points in X.\n",
      "  km2.fit(X2)\n",
      "<ipython-input-3-f2f924259928>:37: ConvergenceWarning: Number of distinct clusters (4) found smaller than n_clusters (5). Possibly due to duplicate points in X.\n",
      "  km2.fit(X2)\n",
      "<ipython-input-3-f2f924259928>:37: ConvergenceWarning: Number of distinct clusters (3) found smaller than n_clusters (5). Possibly due to duplicate points in X.\n",
      "  km2.fit(X2)\n",
      "<ipython-input-3-f2f924259928>:37: ConvergenceWarning: Number of distinct clusters (2) found smaller than n_clusters (5). Possibly due to duplicate points in X.\n",
      "  km2.fit(X2)\n",
      "<ipython-input-3-f2f924259928>:37: ConvergenceWarning: Number of distinct clusters (2) found smaller than n_clusters (5). Possibly due to duplicate points in X.\n",
      "  km2.fit(X2)\n",
      "<ipython-input-3-f2f924259928>:37: ConvergenceWarning: Number of distinct clusters (2) found smaller than n_clusters (5). Possibly due to duplicate points in X.\n",
      "  km2.fit(X2)\n",
      "<ipython-input-3-f2f924259928>:37: ConvergenceWarning: Number of distinct clusters (2) found smaller than n_clusters (5). Possibly due to duplicate points in X.\n",
      "  km2.fit(X2)\n"
     ]
    },
    {
     "name": "stdout",
     "output_type": "stream",
     "text": [
      "10500\n",
      "524.0288164615631\n"
     ]
    },
    {
     "name": "stderr",
     "output_type": "stream",
     "text": [
      "<ipython-input-3-f2f924259928>:37: ConvergenceWarning: Number of distinct clusters (3) found smaller than n_clusters (5). Possibly due to duplicate points in X.\n",
      "  km2.fit(X2)\n",
      "<ipython-input-3-f2f924259928>:37: ConvergenceWarning: Number of distinct clusters (3) found smaller than n_clusters (5). Possibly due to duplicate points in X.\n",
      "  km2.fit(X2)\n",
      "<ipython-input-3-f2f924259928>:37: ConvergenceWarning: Number of distinct clusters (3) found smaller than n_clusters (5). Possibly due to duplicate points in X.\n",
      "  km2.fit(X2)\n",
      "<ipython-input-3-f2f924259928>:37: ConvergenceWarning: Number of distinct clusters (4) found smaller than n_clusters (5). Possibly due to duplicate points in X.\n",
      "  km2.fit(X2)\n",
      "<ipython-input-3-f2f924259928>:37: ConvergenceWarning: Number of distinct clusters (2) found smaller than n_clusters (5). Possibly due to duplicate points in X.\n",
      "  km2.fit(X2)\n"
     ]
    },
    {
     "name": "stdout",
     "output_type": "stream",
     "text": [
      "10600\n",
      "528.6768274307251\n"
     ]
    },
    {
     "name": "stderr",
     "output_type": "stream",
     "text": [
      "<ipython-input-3-f2f924259928>:37: ConvergenceWarning: Number of distinct clusters (3) found smaller than n_clusters (5). Possibly due to duplicate points in X.\n",
      "  km2.fit(X2)\n",
      "<ipython-input-3-f2f924259928>:37: ConvergenceWarning: Number of distinct clusters (4) found smaller than n_clusters (5). Possibly due to duplicate points in X.\n",
      "  km2.fit(X2)\n",
      "<ipython-input-3-f2f924259928>:37: ConvergenceWarning: Number of distinct clusters (4) found smaller than n_clusters (5). Possibly due to duplicate points in X.\n",
      "  km2.fit(X2)\n",
      "<ipython-input-3-f2f924259928>:37: ConvergenceWarning: Number of distinct clusters (2) found smaller than n_clusters (5). Possibly due to duplicate points in X.\n",
      "  km2.fit(X2)\n",
      "<ipython-input-3-f2f924259928>:37: ConvergenceWarning: Number of distinct clusters (1) found smaller than n_clusters (5). Possibly due to duplicate points in X.\n",
      "  km2.fit(X2)\n",
      "<ipython-input-3-f2f924259928>:37: ConvergenceWarning: Number of distinct clusters (2) found smaller than n_clusters (5). Possibly due to duplicate points in X.\n",
      "  km2.fit(X2)\n",
      "<ipython-input-3-f2f924259928>:37: ConvergenceWarning: Number of distinct clusters (1) found smaller than n_clusters (5). Possibly due to duplicate points in X.\n",
      "  km2.fit(X2)\n",
      "<ipython-input-3-f2f924259928>:37: ConvergenceWarning: Number of distinct clusters (4) found smaller than n_clusters (5). Possibly due to duplicate points in X.\n",
      "  km2.fit(X2)\n",
      "<ipython-input-3-f2f924259928>:37: ConvergenceWarning: Number of distinct clusters (3) found smaller than n_clusters (5). Possibly due to duplicate points in X.\n",
      "  km2.fit(X2)\n"
     ]
    },
    {
     "name": "stdout",
     "output_type": "stream",
     "text": [
      "10700\n",
      "533.2876842021942\n"
     ]
    },
    {
     "name": "stderr",
     "output_type": "stream",
     "text": [
      "<ipython-input-3-f2f924259928>:37: ConvergenceWarning: Number of distinct clusters (3) found smaller than n_clusters (5). Possibly due to duplicate points in X.\n",
      "  km2.fit(X2)\n",
      "<ipython-input-3-f2f924259928>:37: ConvergenceWarning: Number of distinct clusters (3) found smaller than n_clusters (5). Possibly due to duplicate points in X.\n",
      "  km2.fit(X2)\n",
      "<ipython-input-3-f2f924259928>:37: ConvergenceWarning: Number of distinct clusters (4) found smaller than n_clusters (5). Possibly due to duplicate points in X.\n",
      "  km2.fit(X2)\n",
      "<ipython-input-3-f2f924259928>:37: ConvergenceWarning: Number of distinct clusters (3) found smaller than n_clusters (5). Possibly due to duplicate points in X.\n",
      "  km2.fit(X2)\n",
      "<ipython-input-3-f2f924259928>:37: ConvergenceWarning: Number of distinct clusters (2) found smaller than n_clusters (5). Possibly due to duplicate points in X.\n",
      "  km2.fit(X2)\n",
      "<ipython-input-3-f2f924259928>:37: ConvergenceWarning: Number of distinct clusters (1) found smaller than n_clusters (5). Possibly due to duplicate points in X.\n",
      "  km2.fit(X2)\n",
      "<ipython-input-3-f2f924259928>:37: ConvergenceWarning: Number of distinct clusters (4) found smaller than n_clusters (5). Possibly due to duplicate points in X.\n",
      "  km2.fit(X2)\n",
      "<ipython-input-3-f2f924259928>:37: ConvergenceWarning: Number of distinct clusters (4) found smaller than n_clusters (5). Possibly due to duplicate points in X.\n",
      "  km2.fit(X2)\n",
      "<ipython-input-3-f2f924259928>:37: ConvergenceWarning: Number of distinct clusters (3) found smaller than n_clusters (5). Possibly due to duplicate points in X.\n",
      "  km2.fit(X2)\n"
     ]
    },
    {
     "name": "stdout",
     "output_type": "stream",
     "text": [
      "10800\n",
      "538.1708986759186\n"
     ]
    },
    {
     "name": "stderr",
     "output_type": "stream",
     "text": [
      "<ipython-input-3-f2f924259928>:37: ConvergenceWarning: Number of distinct clusters (3) found smaller than n_clusters (5). Possibly due to duplicate points in X.\n",
      "  km2.fit(X2)\n",
      "<ipython-input-3-f2f924259928>:37: ConvergenceWarning: Number of distinct clusters (4) found smaller than n_clusters (5). Possibly due to duplicate points in X.\n",
      "  km2.fit(X2)\n",
      "<ipython-input-3-f2f924259928>:37: ConvergenceWarning: Number of distinct clusters (3) found smaller than n_clusters (5). Possibly due to duplicate points in X.\n",
      "  km2.fit(X2)\n",
      "<ipython-input-3-f2f924259928>:37: ConvergenceWarning: Number of distinct clusters (1) found smaller than n_clusters (5). Possibly due to duplicate points in X.\n",
      "  km2.fit(X2)\n",
      "<ipython-input-3-f2f924259928>:37: ConvergenceWarning: Number of distinct clusters (3) found smaller than n_clusters (5). Possibly due to duplicate points in X.\n",
      "  km2.fit(X2)\n",
      "<ipython-input-3-f2f924259928>:37: ConvergenceWarning: Number of distinct clusters (4) found smaller than n_clusters (5). Possibly due to duplicate points in X.\n",
      "  km2.fit(X2)\n"
     ]
    },
    {
     "name": "stdout",
     "output_type": "stream",
     "text": [
      "10900\n",
      "542.6919622421265\n"
     ]
    },
    {
     "name": "stderr",
     "output_type": "stream",
     "text": [
      "<ipython-input-3-f2f924259928>:37: ConvergenceWarning: Number of distinct clusters (4) found smaller than n_clusters (5). Possibly due to duplicate points in X.\n",
      "  km2.fit(X2)\n",
      "<ipython-input-3-f2f924259928>:37: ConvergenceWarning: Number of distinct clusters (2) found smaller than n_clusters (5). Possibly due to duplicate points in X.\n",
      "  km2.fit(X2)\n",
      "<ipython-input-3-f2f924259928>:37: ConvergenceWarning: Number of distinct clusters (1) found smaller than n_clusters (5). Possibly due to duplicate points in X.\n",
      "  km2.fit(X2)\n",
      "<ipython-input-3-f2f924259928>:37: ConvergenceWarning: Number of distinct clusters (4) found smaller than n_clusters (5). Possibly due to duplicate points in X.\n",
      "  km2.fit(X2)\n",
      "<ipython-input-3-f2f924259928>:37: ConvergenceWarning: Number of distinct clusters (1) found smaller than n_clusters (5). Possibly due to duplicate points in X.\n",
      "  km2.fit(X2)\n",
      "<ipython-input-3-f2f924259928>:37: ConvergenceWarning: Number of distinct clusters (1) found smaller than n_clusters (5). Possibly due to duplicate points in X.\n",
      "  km2.fit(X2)\n",
      "<ipython-input-3-f2f924259928>:37: ConvergenceWarning: Number of distinct clusters (2) found smaller than n_clusters (5). Possibly due to duplicate points in X.\n",
      "  km2.fit(X2)\n",
      "<ipython-input-3-f2f924259928>:37: ConvergenceWarning: Number of distinct clusters (4) found smaller than n_clusters (5). Possibly due to duplicate points in X.\n",
      "  km2.fit(X2)\n"
     ]
    },
    {
     "name": "stdout",
     "output_type": "stream",
     "text": [
      "11000\n",
      "547.2494194507599\n"
     ]
    },
    {
     "name": "stderr",
     "output_type": "stream",
     "text": [
      "<ipython-input-3-f2f924259928>:37: ConvergenceWarning: Number of distinct clusters (2) found smaller than n_clusters (5). Possibly due to duplicate points in X.\n",
      "  km2.fit(X2)\n",
      "<ipython-input-3-f2f924259928>:37: ConvergenceWarning: Number of distinct clusters (2) found smaller than n_clusters (5). Possibly due to duplicate points in X.\n",
      "  km2.fit(X2)\n",
      "<ipython-input-3-f2f924259928>:37: ConvergenceWarning: Number of distinct clusters (4) found smaller than n_clusters (5). Possibly due to duplicate points in X.\n",
      "  km2.fit(X2)\n",
      "<ipython-input-3-f2f924259928>:37: ConvergenceWarning: Number of distinct clusters (1) found smaller than n_clusters (5). Possibly due to duplicate points in X.\n",
      "  km2.fit(X2)\n",
      "<ipython-input-3-f2f924259928>:37: ConvergenceWarning: Number of distinct clusters (4) found smaller than n_clusters (5). Possibly due to duplicate points in X.\n",
      "  km2.fit(X2)\n",
      "<ipython-input-3-f2f924259928>:37: ConvergenceWarning: Number of distinct clusters (2) found smaller than n_clusters (5). Possibly due to duplicate points in X.\n",
      "  km2.fit(X2)\n",
      "<ipython-input-3-f2f924259928>:37: ConvergenceWarning: Number of distinct clusters (4) found smaller than n_clusters (5). Possibly due to duplicate points in X.\n",
      "  km2.fit(X2)\n",
      "<ipython-input-3-f2f924259928>:37: ConvergenceWarning: Number of distinct clusters (4) found smaller than n_clusters (5). Possibly due to duplicate points in X.\n",
      "  km2.fit(X2)\n",
      "<ipython-input-3-f2f924259928>:37: ConvergenceWarning: Number of distinct clusters (4) found smaller than n_clusters (5). Possibly due to duplicate points in X.\n",
      "  km2.fit(X2)\n"
     ]
    },
    {
     "name": "stdout",
     "output_type": "stream",
     "text": [
      "11100\n",
      "551.718165397644\n"
     ]
    },
    {
     "name": "stderr",
     "output_type": "stream",
     "text": [
      "<ipython-input-3-f2f924259928>:37: ConvergenceWarning: Number of distinct clusters (4) found smaller than n_clusters (5). Possibly due to duplicate points in X.\n",
      "  km2.fit(X2)\n",
      "<ipython-input-3-f2f924259928>:37: ConvergenceWarning: Number of distinct clusters (2) found smaller than n_clusters (5). Possibly due to duplicate points in X.\n",
      "  km2.fit(X2)\n",
      "<ipython-input-3-f2f924259928>:37: ConvergenceWarning: Number of distinct clusters (2) found smaller than n_clusters (5). Possibly due to duplicate points in X.\n",
      "  km2.fit(X2)\n",
      "<ipython-input-3-f2f924259928>:37: ConvergenceWarning: Number of distinct clusters (4) found smaller than n_clusters (5). Possibly due to duplicate points in X.\n",
      "  km2.fit(X2)\n",
      "<ipython-input-3-f2f924259928>:37: ConvergenceWarning: Number of distinct clusters (3) found smaller than n_clusters (5). Possibly due to duplicate points in X.\n",
      "  km2.fit(X2)\n",
      "<ipython-input-3-f2f924259928>:37: ConvergenceWarning: Number of distinct clusters (4) found smaller than n_clusters (5). Possibly due to duplicate points in X.\n",
      "  km2.fit(X2)\n",
      "<ipython-input-3-f2f924259928>:37: ConvergenceWarning: Number of distinct clusters (4) found smaller than n_clusters (5). Possibly due to duplicate points in X.\n",
      "  km2.fit(X2)\n",
      "<ipython-input-3-f2f924259928>:37: ConvergenceWarning: Number of distinct clusters (3) found smaller than n_clusters (5). Possibly due to duplicate points in X.\n",
      "  km2.fit(X2)\n",
      "<ipython-input-3-f2f924259928>:37: ConvergenceWarning: Number of distinct clusters (1) found smaller than n_clusters (5). Possibly due to duplicate points in X.\n",
      "  km2.fit(X2)\n",
      "<ipython-input-3-f2f924259928>:37: ConvergenceWarning: Number of distinct clusters (3) found smaller than n_clusters (5). Possibly due to duplicate points in X.\n",
      "  km2.fit(X2)\n",
      "<ipython-input-3-f2f924259928>:37: ConvergenceWarning: Number of distinct clusters (4) found smaller than n_clusters (5). Possibly due to duplicate points in X.\n",
      "  km2.fit(X2)\n"
     ]
    },
    {
     "name": "stdout",
     "output_type": "stream",
     "text": [
      "11200\n",
      "556.1967716217041\n"
     ]
    },
    {
     "name": "stderr",
     "output_type": "stream",
     "text": [
      "<ipython-input-3-f2f924259928>:37: ConvergenceWarning: Number of distinct clusters (4) found smaller than n_clusters (5). Possibly due to duplicate points in X.\n",
      "  km2.fit(X2)\n",
      "<ipython-input-3-f2f924259928>:37: ConvergenceWarning: Number of distinct clusters (4) found smaller than n_clusters (5). Possibly due to duplicate points in X.\n",
      "  km2.fit(X2)\n",
      "<ipython-input-3-f2f924259928>:37: ConvergenceWarning: Number of distinct clusters (2) found smaller than n_clusters (5). Possibly due to duplicate points in X.\n",
      "  km2.fit(X2)\n",
      "<ipython-input-3-f2f924259928>:37: ConvergenceWarning: Number of distinct clusters (2) found smaller than n_clusters (5). Possibly due to duplicate points in X.\n",
      "  km2.fit(X2)\n",
      "<ipython-input-3-f2f924259928>:37: ConvergenceWarning: Number of distinct clusters (4) found smaller than n_clusters (5). Possibly due to duplicate points in X.\n",
      "  km2.fit(X2)\n",
      "<ipython-input-3-f2f924259928>:37: ConvergenceWarning: Number of distinct clusters (2) found smaller than n_clusters (5). Possibly due to duplicate points in X.\n",
      "  km2.fit(X2)\n",
      "<ipython-input-3-f2f924259928>:37: ConvergenceWarning: Number of distinct clusters (1) found smaller than n_clusters (5). Possibly due to duplicate points in X.\n",
      "  km2.fit(X2)\n",
      "<ipython-input-3-f2f924259928>:37: ConvergenceWarning: Number of distinct clusters (1) found smaller than n_clusters (5). Possibly due to duplicate points in X.\n",
      "  km2.fit(X2)\n",
      "<ipython-input-3-f2f924259928>:37: ConvergenceWarning: Number of distinct clusters (2) found smaller than n_clusters (5). Possibly due to duplicate points in X.\n",
      "  km2.fit(X2)\n",
      "<ipython-input-3-f2f924259928>:37: ConvergenceWarning: Number of distinct clusters (4) found smaller than n_clusters (5). Possibly due to duplicate points in X.\n",
      "  km2.fit(X2)\n",
      "<ipython-input-3-f2f924259928>:37: ConvergenceWarning: Number of distinct clusters (4) found smaller than n_clusters (5). Possibly due to duplicate points in X.\n",
      "  km2.fit(X2)\n",
      "<ipython-input-3-f2f924259928>:37: ConvergenceWarning: Number of distinct clusters (1) found smaller than n_clusters (5). Possibly due to duplicate points in X.\n",
      "  km2.fit(X2)\n",
      "<ipython-input-3-f2f924259928>:37: ConvergenceWarning: Number of distinct clusters (1) found smaller than n_clusters (5). Possibly due to duplicate points in X.\n",
      "  km2.fit(X2)\n",
      "<ipython-input-3-f2f924259928>:37: ConvergenceWarning: Number of distinct clusters (3) found smaller than n_clusters (5). Possibly due to duplicate points in X.\n",
      "  km2.fit(X2)\n",
      "<ipython-input-3-f2f924259928>:37: ConvergenceWarning: Number of distinct clusters (4) found smaller than n_clusters (5). Possibly due to duplicate points in X.\n",
      "  km2.fit(X2)\n"
     ]
    },
    {
     "name": "stdout",
     "output_type": "stream",
     "text": [
      "11300\n",
      "560.6714522838593\n"
     ]
    },
    {
     "name": "stderr",
     "output_type": "stream",
     "text": [
      "<ipython-input-3-f2f924259928>:37: ConvergenceWarning: Number of distinct clusters (1) found smaller than n_clusters (5). Possibly due to duplicate points in X.\n",
      "  km2.fit(X2)\n",
      "<ipython-input-3-f2f924259928>:37: ConvergenceWarning: Number of distinct clusters (4) found smaller than n_clusters (5). Possibly due to duplicate points in X.\n",
      "  km2.fit(X2)\n",
      "<ipython-input-3-f2f924259928>:37: ConvergenceWarning: Number of distinct clusters (4) found smaller than n_clusters (5). Possibly due to duplicate points in X.\n",
      "  km2.fit(X2)\n",
      "<ipython-input-3-f2f924259928>:37: ConvergenceWarning: Number of distinct clusters (4) found smaller than n_clusters (5). Possibly due to duplicate points in X.\n",
      "  km2.fit(X2)\n",
      "<ipython-input-3-f2f924259928>:37: ConvergenceWarning: Number of distinct clusters (4) found smaller than n_clusters (5). Possibly due to duplicate points in X.\n",
      "  km2.fit(X2)\n",
      "<ipython-input-3-f2f924259928>:37: ConvergenceWarning: Number of distinct clusters (2) found smaller than n_clusters (5). Possibly due to duplicate points in X.\n",
      "  km2.fit(X2)\n",
      "<ipython-input-3-f2f924259928>:37: ConvergenceWarning: Number of distinct clusters (3) found smaller than n_clusters (5). Possibly due to duplicate points in X.\n",
      "  km2.fit(X2)\n",
      "<ipython-input-3-f2f924259928>:37: ConvergenceWarning: Number of distinct clusters (4) found smaller than n_clusters (5). Possibly due to duplicate points in X.\n",
      "  km2.fit(X2)\n",
      "<ipython-input-3-f2f924259928>:37: ConvergenceWarning: Number of distinct clusters (4) found smaller than n_clusters (5). Possibly due to duplicate points in X.\n",
      "  km2.fit(X2)\n",
      "<ipython-input-3-f2f924259928>:37: ConvergenceWarning: Number of distinct clusters (4) found smaller than n_clusters (5). Possibly due to duplicate points in X.\n",
      "  km2.fit(X2)\n",
      "<ipython-input-3-f2f924259928>:37: ConvergenceWarning: Number of distinct clusters (3) found smaller than n_clusters (5). Possibly due to duplicate points in X.\n",
      "  km2.fit(X2)\n",
      "<ipython-input-3-f2f924259928>:37: ConvergenceWarning: Number of distinct clusters (3) found smaller than n_clusters (5). Possibly due to duplicate points in X.\n",
      "  km2.fit(X2)\n",
      "<ipython-input-3-f2f924259928>:37: ConvergenceWarning: Number of distinct clusters (4) found smaller than n_clusters (5). Possibly due to duplicate points in X.\n",
      "  km2.fit(X2)\n",
      "<ipython-input-3-f2f924259928>:37: ConvergenceWarning: Number of distinct clusters (4) found smaller than n_clusters (5). Possibly due to duplicate points in X.\n",
      "  km2.fit(X2)\n",
      "<ipython-input-3-f2f924259928>:37: ConvergenceWarning: Number of distinct clusters (3) found smaller than n_clusters (5). Possibly due to duplicate points in X.\n",
      "  km2.fit(X2)\n",
      "<ipython-input-3-f2f924259928>:37: ConvergenceWarning: Number of distinct clusters (2) found smaller than n_clusters (5). Possibly due to duplicate points in X.\n",
      "  km2.fit(X2)\n",
      "<ipython-input-3-f2f924259928>:37: ConvergenceWarning: Number of distinct clusters (1) found smaller than n_clusters (5). Possibly due to duplicate points in X.\n",
      "  km2.fit(X2)\n",
      "<ipython-input-3-f2f924259928>:37: ConvergenceWarning: Number of distinct clusters (3) found smaller than n_clusters (5). Possibly due to duplicate points in X.\n",
      "  km2.fit(X2)\n",
      "<ipython-input-3-f2f924259928>:37: ConvergenceWarning: Number of distinct clusters (2) found smaller than n_clusters (5). Possibly due to duplicate points in X.\n",
      "  km2.fit(X2)\n"
     ]
    },
    {
     "name": "stdout",
     "output_type": "stream",
     "text": [
      "11400\n",
      "565.0699808597565\n"
     ]
    },
    {
     "name": "stderr",
     "output_type": "stream",
     "text": [
      "<ipython-input-3-f2f924259928>:37: ConvergenceWarning: Number of distinct clusters (3) found smaller than n_clusters (5). Possibly due to duplicate points in X.\n",
      "  km2.fit(X2)\n",
      "<ipython-input-3-f2f924259928>:37: ConvergenceWarning: Number of distinct clusters (2) found smaller than n_clusters (5). Possibly due to duplicate points in X.\n",
      "  km2.fit(X2)\n",
      "<ipython-input-3-f2f924259928>:37: ConvergenceWarning: Number of distinct clusters (4) found smaller than n_clusters (5). Possibly due to duplicate points in X.\n",
      "  km2.fit(X2)\n",
      "<ipython-input-3-f2f924259928>:37: ConvergenceWarning: Number of distinct clusters (2) found smaller than n_clusters (5). Possibly due to duplicate points in X.\n",
      "  km2.fit(X2)\n",
      "<ipython-input-3-f2f924259928>:37: ConvergenceWarning: Number of distinct clusters (3) found smaller than n_clusters (5). Possibly due to duplicate points in X.\n",
      "  km2.fit(X2)\n",
      "<ipython-input-3-f2f924259928>:37: ConvergenceWarning: Number of distinct clusters (3) found smaller than n_clusters (5). Possibly due to duplicate points in X.\n",
      "  km2.fit(X2)\n",
      "<ipython-input-3-f2f924259928>:37: ConvergenceWarning: Number of distinct clusters (1) found smaller than n_clusters (5). Possibly due to duplicate points in X.\n",
      "  km2.fit(X2)\n",
      "<ipython-input-3-f2f924259928>:37: ConvergenceWarning: Number of distinct clusters (3) found smaller than n_clusters (5). Possibly due to duplicate points in X.\n",
      "  km2.fit(X2)\n",
      "<ipython-input-3-f2f924259928>:37: ConvergenceWarning: Number of distinct clusters (2) found smaller than n_clusters (5). Possibly due to duplicate points in X.\n",
      "  km2.fit(X2)\n",
      "<ipython-input-3-f2f924259928>:37: ConvergenceWarning: Number of distinct clusters (2) found smaller than n_clusters (5). Possibly due to duplicate points in X.\n",
      "  km2.fit(X2)\n",
      "<ipython-input-3-f2f924259928>:37: ConvergenceWarning: Number of distinct clusters (4) found smaller than n_clusters (5). Possibly due to duplicate points in X.\n",
      "  km2.fit(X2)\n",
      "<ipython-input-3-f2f924259928>:37: ConvergenceWarning: Number of distinct clusters (3) found smaller than n_clusters (5). Possibly due to duplicate points in X.\n",
      "  km2.fit(X2)\n",
      "<ipython-input-3-f2f924259928>:37: ConvergenceWarning: Number of distinct clusters (3) found smaller than n_clusters (5). Possibly due to duplicate points in X.\n",
      "  km2.fit(X2)\n",
      "<ipython-input-3-f2f924259928>:37: ConvergenceWarning: Number of distinct clusters (4) found smaller than n_clusters (5). Possibly due to duplicate points in X.\n",
      "  km2.fit(X2)\n",
      "<ipython-input-3-f2f924259928>:37: ConvergenceWarning: Number of distinct clusters (3) found smaller than n_clusters (5). Possibly due to duplicate points in X.\n",
      "  km2.fit(X2)\n",
      "<ipython-input-3-f2f924259928>:37: ConvergenceWarning: Number of distinct clusters (2) found smaller than n_clusters (5). Possibly due to duplicate points in X.\n",
      "  km2.fit(X2)\n",
      "<ipython-input-3-f2f924259928>:37: ConvergenceWarning: Number of distinct clusters (2) found smaller than n_clusters (5). Possibly due to duplicate points in X.\n",
      "  km2.fit(X2)\n"
     ]
    }
   ],
   "source": [
    "recs = {}\n",
    "now = time.time()\n",
    "zz = 0\n",
    "cc = 0\n",
    "\n",
    "for item in outL:\n",
    "    fname = 'OutlierDFs/'+str(item[0])+'_'+str(item[1])+'.pkd'\n",
    "    out1 = dill.load(open(fname,'rb'))\n",
    "    d = []\n",
    "    p = []\n",
    "    v = []\n",
    "    for ii,row in out1.iterrows():\n",
    "        date1 = pd.Timestamp(row['Start_Time']).time()\n",
    "        d.append(date1.hour+date1.minute/60.0 + date1.second/60.0/60.0)\n",
    "        p.append(row['Precipitation(in)'])\n",
    "        v.append(row['Visibility(mi)'])\n",
    "        \n",
    "    for jj,pval in enumerate(p):\n",
    "        if math.isnan(pval):\n",
    "            p[jj] = 0.0\n",
    "        if math.isnan(v[jj]):\n",
    "            v[jj] = 0.0\n",
    "        \n",
    "    X1 = []\n",
    "    X2 = []\n",
    "\n",
    "    for kk in range(len(p)):\n",
    "        X1.append([p[kk],d[kk]])\n",
    "        X2.append([p[kk],v[kk]])\n",
    "    X1 = np.array(X1)\n",
    "    X2 = np.array(X2)\n",
    "    \n",
    "    km1 = KMeans(n_clusters=5,max_iter=20)\n",
    "    km1.fit(X1)\n",
    "    \n",
    "    km2 = KMeans(n_clusters=5,max_iter=20)\n",
    "    km2.fit(X2)\n",
    "    \n",
    "    centers1 = km1.cluster_centers_\n",
    "    centers2 = km2.cluster_centers_\n",
    "    \n",
    "    rec = []\n",
    "    \n",
    "    if sum(centers1.T[0] > 0.03) >= 3:\n",
    "        rec.append('Drainage')\n",
    "    if (sum(centers1.T[1] <= 6) + sum(centers1.T[1] >= 20)) >= 3:\n",
    "        rec.append('Lighting')\n",
    "    if sum(centers2.T[0] > 0.03) >= 3 and 'Drainage' not in rec:\n",
    "        rec.append('Drainage')\n",
    "    if sum(centers2.T[1] < 4.5) >= 3:\n",
    "        rec.append('Visibility (weather)')\n",
    "    if not rec:\n",
    "        rec.append('Volume/Geometry')\n",
    "        \n",
    "    recs[item] = rec\n",
    "    if zz % 100 == 0:\n",
    "        print(zz)\n",
    "        print(time.time()-now)\n",
    "    zz += 1"
   ]
  },
  {
   "cell_type": "code",
   "execution_count": 4,
   "metadata": {},
   "outputs": [],
   "source": [
    "recs2 = {}\n",
    "\n",
    "for item in recs:\n",
    "    recs2[item] = ', '.join(recs[item])"
   ]
  },
  {
   "cell_type": "code",
   "execution_count": 5,
   "metadata": {},
   "outputs": [],
   "source": [
    "dill.dump(recs2,open('recommendations.pkd','wb'))"
   ]
  },
  {
   "cell_type": "code",
   "execution_count": 26,
   "metadata": {},
   "outputs": [],
   "source": [
    "b = 0\n",
    "for item in recs:\n",
    "    if recs[item] == ['Lighting/Visibility', 'Drainage', 'Visibility']:\n",
    "        b += 1"
   ]
  },
  {
   "cell_type": "code",
   "execution_count": 35,
   "metadata": {},
   "outputs": [],
   "source": [
    "from matplotlib import pylab as plt\n",
    "from ipywidgets import interact\n",
    "from sklearn.cluster import KMeans\n",
    "\n",
    "def plot_kmeans(X, n=3, start=None):\n",
    "    colors = ['#ba2121ff', '#42a5f5ff', '#efa016ff', '#000000ff', '#f231f2', '#6f7c91ff']\n",
    "\n",
    "    if start is not None:\n",
    "        n = start.shape[0]\n",
    "    else:\n",
    "        start = X[::((X.shape[0]//n)+1),:]\n",
    "    \n",
    "    def func(train_steps=0):\n",
    "        \n",
    "        if train_steps:\n",
    "            km = KMeans(n_clusters=n, max_iter=train_steps, n_init=1)#, init=start)\n",
    "            km.fit(X)\n",
    "            print(km.cluster_centers_)\n",
    "            centers = km.cluster_centers_.T\n",
    "            cols = [colors[label] for label in km.labels_]\n",
    "        else:\n",
    "            centers = start.T\n",
    "            cols = '0.5'\n",
    "        if centers.shape[0] > 2:\n",
    "            from mpl_toolkits.mplot3d import Axes3D            \n",
    "            fig = plt.figure()\n",
    "            ax = fig.add_subplot(111, projection='3d')\n",
    "            ax.scatter(*X.T, s=20, c=cols)\n",
    "            ax.scatter(*centers, c=colors[:len(centers.T)], s=150, marker='*',linewidth=1, edgecolors='k')\n",
    "        else:\n",
    "            plt.scatter(*X.T, s=20, c=cols)\n",
    "            plt.scatter(*centers, c=colors[:len(centers.T)], marker='*', s=150,linewidth=1, edgecolors='k')\n",
    "        #plt.axis('image')\n",
    "        plt.title('Precipitation vs Time')\n",
    "        plt.xlabel('Precipitation (in)')\n",
    "        plt.ylabel('Time (hrs)')\n",
    "    \n",
    "    return func"
   ]
  },
  {
   "cell_type": "code",
   "execution_count": 48,
   "metadata": {
    "scrolled": false
   },
   "outputs": [
    {
     "data": {
      "application/vnd.jupyter.widget-view+json": {
       "model_id": "b4bd212f26bd47eb82963b4ba13828a2",
       "version_major": 2,
       "version_minor": 0
      },
      "text/plain": [
       "interactive(children=(IntSlider(value=0, description='train_steps', max=20), Output()), _dom_classes=('widget-…"
      ]
     },
     "metadata": {},
     "output_type": "display_data"
    }
   ],
   "source": [
    "interact(plot_kmeans(np.array(X), n=5), train_steps=(0, 20, 1));"
   ]
  },
  {
   "cell_type": "code",
   "execution_count": 13,
   "metadata": {},
   "outputs": [],
   "source": [
    "centers = km.cluster_centers_.T"
   ]
  },
  {
   "cell_type": "code",
   "execution_count": 14,
   "metadata": {},
   "outputs": [
    {
     "data": {
      "text/plain": [
       "array([[-8.67361738e-19,  2.06122449e-02,  0.00000000e+00,\n",
       "         6.83333333e-03,  1.42857143e-03],\n",
       "       [ 1.54832086e+01,  1.06570522e+01,  1.19315278e+01,\n",
       "         1.07810046e+01,  1.11421693e+01],\n",
       "       [ 8.06142857e+01,  5.16428571e+01,  1.65916667e+01,\n",
       "         6.58983333e+01,  3.52071429e+01]])"
      ]
     },
     "execution_count": 14,
     "metadata": {},
     "output_type": "execute_result"
    }
   ],
   "source": [
    "centers"
   ]
  },
  {
   "cell_type": "code",
   "execution_count": 15,
   "metadata": {},
   "outputs": [
    {
     "data": {
      "text/plain": [
       "(3, 5)"
      ]
     },
     "execution_count": 15,
     "metadata": {},
     "output_type": "execute_result"
    }
   ],
   "source": [
    "centers.shape"
   ]
  },
  {
   "cell_type": "code",
   "execution_count": null,
   "metadata": {},
   "outputs": [],
   "source": []
  }
 ],
 "metadata": {
  "kernelspec": {
   "display_name": "Python 3",
   "language": "python",
   "name": "python3"
  },
  "language_info": {
   "codemirror_mode": {
    "name": "ipython",
    "version": 3
   },
   "file_extension": ".py",
   "mimetype": "text/x-python",
   "name": "python",
   "nbconvert_exporter": "python",
   "pygments_lexer": "ipython3",
   "version": "3.8.5"
  }
 },
 "nbformat": 4,
 "nbformat_minor": 4
}
