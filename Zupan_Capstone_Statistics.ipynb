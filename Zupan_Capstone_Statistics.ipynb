{
 "cells": [
  {
   "cell_type": "code",
   "execution_count": 1,
   "metadata": {},
   "outputs": [],
   "source": [
    "# This code was created by Robert Zupan on 10/07/2020\n",
    "# It was last updated:\n",
    "# - 10/7/2020 - creation\n",
    "# - 1/17/2020 - updated to python (instead of Matlab)\n",
    "# The purpose of this script is to analyze the traffic \n",
    "# accident data for the Data Incubator Capstone project."
   ]
  },
  {
   "cell_type": "code",
   "execution_count": 1,
   "metadata": {},
   "outputs": [],
   "source": [
    "#Imports and loading the csv\n",
    "import pandas as pd\n",
    "import numpy as np\n",
    "\n",
    "D = pd.read_csv('US_Accidents_June20.csv')"
   ]
  },
  {
   "cell_type": "code",
   "execution_count": 4,
   "metadata": {},
   "outputs": [],
   "source": [
    "#First step, I need to create a dictionary that has the latitude/longitude pairings and how often they occur.\n",
    "from collections import defaultdict\n",
    "\n",
    "unLatLon = defaultdict(int)\n",
    "\n",
    "for ii in range(rows):\n",
    "    unLatLon[(D['Start_Lat'][ii],D['Start_Lng'][ii])] += 1"
   ]
  },
  {
   "cell_type": "code",
   "execution_count": 5,
   "metadata": {},
   "outputs": [],
   "source": [
    "#Next I just want some basic statistics.\n",
    "import statistics as stats\n",
    "\n",
    "meanCrash = stats.mean(unLatLon.values())\n",
    "stdvCrash = stats.stdev(unLatLon.values())"
   ]
  },
  {
   "cell_type": "code",
   "execution_count": 6,
   "metadata": {},
   "outputs": [
    {
     "data": {
      "text/plain": [
       "[<matplotlib.lines.Line2D at 0x7f0181588f10>]"
      ]
     },
     "execution_count": 6,
     "metadata": {},
     "output_type": "execute_result"
    },
    {
     "data": {
      "image/png": "[encoded data removed]",
      "text/plain": [
       "<Figure size 432x288 with 1 Axes>"
      ]
     },
     "metadata": {
      "needs_background": "light"
     },
     "output_type": "display_data"
    }
   ],
   "source": [
    "#Now let's plot it and take a look.\n",
    "import matplotlib.pylab as plt\n",
    "\n",
    "xMean = [0,1400000]\n",
    "\n",
    "\n",
    "LatLonID = list(range(len(unLatLon)))\n",
    "plt.scatter(LatLonID,unLatLon.values())\n",
    "plt.plot(xMean,[meanCrash,meanCrash],color=\"black\", linestyle=':')\n",
    "plt.plot(xMean,[meanCrash+3*stdvCrash,meanCrash+3*stdvCrash],color = \"red\", linestyle=':')"
   ]
  },
  {
   "cell_type": "code",
   "execution_count": 7,
   "metadata": {},
   "outputs": [],
   "source": [
    "#Get a rough idea of the number of outliers based on mean and stdv.\n",
    "\n",
    "numOut = 0\n",
    "for val in unLatLon.values():\n",
    "    if val > meanCrash+3*stdvCrash:\n",
    "        numOut += 1"
   ]
  },
  {
   "cell_type": "code",
   "execution_count": 8,
   "metadata": {},
   "outputs": [
    {
     "data": {
      "text/plain": [
       "17198"
      ]
     },
     "execution_count": 8,
     "metadata": {},
     "output_type": "execute_result"
    }
   ],
   "source": [
    "numOut"
   ]
  },
  {
   "cell_type": "code",
   "execution_count": 10,
   "metadata": {},
   "outputs": [],
   "source": [
    "#Dump the data using Dill\n",
    "import dill\n",
    "dill.dump(unLatLon,open('unLatLon.pkd','wb'))"
   ]
  },
  {
   "cell_type": "code",
   "execution_count": null,
   "metadata": {},
   "outputs": [],
   "source": []
  }
 ],
 "metadata": {
  "kernelspec": {
   "display_name": "Capstone Development",
   "language": "python",
   "name": "capstone-dev"
  },
  "language_info": {
   "codemirror_mode": {
    "name": "ipython",
    "version": 3
   },
   "file_extension": ".py",
   "mimetype": "text/x-python",
   "name": "python",
   "nbconvert_exporter": "python",
   "pygments_lexer": "ipython3",
   "version": "3.8.6"
  }
 },
 "nbformat": 4,
 "nbformat_minor": 4
}
