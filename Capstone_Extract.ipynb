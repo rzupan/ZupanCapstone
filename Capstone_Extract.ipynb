{
 "cells": [
  {
   "cell_type": "code",
   "execution_count": 1,
   "metadata": {},
   "outputs": [],
   "source": [
    "import dill\n",
    "import pandas as pd\n",
    "from math import pi, cos, asin, sqrt\n",
    "import time"
   ]
  },
  {
   "cell_type": "code",
   "execution_count": 2,
   "metadata": {},
   "outputs": [],
   "source": [
    "#Load in the trimmed data (useless columns removed) and the outlier data.\n",
    "trimData = dill.load(open('trimData.pkd','rb'))\n",
    "outL = dill.load(open('outlierCrash.pkd','rb'))"
   ]
  },
  {
   "cell_type": "code",
   "execution_count": 3,
   "metadata": {},
   "outputs": [
    {
     "name": "stdout",
     "output_type": "stream",
     "text": [
      "1000\n",
      "45.59822368621826\n",
      "2000\n",
      "91.90313720703125\n",
      "3000\n",
      "137.8959355354309\n",
      "4000\n",
      "183.1982262134552\n",
      "5000\n",
      "228.35202169418335\n",
      "6000\n",
      "273.5550696849823\n",
      "7000\n",
      "319.22076058387756\n",
      "8000\n",
      "364.494530916214\n",
      "9000\n",
      "409.8900511264801\n",
      "10000\n",
      "454.4331064224243\n",
      "11000\n",
      "499.33558773994446\n",
      "528.8810863494873\n"
     ]
    }
   ],
   "source": [
    "#Need to loop through and determine which rows in the trim data correspond to the outlier locations.\n",
    "now = time.time()\n",
    "c = 0 #Just a variable to give me checkpoints\n",
    "cDiff = 0 #Since I calculated the outlier count a little differently, this variable will be used to tell me\n",
    "          #how different the counts are. \n",
    "\n",
    "for item in outL:\n",
    "    lat2 = item[0]\n",
    "    lon2 = item[1]\n",
    "    d1 = abs(trimData['Start_Lat'] - lat2) + abs(trimData['Start_Lng'] - lon2) < 0.00037 #This operation will return a set\n",
    "                                                                                         #of true/false so I can extract\n",
    "                                                                                         #the proper rows for each outlier\n",
    "    d2 = trimData[d1]\n",
    "    fname = 'OutlierDFs/'+str(item[0])+'_'+str(item[1])+'.pkd' #Dump the value to a lat/lon filename.\n",
    "    dill.dump(d2,open(fname,'wb'))\n",
    "    c += 1\n",
    "    cDiff += abs(len(d2) - outL[item]) #Add to the total difference for my sanity check later.\n",
    "    if c % 1000 == 0:\n",
    "        print(c)\n",
    "        print(time.time()-now)\n",
    "print(time.time()-now)"
   ]
  }
 ],
 "metadata": {
  "kernelspec": {
   "display_name": "Python 3",
   "language": "python",
   "name": "python3"
  },
  "language_info": {
   "codemirror_mode": {
    "name": "ipython",
    "version": 3
   },
   "file_extension": ".py",
   "mimetype": "text/x-python",
   "name": "python",
   "nbconvert_exporter": "python",
   "pygments_lexer": "ipython3",
   "version": "3.8.5"
  }
 },
 "nbformat": 4,
 "nbformat_minor": 4
}
