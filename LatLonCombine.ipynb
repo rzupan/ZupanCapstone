{
 "cells": [
  {
   "cell_type": "code",
   "execution_count": 2,
   "metadata": {},
   "outputs": [],
   "source": [
    "#The purpose of this script is to determine if there are any Latitude and Longitude pairs\n",
    "#in the list that are close enough to each other to be combined.\n",
    "\n",
    "import dill\n",
    "from math import pi, cos, asin, sqrt\n",
    "from collections import defaultdict\n",
    "import time"
   ]
  },
  {
   "cell_type": "code",
   "execution_count": 2,
   "metadata": {},
   "outputs": [],
   "source": [
    "#Load up the unique latitude and longitude list.\n",
    "unLatLon = dill.load(open('unLatLon.pkd','rb'))"
   ]
  },
  {
   "cell_type": "code",
   "execution_count": 3,
   "metadata": {},
   "outputs": [],
   "source": [
    "#Okay let's write a function that calculates the distance between two latitude and longitude points.\n",
    "#Found out after the fact that since I am looking at pairs that are rather close to each other I can\n",
    "#use something along the lines of a Manhatten distance. I won't change this for now since this is what\n",
    "#I used to combine them.\n",
    "\n",
    "def LatLonDist(lat1,lon1,lat2,lon2):\n",
    "    p = pi/180\n",
    "    a = 0.5 - cos((lat2-lat1)*p)/2 + cos(lat1*p)*cos(lat2*p)*(1 - cos((lon2-lon1)*p))/2\n",
    "    \n",
    "    return 12742*asin(sqrt(a))"
   ]
  },
  {
   "cell_type": "code",
   "execution_count": 4,
   "metadata": {},
   "outputs": [
    {
     "name": "stdout",
     "output_type": "stream",
     "text": [
      "0\n",
      "0.000972747802734375\n",
      "50000\n",
      "362.1200258731842\n",
      "100000\n",
      "1520.6655824184418\n",
      "150000\n",
      "3387.4323320388794\n",
      "200000\n",
      "5739.501895666122\n",
      "250000\n",
      "8530.56358242035\n",
      "300000\n",
      "11931.218693971634\n",
      "350000\n",
      "15870.89264845848\n",
      "400000\n",
      "20417.024757146835\n",
      "450000\n",
      "25394.622072935104\n",
      "500000\n",
      "30855.22665953636\n",
      "550000\n",
      "36528.711652994156\n",
      "600000\n",
      "42561.92740178108\n",
      "650000\n",
      "49027.090188503265\n",
      "700000\n",
      "55785.3745470047\n",
      "750000\n",
      "63014.93811035156\n",
      "800000\n",
      "70718.108304739\n",
      "850000\n",
      "78731.31742072105\n",
      "900000\n",
      "87414.77357172966\n",
      "950000\n",
      "96957.47470521927\n",
      "1000000\n",
      "106203.94837450981\n",
      "1050000\n",
      "116309.43202829361\n",
      "1100000\n",
      "125320.46281886101\n",
      "1150000\n",
      "133395.7528424263\n",
      "1200000\n",
      "142592.9471642971\n",
      "1250000\n",
      "153296.23943328857\n",
      "1300000\n",
      "165256.87449073792\n",
      "1350000\n",
      "177474.3105046749\n"
     ]
    }
   ],
   "source": [
    "#Loop through the latitudes and longitudes (with a nested loop as well). \n",
    "#Ends up being O(n^2), but not sure of a more efficient way to do this.\n",
    "\n",
    "now = time.time() #Timer variable so I can keep track of progress.\n",
    "ii = 0\n",
    "FinalLatLon = defaultdict(int)\n",
    "\n",
    "for item1 in unLatLon:\n",
    "    done = 0 #Variable to let me know if I found any close to the outer loop pair.\n",
    "    if item1 not in FinalLatLon: #Looking back I could have made this more efficient by also including a list of pairs\n",
    "                                 #already added to another lat lon pair.\n",
    "        for item2 in FinalLatLon:\n",
    "            if abs(item1[0] - item2[0]) <= 0.01 and abs(item1[1] - item2[1]) <= 0.01: #First make sure theyre within a km of\n",
    "                                                                                      #each other.\n",
    "                if LatLonDist(item1[0],item1[1],item2[0],item2[1]) <= 0.03: #Then use the function to determine if they are \n",
    "                                                                            #within 30 meters of each other.\n",
    "                    FinalLatLon[item2] += unLatLon[item1]\n",
    "                    done = 1\n",
    "                    break\n",
    "        if done == 0:\n",
    "            FinalLatLon[item1] += unLatLon[item1] #\n",
    "    if ii % 50000 == 0: #Just a sanity check to make sure it's still running.\n",
    "        print(ii)\n",
    "        print(time.time() - now)\n",
    "    ii += 1\n",
    "\n",
    "dill.dump(FinalLatLon,open('FinalLatLon.pkd','wb')) #Dump final results."
   ]
  },
  {
   "cell_type": "code",
   "execution_count": 3,
   "metadata": {},
   "outputs": [],
   "source": [
    "FinalLatLon = dill.load(open('FinalLatLon.pkd','rb')) #Reload data to do some statistics."
   ]
  },
  {
   "cell_type": "code",
   "execution_count": 4,
   "metadata": {},
   "outputs": [],
   "source": [
    "import statistics as stats\n",
    "\n",
    "meanCrash = stats.mean(FinalLatLon.values())\n",
    "stdvCrash = stats.stdev(FinalLatLon.values())"
   ]
  },
  {
   "cell_type": "code",
   "execution_count": 5,
   "metadata": {},
   "outputs": [
    {
     "data": {
      "text/plain": [
       "[<matplotlib.lines.Line2D at 0x7fb99ad71940>]"
      ]
     },
     "execution_count": 5,
     "metadata": {},
     "output_type": "execute_result"
    },
    {
     "data": {
      "image/png": "[encoded data removed]",
      "text/plain": [
       "<Figure size 432x288 with 1 Axes>"
      ]
     },
     "metadata": {
      "needs_background": "light"
     },
     "output_type": "display_data"
    }
   ],
   "source": [
    "#Plot the pairs and counts to see how the data has changed after combining.\n",
    "import matplotlib.pylab as plt\n",
    "\n",
    "xMean = [0,len(FinalLatLon)]\n",
    "\n",
    "\n",
    "LatLonID = list(range(len(FinalLatLon)))\n",
    "plt.scatter(LatLonID,FinalLatLon.values())\n",
    "plt.plot(xMean,[meanCrash,meanCrash],color=\"black\", linestyle=':')\n",
    "plt.plot(xMean,[meanCrash+3*stdvCrash,meanCrash+3*stdvCrash],color = \"red\", linestyle=':')"
   ]
  },
  {
   "cell_type": "code",
   "execution_count": 7,
   "metadata": {},
   "outputs": [],
   "source": [
    "#Consider outliers anything greater than 3 stdvs away from the mean.\n",
    "\n",
    "outL = defaultdict(int)\n",
    "for item in FinalLatLon:\n",
    "    if FinalLatLon[item] > meanCrash+3*stdvCrash:\n",
    "        outL[item] = FinalLatLon[item]"
   ]
  },
  {
   "cell_type": "code",
   "execution_count": 13,
   "metadata": {},
   "outputs": [],
   "source": [
    "dill.dump(outL,open('outlierCrash.pkd','wb')) #finally dump the outlier information"
   ]
  },
  {
   "cell_type": "code",
   "execution_count": null,
   "metadata": {},
   "outputs": [],
   "source": []
  }
 ],
 "metadata": {
  "kernelspec": {
   "display_name": "Python 3",
   "language": "python",
   "name": "python3"
  },
  "language_info": {
   "codemirror_mode": {
    "name": "ipython",
    "version": 3
   },
   "file_extension": ".py",
   "mimetype": "text/x-python",
   "name": "python",
   "nbconvert_exporter": "python",
   "pygments_lexer": "ipython3",
   "version": "3.8.5"
  }
 },
 "nbformat": 4,
 "nbformat_minor": 4
}
